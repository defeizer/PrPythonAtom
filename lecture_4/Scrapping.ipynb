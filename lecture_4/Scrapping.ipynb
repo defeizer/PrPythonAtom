{
 "cells": [
  {
   "cell_type": "markdown",
   "metadata": {},
   "source": [
    "# Flask"
   ]
  },
  {
   "cell_type": "code",
   "execution_count": 1,
   "metadata": {},
   "outputs": [
    {
     "name": "stdout",
     "output_type": "stream",
     "text": [
      "Overwriting simple_flask.py\n"
     ]
    }
   ],
   "source": [
    "%%writefile simple_flask.py\n",
    "\n",
    "from flask import Flask\n",
    "app = Flask(__name__)\n",
    " \n",
    "@app.route(\"/\")\n",
    "def hello():\n",
    "    return \"Hello World!\"\n",
    " \n",
    "if __name__ == \"__main__\":\n",
    "    app.run()\n",
    "    \n",
    "#Теперь нужно запустить, через python simple_flask.py"
   ]
  },
  {
   "cell_type": "code",
   "execution_count": 2,
   "metadata": {},
   "outputs": [
    {
     "name": "stdout",
     "output_type": "stream",
     "text": [
      "Overwriting simple_flask.py\n"
     ]
    }
   ],
   "source": [
    "%%writefile  simple_flask.py\n",
    "\n",
    "from flask import Flask\n",
    "app = Flask(__name__)\n",
    " \n",
    "@app.route(\"/\")\n",
    "def hello():\n",
    "    return \"Hello World!\"\n",
    "\n",
    "@app.route(\"/members/<string:name>/\")\n",
    "def getMember(name):\n",
    "    return name\n",
    "\n",
    "if __name__ == \"__main__\":\n",
    "    app.run()\n",
    "#Теперь нужно запустить, через python simple_flask.py"
   ]
  },
  {
   "cell_type": "markdown",
   "metadata": {},
   "source": [
    "# Парсинг"
   ]
  },
  {
   "cell_type": "code",
   "execution_count": 3,
   "metadata": {},
   "outputs": [
    {
     "name": "stdout",
     "output_type": "stream",
     "text": [
      "Requirement already satisfied: requests in c:\\users\\artyom\\anaconda3\\lib\\site-packages (2.18.4)\n",
      "Requirement already satisfied: bs4 in c:\\users\\artyom\\anaconda3\\lib\\site-packages (0.0.1)\n",
      "Requirement already satisfied: user_agent in c:\\users\\artyom\\anaconda3\\lib\\site-packages (0.1.9)\n",
      "Requirement already satisfied: selenium in c:\\users\\artyom\\anaconda3\\lib\\site-packages (3.14.1)\n",
      "Requirement already satisfied: chardet<3.1.0,>=3.0.2 in c:\\users\\artyom\\anaconda3\\lib\\site-packages (from requests) (3.0.4)\n",
      "Requirement already satisfied: idna<2.7,>=2.5 in c:\\users\\artyom\\anaconda3\\lib\\site-packages (from requests) (2.6)\n",
      "Requirement already satisfied: urllib3<1.23,>=1.21.1 in c:\\users\\artyom\\anaconda3\\lib\\site-packages (from requests) (1.22)\n",
      "Requirement already satisfied: certifi>=2017.4.17 in c:\\users\\artyom\\anaconda3\\lib\\site-packages (from requests) (2018.4.16)\n",
      "Requirement already satisfied: beautifulsoup4 in c:\\users\\artyom\\anaconda3\\lib\\site-packages (from bs4) (4.6.0)\n",
      "Requirement already satisfied: six in c:\\users\\artyom\\anaconda3\\lib\\site-packages (from user_agent) (1.11.0)\n"
     ]
    },
    {
     "name": "stderr",
     "output_type": "stream",
     "text": [
      "distributed 1.21.8 requires msgpack, which is not installed.\n",
      "You are using pip version 10.0.1, however version 18.1 is available.\n",
      "You should consider upgrading via the 'python -m pip install --upgrade pip' command.\n"
     ]
    }
   ],
   "source": [
    "!pip install requests bs4 user_agent selenium"
   ]
  },
  {
   "cell_type": "code",
   "execution_count": 4,
   "metadata": {},
   "outputs": [],
   "source": [
    "import requests\n",
    "from bs4 import BeautifulSoup\n",
    "import json\n",
    "import re"
   ]
  },
  {
   "cell_type": "code",
   "execution_count": 5,
   "metadata": {},
   "outputs": [
    {
     "name": "stdout",
     "output_type": "stream",
     "text": [
      "True\n",
      "200\n",
      "<RequestsCookieJar[<Cookie 1P_JAR=2018-11-01-12 for .google.ru/>, <Cookie NID=144=bXoN3LH4EK-4rx9N3oy8upaq8aGaLtcT-NGGV8QgmIbLGicKZn3iOIJ16VQrHMY7EBXKGII75vZ2hCDnMHQl32hHkwTqiry0_0EZ8koDH_12TwvTxprhS0X3NG_CrRCrRHJSxNbvE0YWPtsv5Iz8aQAmw-Zedib6n7_RTH4ZMPE for .google.ru/>]>\n"
     ]
    }
   ],
   "source": [
    "#Сделаем простой запрос, получим страничку с ленты\n",
    "r = requests.get(\"https://www.google.ru/maps/place/%D0%9F%D1%8F%D1%82%D1%91%D1%80%D0%BE%D1%87%D0%BA%D0%B0/@55.6429543,37.6490466,15z/data=!4m8!1m2!2m1!1z0L_Rj9GC0LXRgNC-0YfQutCw!3m4!1s0x414ab3a425c2ea8f:0x4daedf0c95b63067!8m2!3d55.6385818!4d37.6635352?hl=ru\")\n",
    "print(r.ok)\n",
    "print(r.status_code)\n",
    "print(r.cookies)"
   ]
  },
  {
   "cell_type": "code",
   "execution_count": 6,
   "metadata": {},
   "outputs": [
    {
     "name": "stdout",
     "output_type": "stream",
     "text": [
      "<!DOCTYPE html><html itemscope=\"\" itemtype=\"http://schema.org/Place\" lang=\"ru\"> <head> <link href=\"/maps/preview/opensearch.xml?hl=ru\" title=\"Google Карты\" rel=\"search\" type=\"application/opensearchdescription+xml\"> <title> Google Карты </title> <meta content=\"Найти информацию о местных компаниях, посмотреть карты и получить указания о маршруте в Картах Google.\" name=\"Description\">  <meta content=\"initial-scale=1.0, maximum-scale=1.0, minimum-scale=1.0, user-scalable=no\" name=\"viewport\"> <meta content=\"chrome=1\" http-equiv=\"X-UA-Compatible\"> <meta content=\"notranslate\" name=\"google\"> <meta content=\"origin\" name=\"referrer\">   <meta content=\"Google Карты\" itemprop=\"name\"> <meta content=\"Google Карты\" property=\"og:title\"> <meta content=\"https://maps.google.com/maps/api/staticmap?center=55.6429543%2C37.6490466&amp;zoom=15&amp;size=256x256&amp;language=ru&amp;sensor=false&amp;client=google-maps-frontend&amp;signature=dR6-N1sjn26Jkyy8Q5QUrYo-GXQ\" itemprop=\"image\"> <meta content=\"https://maps.google.com/maps/api/staticmap?center=55.6429543%2C37.6490466&amp;zoom=15&amp;size=256x256&amp;language=ru&amp;sensor=false&amp;client=google-maps-frontend&amp;signature=dR6-N1sjn26Jkyy8Q5QUrYo-GXQ\" property=\"og:image\"> <meta content=\"256\" property=\"og:image:width\"> <meta content=\"256\" property=\"og:image:height\">  <meta content=\"Найти информацию о местных компаниях, посмотреть карты и получить указания о маршруте в Картах Google.\" itemprop=\"description\"> <meta content=\"Найти информацию о местных компаниях, посмотреть карты и получить указания о маршруте в Картах Google.\" property=\"og:description\">  <meta content=\"Google Карты\" property=\"og:site_name\"> <meta content=\"summary\" name=\"twitter:card\">       <script type=\"text/javascript\" nonce=\"3dxGUx423CtcngrnqO4aAQ==\">(function(){(function(){function c(a){this.t={};this.tick=function(a,b,c){b=void 0!=c?c:(new Date).getTime();this.t[a]=b};this.tick(\"start\",null,a)}var b;if(window.performance)var a=(b=window.performance.timing)&&b.responseStart;var d=0<a?new c(a):new c;window.tactilecsi={Timer:c,load:d};b&&(b=b.navigationStart,0<b&&a>=b&&(window.tactilecsi.srt=a-b));try{a=null,window.chrome&&window.chrome.csi&&(a=Math.floor(window.chrome.csi().pageT)),null==a&&window.gtbExternal&&(a=window.gtbExternal.pageT()),null==a&&window.external&&\n",
      "(a=window.external.pageT),a&&(window.tactilecsi.pt=a)}catch(e){}})();}).call(this);</script> <script type=\"text/javascript\" nonce=\"3dxGUx423CtcngrnqO4aAQ==\">function tick(t){if (window.tactilecsi){window.tactilecsi.load.tick(t);}\n",
      "if (window['wtf']&& window['wtf']['trace']&&\n",
      "window['wtf']['trace']['timeStamp']){window['wtf']['trace']['timeStamp']('application.' + t);}\n",
      "}\n",
      "</script> <script type=\"text/javascript\" nonce=\"3dxGUx423CtcngrnqO4aAQ==\">\n",
      "tick('start');tick('p0');</script> <script type=\"text/javascript\" nonce=\"3dxGUx423CtcngrnqO4aAQ==\">(function(){'use strict';var aa=\"function\"==typeof Object.create?Object.create:function(a){var b=function(){};b.prototype=a;return new b},g;if(\"function\"==typeof Object.setPrototypeOf)g=Object.setPrototypeOf;else{var k;a:{var ba={j:!0},l={};try{l.__proto__=ba;k=l.j;break a}catch(a){}k=!1}g=k?function(a,b){a.__proto__=b;if(a.__proto__!==b)throw new TypeError(a+\" is not extensible\");return a}:null}var m=g,p=this,q=function(){},r=function(a){var b=typeof a;if(\"object\"==b)if(a){if(a instanceof Array)return\"array\";if(a instanceof Object)return b;var c=Object.prototype.toString.call(a);if(\"[object Window]\"==c)return\"object\";if(\"[object Array]\"==c||\"number\"==typeof a.length&&\"undefined\"!=typeof a.splice&&\"undefined\"!=typeof a.propertyIsEnumerable&&!a.propertyIsEnumerable(\"splice\"))return\"array\";if(\"[object Function]\"==c||\"undefined\"!=typeof a.call&&\"undefined\"!=typeof a.propertyIsEnumerable&&!a.propertyIsEnumerable(\"call\"))return\"function\"}else return\"null\";else if(\"function\"==b&&\"undefined\"==typeof a.call)return\"object\";return b},t=function(a){var b=typeof a;return\"object\"==b&&null!=a||\"function\"==b},ca=Date.now||function(){return+new Date},u=function(a,b){a=a.split(\".\");var c=p;a[0]in c||\"undefined\"==typeof c.execScript||c.execScript(\"var \"+a[0]);for(var d;a.length&&(d=a.shift());)a.length||void 0===b?c[d]&&c[d]!==Object.prototype[d]?c=c[d]:c=c[d]={}:c[d]=b},v=function(a,b){function c(){}\n",
      "c.prototype=b.prototype;a.i=b.prototype;a.prototype=new c;a.prototype.constructor=a;a.m=function(a,c,f){for(var d=Array(arguments.length-2),e=2;e<arguments.length;e++)d[e-2]=arguments[e];return b.prototype[c].apply(a,d)}};var da=Array.prototype.indexOf?function(a,b){return Array.prototype.indexOf.call(a,b,void 0)}:function(a,b){if(\"string\"==typeof a)return\"string\"==typeof b&&1==b.length?a.indexOf(b,0):-1;for(var c=0;c<a.length;c++)if(c in a&&a[c]===b)return c;return-1};var w=String.prototype.trim?function(a){return a.trim()}:function(a){return/^[\\s\\xa0]*([\\s\\S]*?)[\\s\\xa0]*$/.exec(a)[1]},x=function(a,b){return a<b?-1:a>b?1:0};var y;a:{var ea=p.navigator;if(ea){var fa=ea.userAgent;if(fa){y=fa;break a}}y=\"\"};var ha=function(a,b,c){for(var d in a)b.call(c,a[d],d,a)};var z=function(a){z[\" \"](a);return a};z[\" \"]=q;var ia=-1!=y.indexOf(\"Opera\"),A=-1!=y.indexOf(\"Trident\")||-1!=y.indexOf(\"MSIE\"),ja=-1!=y.indexOf(\"Edge\"),ka=-1!=y.indexOf(\"Gecko\")&&!(-1!=y.toLowerCase().indexOf(\"webkit\")&&-1==y.indexOf(\"Edge\"))&&!(-1!=y.indexOf(\"Trident\")||-1!=y.indexOf(\"MSIE\"))&&-1==y.indexOf(\"Edge\"),la=-1!=y.toLowerCase().indexOf(\"webkit\")&&-1==y.indexOf(\"Edge\"),ma=function(){var a=p.document;return a?a.documentMode:void 0},B;a:{var C=\"\",D=function(){var a=y;if(ka)return/rv:([^\\);]+)(\\)|;)/.exec(a);if(ja)return/Edge\\/([\\d\\.]+)/.exec(a);if(A)return/\\b(?:MSIE|rv)[:]([^\\);]+)(\\)|;)/.exec(a);if(la)return/WebKit\\/(\\S+)/.exec(a);if(ia)return/(?:Version)[ \\/]?(\\S+)/.exec(a)}();D&&(C=D?D[1]:\"\");if(A){var E=ma();if(null!=E&&E>parseFloat(C)){B=String(E);break a}}B=C}var na=B,F={},oa;var pa=p.document;oa=pa&&A?ma()||(\"CSS1Compat\"==pa.compatMode?parseInt(na,10):5):void 0;var G=function(){this.b=this.b;this.g=this.g};G.prototype.b=!1;G.prototype.a=function(){if(this.g)for(;this.g.length;)this.g.shift()()};var H;(H=!A)||(H=9<=Number(oa));var qa=H,I;if(I=A){var J;if(Object.prototype.hasOwnProperty.call(F,\"9\"))J=F[\"9\"];else{for(var K=0,ra=w(String(na)).split(\".\"),sa=w(\"9\").split(\".\"),ta=Math.max(ra.length,sa.length),L=0;0==K&&L<ta;L++){var ua=ra[L]||\"\",va=sa[L]||\"\";do{var M=/(\\d*)(\\D*)(.*)/.exec(ua)||[\"\",\"\",\"\",\"\"],N=/(\\d*)(\\D*)(.*)/.exec(va)||[\"\",\"\",\"\",\"\"];if(0==M[0].length&&0==N[0].length)break;K=x(0==M[1].length?0:parseInt(M[1],10),0==N[1].length?0:parseInt(N[1],10))||x(0==M[2].length,0==N[2].length)||x(M[2],N[2]);ua=M[3];va=N[3]}while(0==K)}J=\n",
      "F[\"9\"]=0<=K}I=!J}var wa=I,xa=function(){if(!p.addEventListener||!Object.defineProperty)return!1;var a=!1,b=Object.defineProperty({},\"passive\",{get:function(){a=!0}});try{p.addEventListener(\"test\",q,b),p.removeEventListener(\"test\",q,b)}catch(c){}return a}();var O=function(a,b){this.type=a;this.currentTarget=this.target=b};O.prototype.a=function(){};var P=function(a,b){O.call(this,a?a.type:\"\");this.relatedTarget=this.currentTarget=this.target=null;this.button=this.screenY=this.screenX=this.clientY=this.clientX=0;this.key=\"\";this.metaKey=this.shiftKey=this.altKey=this.ctrlKey=!1;this.pointerId=0;this.pointerType=\"\";this.b=null;if(a){var c=this.type=a.type,d=a.changedTouches?a.changedTouches[0]:null;this.target=a.target||a.srcElement;this.currentTarget=b;if(b=a.relatedTarget){if(ka){a:{try{z(b.nodeName);var e=!0;break a}catch(f){}e=!1}e||(b=null)}}else\"mouseover\"==\n",
      "c?b=a.fromElement:\"mouseout\"==c&&(b=a.toElement);this.relatedTarget=b;null===d?(this.clientX=void 0!==a.clientX?a.clientX:a.pageX,this.clientY=void 0!==a.clientY?a.clientY:a.pageY,this.screenX=a.screenX||0,this.screenY=a.screenY||0):(this.clientX=void 0!==d.clientX?d.clientX:d.pageX,this.clientY=void 0!==d.clientY?d.clientY:d.pageY,this.screenX=d.screenX||0,this.screenY=d.screenY||0);this.button=a.button;this.key=a.key||\"\";this.ctrlKey=a.ctrlKey;this.altKey=a.altKey;this.shiftKey=a.shiftKey;this.metaKey=\n",
      "a.metaKey;this.pointerId=a.pointerId||0;this.pointerType=\"string\"==typeof a.pointerType?a.pointerType:ya[a.pointerType]||\"\";this.b=a;a.defaultPrevented&&this.a()}};v(P,O);var ya={2:\"touch\",3:\"pen\",4:\"mouse\"};P.prototype.a=function(){P.i.a.call(this);var a=this.b;if(a.preventDefault)a.preventDefault();else if(a.returnValue=!1,wa)try{if(a.ctrlKey||112<=a.keyCode&&123>=a.keyCode)a.keyCode=-1}catch(b){}};var Q=\"closure_listenable_\"+(1E6*Math.random()|0),za=0;var Aa=function(a,b,c,d,e){this.listener=a;this.a=null;this.src=b;this.type=c;this.capture=!!d;this.b=e;this.key=++za;this.f=this.h=!1},Ba=function(a){a.f=!0;a.listener=null;a.a=null;a.src=null;a.b=null};var R=function(a){this.src=a;this.a={};this.b=0};R.prototype.add=function(a,b,c,d,e){var f=a.toString();a=this.a[f];a||(a=this.a[f]=[],this.b++);var h;a:{for(h=0;h<a.length;++h){var n=a[h];if(!n.f&&n.listener==b&&n.capture==!!d&&n.b==e)break a}h=-1}-1<h?(b=a[h],c||(b.h=!1)):(b=new Aa(b,this.src,f,!!d,e),b.h=c,a.push(b));return b};var S=\"closure_lm_\"+(1E6*Math.random()|0),T={},Ca=0,Ea=function(a,b,c,d,e){if(d&&d.once)return Da(a,b,c,d,e);if(\"array\"==r(b)){for(var f=0;f<b.length;f++)Ea(a,b[f],c,d,e);return null}c=Fa(c);return a&&a[Q]?a.a(b,c,t(d)?!!d.capture:!!d,e):Ga(a,b,c,!1,d,e)},Ga=function(a,b,c,d,e,f){if(!b)throw Error(\"Invalid event type\");var h=t(e)?!!e.capture:!!e,n=U(a);n||(a[S]=n=new R(a));c=n.add(b,c,d,h,f);if(c.a)return c;d=Ha();c.a=d;d.src=a;d.listener=c;if(a.addEventListener)xa||(e=h),void 0===e&&(e=!1),a.addEventListener(b.toString(),d,e);else if(a.attachEvent)a.attachEvent(Ia(b.toString()),d);else if(a.addListener&&a.removeListener)a.addListener(d);else throw Error(\"addEventListener and attachEvent are unavailable.\");Ca++;return c},Ha=function(){var a=Ja,b=qa?function(c){return a.call(b.src,b.listener,c)}:function(c){c=a.call(b.src,b.listener,c);if(!c)return c};return b},Da=function(a,b,c,d,e){if(\"array\"==r(b)){for(var f=0;f<b.length;f++)Da(a,b[f],c,d,e);return null}c=Fa(c);return a&&a[Q]?a.b(b,c,t(d)?!!d.capture:!!d,e):Ga(a,b,c,!0,d,e)},Ka=function(a){if(\"number\"!=typeof a&&a&&!a.f){var b=a.src;if(b&&b[Q])b.c(a);else{var c=a.type,d=a.a;b.removeEventListener?b.removeEventListener(c,d,a.capture):b.detachEvent?b.detachEvent(Ia(c),d):b.addListener&&b.removeListener&&b.removeListener(d);Ca--;if(c=U(b)){d=a.type;if(d in c.a){var e=c.a[d],f=da(e,a),h;(h=0<=f)&&Array.prototype.splice.call(e,f,1);h&&(Ba(a),0==c.a[d].length&&(delete c.a[d],c.b--))}0==c.b&&(c.src=null,b[S]=null)}else Ba(a)}}},Ia=function(a){return a in T?T[a]:T[a]=\"on\"+a},Ma=function(a,b,c,d){var e=!0;if(a=U(a))if(b=a.a[b.toString()])for(b=b.concat(),a=0;a<b.length;a++){var f=b[a];f&&f.capture==c&&!f.f&&(f=La(f,d),e=e&&!1!==f)}return e},La=function(a,b){var c=a.listener,d=a.b||a.src;a.h&&Ka(a);return c.call(d,b)},Ja=function(a,b){if(a.f)return!0;if(!qa){if(!b)a:{b=[\"window\",\"event\"];for(var c=p,d=0;d<b.length;d++)if(c=c[b[d]],null==c){b=null;break a}b=c}d=b;b=new P(d,this);c=!0;if(!(0>d.keyCode||void 0!=d.returnValue)){a:{var e=!1;if(0==d.keyCode)try{d.keyCode=-1;break a}catch(h){e=!0}if(e||void 0==d.returnValue)d.returnValue=!0}d=[];for(e=b.currentTarget;e;e=e.parentNode)d.push(e);a=a.type;for(e=d.length-1;0<=e;e--){b.currentTarget=d[e];var f=Ma(d[e],a,!0,b);c=c&&f}for(e=0;e<d.length;e++)b.currentTarget=d[e],f=Ma(d[e],a,!1,b),c=c&&f}return c}return La(a,new P(b,this))},U=function(a){a=a[S];return a instanceof R?a:null},V=\"__closure_events_fn_\"+(1E9*Math.random()>>>0),Fa=function(a){if(\"function\"==r(a))return a;a[V]||(a[V]=function(b){return a.handleEvent(b)});return a[V]};var W=function(a){G.call(this);this.l=a;this.c={}};v(W,G);var Na=[],X=function(a,b,c){\"array\"!=r(c)&&(c&&(Na[0]=c.toString()),c=Na);for(var d=0;d<c.length;d++){var e=Ea(b,c[d],a.handleEvent,!1,a.l||a);if(!e)break;a.c[e.key]=e}},Oa=function(a){ha(a.c,function(a,c){this.c.hasOwnProperty(c)&&Ka(a)},a);a.c={}};W.prototype.a=function(){W.i.a.call(this);Oa(this)};W.prototype.handleEvent=function(){throw Error(\"EventHandler.handleEvent not implemented\");};var Y=function(){W.call(this);var a=document;X(this,a,\"click\");X(this,a,\"mousedown\");X(this,a,\"rightclick\");X(this,a,\"contextmenu\");X(this,a,\"keypress\");X(this,a,\"wheel\")};Y.prototype=aa(W.prototype);Y.prototype.constructor=Y;if(m)m(Y,W);else for(var Z in W)if(\"prototype\"!=Z)if(Object.defineProperties){var Pa=Object.getOwnPropertyDescriptor(W,Z);Pa&&Object.defineProperty(Y,Z,Pa)}else Y[Z]=W[Z];Y.i=W.prototype;Y.prototype.handleEvent=function(a){a={type:a.type,target:a.target,currentTarget:a.currentTarget,time:ca(),o:!0};u(\"globals.fua.data\",a);this.b||(this.b=!0,this.a())};Y.prototype.a=function(){W.prototype.a.call(this);delete p.globals.fua.dispose};u(\"globals.fua.install\",function(){var a=new Y;u(\"globals.fua.dispose\",function(){a.b||(a.b=!0,a.a())})});}).call(this);</script> <script type=\"text/javascript\" nonce=\"3dxGUx423CtcngrnqO4aAQ==\">globals.fua.install();</script> <script type=\"text/javascript\" nonce=\"3dxGUx423CtcngrnqO4aAQ==\">(function(){'use strict';var k=\"function\"==typeof Object.create?Object.create:function(a){var b=function(){};b.prototype=a;return new b},n;if(\"function\"==typeof Object.setPrototypeOf)n=Object.setPrototypeOf;else{var p;a:{var q={o:!0},t={};try{t.__proto__=q;p=t.o;break a}catch(a){}p=!1}n=p?function(a,b){a.__proto__=b;if(a.__proto__!==b)throw new TypeError(a+\" is not extensible\");return a}:null}var u=n,v=this,w=function(a,b,c){a=a.split(\".\");c=c||v;a[0]in c||\"undefined\"==typeof c.execScript||c.execScript(\"var \"+a[0]);for(var d;a.length&&(d=a.shift());)a.length||void 0===b?c[d]&&c[d]!==Object.prototype[d]?c=c[d]:c=c[d]={}:c[d]=b},x=function(a){var b=typeof a;return\"object\"==b&&null!=a||\"function\"==b},y=Date.now||function(){return+new Date};var z=function(a,b,c,d){this.h=b;this.a=this.g=a;this.i=c||0;this.j=d||2};z.prototype.c=function(){return this.g};var A=function(a,b){return v.setTimeout(function(){try{a()}catch(c){throw c;}},b)};var B=function(a,b,c){z.call(this,a,b);this.m=c;this.f=null;this.b=this.l=0};B.prototype=k(z.prototype);B.prototype.constructor=B;if(u)u(B,z);else for(var C in z)if(\"prototype\"!=C)if(Object.defineProperties){var D=Object.getOwnPropertyDescriptor(z,C);D&&Object.defineProperty(B,C,D)}else B[C]=z[C];B.a=z.prototype;var E=function(a){var b=y();if(0==a.b)return a.b=b,!0;var c=b>a.b+a.c();c&&(a.b=b,a.a=Math.min(a.h,a.a*a.j),a.g=Math.min(a.h,a.a+(a.i?Math.round(a.i*(Math.random()-.5)*2*a.a):0)));return c};B.prototype.c=function(){var a=z.prototype.c.call(this);this.f&&v.clearTimeout(this.f);this.f=A(this.m,2*a);return a};var F=function(){this.a={}};F.prototype.get=function(a){a=G(a);return this.a[a]};F.prototype.set=function(a,b){a=G(a);this.a[a]=b};var G=function(a){if(\"object\"===typeof a){var b=[],c;for(c in a)a.hasOwnProperty(c)&&b.push(H(a[c].toString()));return b.join(\" \")}return H(a.toString())},H=function(a){for(;\":\"==a.charAt(a.length-1);)a=a.slice(0,a.length-1);a=a.split(\":\");return a[a.length-1].trim()};var I=/(?:@|\\()([^:]*(:\\/)?[^:]*(:\\d+\\/)?[^:]*):/,J=function(a,b){var c=0;a.forEach(function(a){c+=a.length});b.forEach(function(a){c+=a.length});return 3*(a.length+b.length)+1.1*c};var K=function(){var a=\"undefined\"===typeof LOGGING_ENDPOINT?\"/maps/log204\":LOGGING_ENDPOINT,b=\"undefined\"===typeof JS_VERSION?null:JS_VERSION,c=\"undefined\"===typeof PRODUCT_ID?81:PRODUCT_ID;this.m=\"undefined\"===typeof DEV_MODE?!1:DEV_MODE;this.f=a;this.u=b;this.s=c;this.c=null;this.h=!1;this.j=this.b=null;this.a=new F;this.g=new F;var d=v.onerror,e=this;v.onerror=function(a){d&&d.apply(null,arguments);e.i.call(e,arguments[0],arguments[1],arguments[2])}};K.prototype.log=function(a,b){this.i(a,void 0,void 0,b);return a};var L=function(a,b){var c=a.a.get(b);c||(c=new B(6E4,36E5,function(){var c=a.a,e=G(b);delete c.a[e]}),a.a.set(b,c));c.l++;return c},O=function(a,b,c,d,e){var f=M(x(a)?a.message:a,e||1);f.type=\"error\";f.count=d.l;d.l=0;if(x(a)){if(b=a.file||\"\",f.file=\"string\"==typeof b?b.substr(0,400):\"\",f.line=a.line||0,\"string\"==typeof a.stack){a=a.stack.split(\"\\n\");b=0;for(c=a.length;b<c&&40>b;++b)d=a[b].trim(),0<d.length&&f.stack.push(d);f.stackUrls=[];a=f.stack;b=f.stackUrls;c=1700-(3+1.1*f.message.length);d={};for(var h=0,g=0;g<a.length;++g){var m=a[g],l=m.match(I);if(l){l=l[1];if(d[l])var r=d[l];else r=\"..\"+h+\"..\",d[l]=r,b.push(l),h++;a[g]=m.replace(l,r)}}m=d=J(a,b);g=\"\";for(h=null;m>c;){g=\n",
      "a.pop();h=null;m=\"..\"+(b.length-1)+\"..\";if(-1<g.indexOf(m)){l=!1;for(r=a.length-1;0<=r;r--)if(-1<a[r].indexOf(m)){l=!0;break}l||(h=b.pop())}m=J(a,b)}0>=Math.ceil(d-m)?a=0:(c=Math.floor(c-m),3<c&&(g=g.length>c?g.substr(0,c-3)+\"...\":g,a.push(g),c-=g.length,h&&3<c&&b.push(h.length>c?h.substr(0,c-3)+\"...\":h)),a=Math.ceil(d-J(a,b)));f.stackTruncation=a}}else f.file=\"string\"==typeof b?b.substr(0,400):\"\",f.line=c||0;N(f,e);return f},N=function(a,b){0<=a.message.indexOf(\"887a0005\")&&(a.errorType=9);b||\"Script error\"!=a.message&&\"Script error.\"!=a.message||(a.errorType=9);-1!=a.message.indexOf(\"Not enough storage is available to complete this operation.\")&&(a.errorType=9);0<=a.message.indexOf(\"ArrayBuffer length minus the\")&&(a.errorType=9);a.message.match(/new RegExp.*ludo_cid/)&&(a.errorType=9);b=a.stack;for(var c=0;c<b.length;++c)if(b[c].match(/phantomjs/i)){a.errorType=9;break}b=function(a){return!a||0<=a.indexOf(\"/maps\")?!0:!1};0<=a.message.indexOf(\"JSON syntax error\")&&!b(a.file)&&(a.errorType=9);b=function(a){return 0==a.indexOf(\"resource://\")||0==a.indexOf(\"https://\")&&8!=a.indexOf(\"www.google\")&&8!=a.indexOf(\"maps.gstatic\")&&8!=a.indexOf(\"www.gstatic\")&&8!=a.indexOf(\"apis.google\")?!1:!0};if(c=a.stackUrls)for(var d=0;d<c.length;++d)b(c[d])||(a.errorType=9)};K.prototype.i=function(a,b,c,d){var e=x(a)?a.message:a,f=this.g.get(e);if(f)f&&e.length>f.message.length&&(f.message=e);else if(f=L(this,e),E(f)){var h=O(a,b,c,f,d);P(this,h);var g=this;g.g.set(e,h);v.setTimeout(function(){g.c&&g.c(h);g.h||Q(g,h);var a=g.g,b=G(e);delete a.a[b]},0)}};var P=function(a,b){var c=b.message+\"\\n\";for(var d=0,e=b.stack.length;d<e;++d)c+=b.stack[d]+\"\\n\";d=0;for(e=b.stackUrls.length;d<e;++d)c+=\"..\"+d+\"..=\"+b.stackUrls[d]+\"\\n\";a.b||(a.b=c);a.j=c},Q=function(a,b){if(a.f){var c=2;b.count&&1<b.count&&c++;var d=3;b.file&&d++;b.line&&d++;b.stack&&(d+=b.stack.length);0<b.stackTruncation&&d++;b.stackUrls&&(d+=b.stackUrls.length);var e=[];e.push(\"!8m\");e.push(\"\"+(c+d));e.push(\"!2e6\");b.count&&1<b.count&&(e.push(\"!7i\"),e.push(b.count));e.push(\"!9m\");e.push(\"\"+d);e.push(\"!1s\");e.push(R(b.message));b.file&&(e.push(\"!2s\"),e.push(R(b.file)));b.line&&(e.push(\"!3i\"),e.push(b.line));if(b.stack)for(c=0,d=b.stack.length;c<d;++c)e.push(\"!4s\"),e.push(R(b.stack[c]));e.push(\"!6s\");e.push(R(a.u||\n",
      "\"\"));e.push(\"!8e\"+b.errorType);0<b.stackTruncation&&(e.push(\"!9i\"),e.push(b.stackTruncation));if(b.stackUrls)for(c=0,d=b.stackUrls.length;c<d;c++)e.push(\"!10s\"),e.push(R(b.stackUrls[c]));e.push(\"!11m1\");e.push(\"!7e\");e.push(String(a.s||0));var f=a.f+(0<=a.f.indexOf(\"?\")?\"&\":\"?\")+\"pb=\"+e.join(\"\");if(a.m)(a=v.console)&&a.log.call(a,f);else{var h=null;v.XMLHttpRequest&&(h=new v.XMLHttpRequest);h&&v.setTimeout(function(){h.open(\"GET\",f,!0);h.send(null)},0)}}},R=function(a){a=a||\"\";0<a.indexOf(\"*\")&&(a=a.replace(S,\"*2A\"));0<a.indexOf(\"!\")&&(a=a.replace(T,\"*21\"));return encodeURIComponent(a)},M=function(a,b){var c={};c.message=a?a.substr(0,400):\"\";c.file=\"\";c.line=0;c.stack=[];c.stackUrls=[];c.errorType=void 0===b?1:b;return c},T=/(!)/g,S=/(\\*)/g;if(\"undefined\"==typeof globals||void 0===globals.v){var U=new K,V=function(a,b){return U.log(a,b)};v._DumpException=V;w(\"globals.ErrorHandler.listen\",function(a){U.c=a},void 0);w(\"_._DumpException\",V,v);w(\"globals.ErrorHandler.dr\",function(){U.h=!0},void 0);w(\"globals.ErrorHandler.log\",V,void 0);w(\"globals.ErrorHandler.ne\",M,void 0);w(\"globals.ErrorHandler.fe\",function(){return U.b},void 0);w(\"globals.ErrorHandler.mre\",function(){return U.j},void 0)};}).call(this);</script> <script type=\"text/javascript\" nonce=\"3dxGUx423CtcngrnqO4aAQ==\">window._ = window._ || {};window._._DumpException = function(e){throw globals.ErrorHandler.log(e);};window._DumpException = function(e){throw globals.ErrorHandler.log(e);};</script> <link href=\"//www.google.com/images/branding/product/ico/maps_32dp.ico\" rel=\"shortcut icon\"> <script type=\"text/javascript\" nonce=\"3dxGUx423CtcngrnqO4aAQ==\">(function(){window.APP_OPTIONS=[null,\"20181028.0\",null,[\"/search?tbm\\u003dmap\\u0026authuser\\u003d0\\u0026hl\\u003dru\\u0026gl\\u003dru\",\"/s?tbm\\u003dmap\\u0026gs_ri\\u003dmaps\\u0026suggest\\u003dp\\u0026authuser\\u003d0\\u0026hl\\u003dru\\u0026gl\\u003dru\",\"/maps/preview/directions?authuser\\u003d0\\u0026hl\\u003dru\\u0026gl\\u003dru\",null,\"/maps/preview/entity?authuser\\u003d0\\u0026hl\\u003dru\\u0026gl\\u003dru\",\"/maps/preview/vp?authuser\\u003d0\\u0026hl\\u003dru\\u0026gl\\u003dru\",[[\"/maps/vt\"]\n",
      ",441,[\"/maps/vt/stream\"]\n",
      ",null,0,[[1,\"https://www.gstatic.com/maps/res/CompactLegend-RoadmapSatellite-BeckWithoutDots-6dc8a332a65022b074d7546b5b7fb97c\"]\n",
      ",[2,\"https://www.gstatic.com/maps/res/CompactLegend-RoadmapSatellite-BeckWithoutDots-6dc8a332a65022b074d7546b5b7fb97c\"]\n",
      ",[3,\"https://www.gstatic.com/maps/res/CompactLegend-RoadmapSatellite-BeckWithoutDots-6dc8a332a65022b074d7546b5b7fb97c\"]\n",
      ",[4,\"https://www.gstatic.com/maps/res/CompactLegend-Navigation-BeckWithoutDots-6dc8a332a65022b074d7546b5b7fb97c\"]\n",
      ",[5,\"https://www.gstatic.com/maps/res/CompactLegend-NavigationLowLight-BeckWithoutDots-6dc8a332a65022b074d7546b5b7fb97c\"]\n",
      ",[6,\"https://www.gstatic.com/maps/res/CompactLegend-NavigationLowLight-BeckWithoutDots-6dc8a332a65022b074d7546b5b7fb97c\"]\n",
      ",[7,\"https://www.gstatic.com/maps/res/CompactLegend-NonRoadmap-BeckWithoutDots-6dc8a332a65022b074d7546b5b7fb97c\"]\n",
      ",[8,\"https://www.gstatic.com/maps/res/CompactLegend-Roadmap-BeckWithoutDots-6dc8a332a65022b074d7546b5b7fb97c\"]\n",
      ",[9,\"https://www.gstatic.com/maps/res/CompactLegend-RoadmapAmbiactive-BeckWithoutDots-6dc8a332a65022b074d7546b5b7fb97c\"]\n",
      ",[10,\"https://www.gstatic.com/maps/res/CompactLegend-Roadmap-BeckWithoutDots-6dc8a332a65022b074d7546b5b7fb97c\"]\n",
      ",[11,\"https://www.gstatic.com/maps/res/CompactLegend-RoadmapSatellite-BeckWithoutDots-6dc8a332a65022b074d7546b5b7fb97c\"]\n",
      ",[12,\"https://www.gstatic.com/maps/res/CompactLegend-Terrain-BeckWithoutDots-6dc8a332a65022b074d7546b5b7fb97c\"]\n",
      ",[13,\"https://www.gstatic.com/maps/res/CompactLegend-Navigation-BeckWithoutDots-6dc8a332a65022b074d7546b5b7fb97c\"]\n",
      ",[14,\"https://www.gstatic.com/maps/res/CompactLegend-NavigationFreeNav-BeckWithoutDots-6dc8a332a65022b074d7546b5b7fb97c\"]\n",
      ",[15,\"https://www.gstatic.com/maps/res/CompactLegend-RoadmapAmbiactive-BeckWithoutDots-6dc8a332a65022b074d7546b5b7fb97c\"]\n",
      ",[16,\"https://www.gstatic.com/maps/res/CompactLegend-RoadmapAmbiactiveLowBit-BeckWithoutDots-6dc8a332a65022b074d7546b5b7fb97c\"]\n",
      ",[17,\"https://www.gstatic.com/maps/res/CompactLegend-NavigationFreeNavLowLight-BeckWithoutDots-6dc8a332a65022b074d7546b5b7fb97c\"]\n",
      ",[18,\"https://www.gstatic.com/maps/res/CompactLegend-TransitFocused-BeckWithoutDots-6dc8a332a65022b074d7546b5b7fb97c\"]\n",
      ",[19,\"https://www.gstatic.com/maps/res/CompactLegend-BasemapEditing-BeckWithoutDots-6dc8a332a65022b074d7546b5b7fb97c\"]\n",
      ",[20,\"https://www.gstatic.com/maps/res/CompactLegend-RouteOverview-BeckWithoutDots-6dc8a332a65022b074d7546b5b7fb97c\"]\n",
      ",[21,\"https://www.gstatic.com/maps/res/CompactLegend-Roadmap-BeckWithoutDots-6dc8a332a65022b074d7546b5b7fb97c\"]\n",
      ",[22,\"https://www.gstatic.com/maps/res/CompactLegend-NavigationEmbeddedAuto-BeckWithoutDots-6dc8a332a65022b074d7546b5b7fb97c\"]\n",
      "]\n",
      ",817,\"/maps/vt\",\"https://www.google.com/maps/vt/sxforms?ep\\u003d441\\u0026v\\u003d6dc8a332a65022b074d7546b5b7fb97c\"]\n",
      ",[\"//khms0.google.com/kh/v\\u003d817\",\"//khms1.google.com/kh/v\\u003d817\",\"//khms2.google.com/kh/v\\u003d817\",\"//khms3.google.com/kh/v\\u003d817\"]\n",
      ",\"/maps/preview/log204?authuser\\u003d0\\u0026hl\\u003dru\\u0026gl\\u003dru\",[\"//geo0.ggpht.com/cbk?cb_client\\u003dmaps_sv.tactile\\u0026authuser\\u003d0\\u0026hl\\u003dru\\u0026gl\\u003dru\",\"//geo1.ggpht.com/cbk?cb_client\\u003dmaps_sv.tactile\\u0026authuser\\u003d0\\u0026hl\\u003dru\\u0026gl\\u003dru\",\"//geo2.ggpht.com/cbk?cb_client\\u003dmaps_sv.tactile\\u0026authuser\\u003d0\\u0026hl\\u003dru\\u0026gl\\u003dru\",\"//geo3.ggpht.com/cbk?cb_client\\u003dmaps_sv.tactile\\u0026authuser\\u003d0\\u0026hl\\u003dru\\u0026gl\\u003dru\"]\n",
      ",null,null,null,\"//kh.google.com/rt/earth\",null,null,\"/maps/preview/placeactions/starring?authuser\\u003d0\\u0026hl\\u003dru\\u0026gl\\u003dru\",\"/maps/reportmapissue?authuser\\u003d0\\u0026hl\\u003dru\\u0026gl\\u003dru\",\"/maps/preview/suggest?authuser\\u003d0\\u0026hl\\u003dru\\u0026gl\\u003dru\",\"/maps/preview/reveal?authuser\\u003d0\\u0026hl\\u003dru\\u0026gl\\u003dru\",null,\"/maps/mm?authuser\\u003d0\\u0026hl\\u003dru\\u0026gl\\u003dru\",\"/maps/preview/photo?authuser\\u003d0\\u0026hl\\u003dru\\u0026gl\\u003dru\",null,\"/maps/preview/gme/list?authuser\\u003d0\\u0026hl\\u003dru\\u0026gl\\u003dru\",null,\"/maps/preview/placeupdate?authuser\\u003d0\\u0026hl\\u003dru\\u0026gl\\u003dru\",\"/maps/preview/gme/details?authuser\\u003d0\\u0026hl\\u003dru\\u0026gl\\u003dru\",\"/maps/preview/placeactions/writeaction?authuser\\u003d0\\u0026hl\\u003dru\\u0026gl\\u003dru\",\"/maps/preview/shorturl\",\"/gen_204\",null,\"/maps/sendtocar/devices?authuser\\u003d0\\u0026hl\\u003dru\\u0026gl\\u003dru\",\"/maps/sendtocar/send?authuser\\u003d0\\u0026hl\\u003dru\\u0026gl\\u003dru\",\"/maps/preview/assist?authuser\\u003d0\\u0026hl\\u003dru\\u0026gl\\u003dru\",\"/maps/preview/reportdataproblem?authuser\\u003d0\\u0026hl\\u003dru\\u0026gl\\u003dru\",null,\"/maps/preview/userprefswrite?authuser\\u003d0\\u0026hl\\u003dru\\u0026gl\\u003dru\",\"/maps/preview/userprefsread?authuser\\u003d0\\u0026hl\\u003dru\\u0026gl\\u003dru\",\"/maps/preview/categories?authuser\\u003d0\\u0026hl\\u003dru\\u0026gl\\u003dru\",null,\"/maps/preview/pegman?authuser\\u003d0\\u0026hl\\u003dru\\u0026gl\\u003dru\",\"/locationhistory/preview/mas?authuser\\u003d0\\u0026hl\\u003dru\\u0026gl\\u003dru\",\"/maps/photometa/v1?authuser\\u003d0\\u0026hl\\u003dru\\u0026gl\\u003dru\",\"/maps/preview/sendtodevice?authuser\\u003d0\\u0026hl\\u003dru\\u0026gl\\u003dru\",\"//maps.gstatic.com\",\"//khms.google.com/dm/\",[\"https://lh3.ggpht.com/\",\"https://lh4.ggpht.com/\",\"https://lh5.ggpht.com/\",\"https://lh6.ggpht.com/\"]\n",
      ",\"/maps/photometa/ac/\",\"/maps/photometa/si/v1?authuser\\u003d0\\u0026hl\\u003dru\\u0026gl\\u003dru\",\"/maps/timeline/_rpc/pe?authuser\\u003d0\\u0026hl\\u003dru\\u0026gl\\u003dru\",\"/maps/timeline/_rpc/pd?authuser\\u003d0\\u0026hl\\u003dru\\u0026gl\\u003dru\",\"/maps/timeline/_rpc/pc?authuser\\u003d0\\u0026hl\\u003dru\\u0026gl\\u003dru\",\"/maps/preview/directionsassist?authuser\\u003d0\\u0026hl\\u003dru\\u0026gl\\u003dru\",\"/maps/timeline/_rpc/phe?authuser\\u003d0\\u0026hl\\u003dru\\u0026gl\\u003dru\",\"/maps/preview/notifications/reg?authuser\\u003d0\\u0026hl\\u003dru\\u0026gl\\u003dru\",\"/maps/preview/notifications/unreg?authuser\\u003d0\\u0026hl\\u003dru\\u0026gl\\u003dru\",\"/maps/preview/notifications/fetch?authuser\\u003d0\\u0026hl\\u003dru\\u0026gl\\u003dru\",\"/maps/preview/notifications/mark?authuser\\u003d0\\u0026hl\\u003dru\\u0026gl\\u003dru\",\"/maps/preview/reviews?authuser\\u003d0\\u0026hl\\u003dru\\u0026gl\\u003dru\",\"/maps/photometa/acz/\",\"/maps/preview/knowledge?authuser\\u003d0\\u0026hl\\u003dru\\u0026gl\\u003dru\",\"/maps/preview/pi?authuser\\u003d0\\u0026hl\\u003dru\\u0026gl\\u003dru\",\"/maps/preview/editsformoderation?authuser\\u003d0\\u0026hl\\u003dru\\u0026gl\\u003dru\",\"/maps/preview/vope?authuser\\u003d0\\u0026hl\\u003dru\\u0026gl\\u003dru\",\"/maps/timeline/_rpc/placelist/create?authuser\\u003d0\\u0026hl\\u003dru\\u0026gl\\u003dru\",\"/maps/timeline/_rpc/placelist/additem?authuser\\u003d0\\u0026hl\\u003dru\\u0026gl\\u003dru\",\"/maps/timeline/_rpc/placelist/delete?authuser\\u003d0\\u0026hl\\u003dru\\u0026gl\\u003dru\",\"/maps/timeline/_rpc/placelist/edit?authuser\\u003d0\\u0026hl\\u003dru\\u0026gl\\u003dru\",\"/maps/timeline/_rpc/placelist/removeitem?authuser\\u003d0\\u0026hl\\u003dru\\u0026gl\\u003dru\",\"/maps/preview/passiveassist?authuser\\u003d0\\u0026hl\\u003dru\\u0026gl\\u003dru\",\"/maps/preview/locationsharing/read?authuser\\u003d0\\u0026hl\\u003dru\\u0026gl\\u003dru\",\"/maps/timeline/_rpc/placelist/follow?authuser\\u003d0\\u0026hl\\u003dru\\u0026gl\\u003dru\",\"/maps/timeline/_rpc/placelist/share?authuser\\u003d0\\u0026hl\\u003dru\\u0026gl\\u003dru\",\"/maps/preview/notifications/prefs?authuser\\u003d0\\u0026hl\\u003dru\\u0026gl\\u003dru\",\"/maps/timeline/_rpc/placelist/get?authuser\\u003d0\\u0026hl\\u003dru\\u0026gl\\u003dru\",\"/maps/preview/areatraffic?authuser\\u003d0\\u0026hl\\u003dru\\u0026gl\\u003dru\",\"/maps/preview/localposts?authuser\\u003d0\\u0026hl\\u003dru\\u0026gl\\u003dru\",\"/maps/timeline/_rpc/placelist/updateitem?authuser\\u003d0\\u0026hl\\u003dru\\u0026gl\\u003dru\",\"/maps/preview/lp?authuser\\u003d0\\u0026hl\\u003dru\\u0026gl\\u003dru\",\"/maps/preview/blockaddomain?authuser\\u003d0\\u0026hl\\u003dru\\u0026gl\\u003dru\",\"/maps/preview/review/deletereview?authuser\\u003d0\\u0026hl\\u003dru\\u0026gl\\u003dru\",null,\"/maps/preview/rapfeatures?authuser\\u003d0\\u0026hl\\u003dru\\u0026gl\\u003dru\",\"/maps/preview/review/writereview?authuser\\u003d0\\u0026hl\\u003dru\\u0026gl\\u003dru\",\"/maps/preview/review/votereview?authuser\\u003d0\\u0026hl\\u003dru\\u0026gl\\u003dru\",\"/maps/preview/merchantstatus?authuser\\u003d0\\u0026hl\\u003dru\\u0026gl\\u003dru\"]\n",
      ",null,null,1,null,[\"ru\",\"ru\",\"Россия\"]\n",
      ",null,0,\"bvDaW8ge6-CuBNrOk7AJ\",null,null,null,null,null,null,null,null,null,null,null,[null,\"a\",null,null,null,null,null,null,null,null,null,null,null,null,null,null,null,[null,null,null,null,0,0,null,0,1,0,0,0]\n",
      ",null,null,null,[null,null,null,null,null,2,3,2]\n",
      "]\n",
      ",[\"\",null,\"\"]\n",
      ",[2,1]\n",
      ",0,[\"//www.google.com/intl/ru_ru/privacy.html\",\"//www.google.com/intl/ru_ru/help/terms_maps.html\",null,null,null,\"//support.google.com/maps/?hl\\u003dru\\u0026authuser\\u003d0\",\"https://docs.google.com/picker\",null,\"/maps/sendtocar\",\"/adwords/express/how-it-works.html?utm_source\\u003dawx\\u0026utm_medium\\u003det\\u0026utm_campaign\\u003dww-ww-et-awx-symh-maps-nelson\\u0026hl\\u003dru\\u0026authuser\\u003d0\\u0026gl\\u003dru\",\"https://accounts.google.com/ServiceLogin?hl\\u003dru\",[null,\"Подробнее...\",null,\"0ahUKEwjIjar5l7PeAhVrsIsKHVrnBJYQ8FkIAigA\",null,\"newmaps_mylocation\"]\n",
      ",\"https://business.google.com/create?service\\u003dplus\\u0026hl\\u003dru\\u0026authuser\\u003d0\",\"https://www.google.com/maps/api/js/reviews?key\\u003dAIzaSyAQiTKe3tivKXammrJ6ov6u8E7KwZPNFss\\u0026language\\u003dru\",\"//www.google.com/settings/accounthistory/location?hl\\u003dru\\u0026authuser\\u003d0\",\"/maps/timeline?hl\\u003dru\\u0026authuser\\u003d0\",\"//www.google.com/local/guides/signup?utm_source\\u003dtactile\\u0026utm_medium\\u003do\\u0026utm_campaign\\u003dtactile_contributions_panel\\u0026hl\\u003dru\\u0026authuser\\u003d0\",\"https://support.google.com/websearch/answer/6276008\"]\n",
      ",null,null,null,null,0,[3,4]\n",
      ",null,null,[null,null,null,null,null,null,81]\n",
      ",[[]\n",
      ",[[1,[[[2,\"traffic\",null,[[\"incidents\",\"1\"]\n",
      ",[\"incidents_text\",\"1\"]\n",
      "]\n",
      "]\n",
      "]\n",
      ",[[14,[[\"solid\"]\n",
      ",[\"offset_polylines\"]\n",
      "]\n",
      "]\n",
      "]\n",
      "]\n",
      "]\n",
      ",[2,[[[2,\"transit\"]\n",
      "]\n",
      ",[[19]\n",
      "]\n",
      "]\n",
      "]\n",
      ",[3,[[[2,\"bike\"]\n",
      "]\n",
      ",[[27]\n",
      "]\n",
      "]\n",
      "]\n",
      ",[4,[null,null,1]\n",
      "]\n",
      ",[6,[[[2,\"travel\"]\n",
      "]\n",
      "]\n",
      "]\n",
      "]\n",
      "]\n",
      ",0,[\"/maps/_/js/\",\"m\",\"maps.m.ru.n21srML_SvM.O\",\"ACT90oH_eA2ZRZdo0Byr8p6pzkGaRnw7gA\"]\n",
      ",null,null,[10200083,10201956,10202445,10202457,10202536,10202569,10202578,10202620,10202637,10202677,10202679,10202681,10202718,10202724,10202747,10202757,10202770,10202786,10202788]\n",
      ",86400,null,null,null,1,null,null,1,null,null,null,[[[1,0,3]\n",
      ",[2,1,2]\n",
      ",[2,0,3]\n",
      ",[3,0,3]\n",
      ",[8,0,3]\n",
      ",[3,1,2]\n",
      ",[10,0,3]\n",
      ",[10,1,2]\n",
      ",[10,0,4]\n",
      "]\n",
      ",1,null,0]\n",
      ",[]\n",
      ",null,null,1,null,[4111425,1358757,1358902]\n",
      ",0,null,[\"/maps/_/js/\",\"mvw\",\"maps.mvw.ru.SRAroQzJKaI.O\",\"ACT90oE86jTfPpm0VjGBPqbhAzuwlLAeBg\"]\n",
      ",[0,1]\n",
      ",null,null,1,1,[null,null,null,1,null,1,null,[1]\n",
      "]\n",
      "]\n",
      ";window.APP_INITIALIZATION_STATE=[[[9006.588140836688,37.6490466,55.6429543]\n",
      ",null,[1024,768]\n",
      ",13.1]\n",
      ",[[[\"m\",[14,9902,5128]\n",
      ",7,[441147104,441147104,441147104,441147104,441147104,441147104,441147008,441147092,441147080,441147080,441147068,441147068,441147068,441147092,441147092,441147080,441147080,441147068,441147068,441147008,441147092,441147104,441147104,441147104,441147068,441147068,441147008,441147092,441147104,441147104,441147104,441147068,441147068,441147032,441147056,441147104,441147104,441147104,441146984,441147032,441147032,441147032]\n",
      "]\n",
      ",[\"m\",[13,4951,2564]\n",
      ",4,[441147092,441147104,441147104,441147104,441147104,441147068,441147068,441147068,441147104,441147056,441147056,441147056]\n",
      "]\n",
      ",[\"m\",[15,19807,10259]\n",
      ",7,[441147104,441147092,441147092,441147104,441147104,441147104,441146996,441147104,441147092,441147092,441147104,441147104,441147104,441146996,441147104,441146984,441147056,441147104,441147104,441147104,441146996,441147104,441146984,441147056,441147092,441147092,441147092,441146804,441147092,441147092,441146816,441147092,441147092,441147092,441147008]\n",
      "]\n",
      "]\n",
      "]\n",
      ",null,null,null,[null,null,[null,[2,37.6490466,55.6429543,null,null,15.0]\n",
      "]\n",
      ",[[null,[\"пятерочка\"]\n",
      "]\n",
      ",null,[\"0x414ab3a425c2ea8f:0x4daedf0c95b63067\",\"Пятёрочка\",null,null,null,null,null,[null,null,55.6385818,37.6635352]\n",
      "]\n",
      "]\n",
      "]\n",
      ",null,null,[59,63,60,67,61,66,65]\n",
      ",[\"Google Карты\",\"Найти информацию о местных компаниях, посмотреть карты и получить указания о маршруте в Картах Google.\",\"https://maps.google.com/maps/api/staticmap?center\\u003d55.6429543%2C37.6490466\\u0026zoom\\u003d15\\u0026size\\u003d256x256\\u0026language\\u003dru\\u0026sensor\\u003dfalse\\u0026client\\u003dgoogle-maps-frontend\\u0026signature\\u003ddR6-N1sjn26Jkyy8Q5QUrYo-GXQ\",[256,256]\n",
      "]\n",
      ",null,[\"sc2\",\"per\",\"mo\",\"lp\",\"ti\",\"ds\",\"stx\",\"pwd\",\"ppl\",\"log\",\"std\",\"b\"]\n",
      "]\n",
      ";window.APP_FLAGS=[0,0,0,0.25,1,0,0,1,1,0,0,2,2,1,0,0,1,0,0,0,0,0,0,1,2,1,1,1,0,1,0,1,0,3,1,1,1,3,0,4,1,0,\"\",0,1,0,null,0,0,0,0,1,\"9673CF\",1,0,1,10,25000,10.0,0,\"\",0,0,1,0,1,0,1,6,16,0,\"\",0,1,1,0,0,1,0,0,0,0,0,0,0,0,1,0,0,0,1,0,1,2,0,0,1,0,0,0,1,1,0,0,2,0,0,0,1,1,1,1,1,0,0,1,\"\",0,0,0,1,0,0,1,13,1,0,0,1.0,0,0,1,20,0,0,30,0,1,0,0,0,1,0,1,null,0,0,0,0,2,0,0,0,0,null,2,1,0,0,1,0,null,0,null,null,0,3,null,1,0,null,1,0,\"https://tpc.googlesyndication.com/simgad/12443843956218829127?w\\u003d40\\u0026h\\u003d40\",0,0,1,null,9,\"\",1,null,null,1,null,0,null,null,0]\n",
      ";window.VECTORTOWN_FLAGS=[0,1,null,2,0,null,1,null,null,null,null,null,null,null,1]\n",
      ";window.DEV_MODE=false;window.JS_VERSION='maps.m.ru.n21srML_SvM.O';window.LOGGING_ENDPOINT='/maps/preview/log204?authuser\\x3d0\\x26hl\\x3dru\\x26gl\\x3dru';window.PRODUCT_ID=81;})();</script>    <script type=\"text/javascript\" nonce=\"3dxGUx423CtcngrnqO4aAQ==\">(function(){'use strict';var b=this;var d=function(){this.a=null;this.b=\"\"};d.prototype.start=function(){var a=this.a=document;if(this.b=\"hidden\"in a?\"visibilitychange\":\"mozHidden\"in a?\"mozvisibilitychange\":\"msHidden\"in a?\"msvisibilitychange\":\"webkitHidden\"in a?\"webkitvisibilitychange\":\"\"){a=this.a;var c=e;a.addEventListener&&a.addEventListener(this.b,c,!1)}};d.prototype.stop=function(){if(this.a){var a=this.a,c=e;a.removeEventListener&&a.removeEventListener(this.b,c,!1)}};var e=function(){var a=document,c=!1;\"hidden\"in a?c=a.hidden:\"mozHidden\"in a?c=a.mozHidden:\"msHidden\"in a?c=a.msHidden:\"webkitHidden\"in a&&(c=a.webkitHidden);c?b.tick(\"bg0\"):b.tick(\"bg1\")},f=new d;f.start();var g=function(){f.stop()},h=[\"globals\",\"BackgroundTicks\",\"stop\"],k=b;h[0]in k||\"undefined\"==typeof k.execScript||k.execScript(\"var \"+h[0]);for(var l;h.length&&(l=h.shift());){var m;if(m=!h.length)m=void 0!==g;m?k[l]=g:k[l]&&k[l]!==Object.prototype[l]?k=k[l]:k=k[l]={}};}).call(this);</script>  <style type=\"text/css\">@font-face {\n",
      "  font-family: 'Roboto';\n",
      "  font-style: normal;\n",
      "  font-weight: 300;\n",
      "  src: local('Roboto Light'), local('Roboto-Light'), url(//fonts.gstatic.com/s/roboto/v18/KFOlCnqEu92Fr1MmSU5vAw.ttf) format('truetype');\n",
      "}\n",
      "@font-face {\n",
      "  font-family: 'Roboto';\n",
      "  font-style: normal;\n",
      "  font-weight: 400;\n",
      "  src: local('Roboto Regular'), local('Roboto-Regular'), url(//fonts.gstatic.com/s/roboto/v18/KFOmCnqEu92Fr1Me5Q.ttf) format('truetype');\n",
      "}\n",
      "@font-face {\n",
      "  font-family: 'Roboto';\n",
      "  font-style: normal;\n",
      "  font-weight: 500;\n",
      "  src: local('Roboto Medium'), local('Roboto-Medium'), url(//fonts.gstatic.com/s/roboto/v18/KFOlCnqEu92Fr1MmEU9vAw.ttf) format('truetype');\n",
      "}\n",
      "@font-face {\n",
      "  font-family: 'Roboto';\n",
      "  font-style: normal;\n",
      "  font-weight: 700;\n",
      "  src: local('Roboto Bold'), local('Roboto-Bold'), url(//fonts.gstatic.com/s/roboto/v18/KFOlCnqEu92Fr1MmWUlvAw.ttf) format('truetype');\n",
      "}\n",
      "@font-face {\n",
      "  font-family: 'Product Sans';\n",
      "  font-style: normal;\n",
      "  font-weight: 400;\n",
      "  src: local('Product Sans'), local('ProductSans-Regular'), url(//fonts.gstatic.com/s/productsans/v9/pxiDypQkot1TnFhsFMOfGShVF9eL.ttf) format('truetype');\n",
      "}\n",
      "#gbar,#guser{font-size:13px;padding-top:1px !important;}#gbar{height:22px}#guser{padding-bottom:7px !important;text-align:right}.gbh,.gbd{border-top:1px solid #c9d7f1;font-size:1px}.gbh{height:0;position:absolute;top:24px;width:100%}@media all{.gb1{height:22px;margin-right:.5em;vertical-align:top}#gbar{float:left}}a.gb1,a.gb4{text-decoration:underline !important}a.gb1,a.gb4{color:#00c !important}.gbi .gb4{color:#dd8e27 !important}.gbf .gb4{color:#900 !important}\n",
      "html, body { font-family: Roboto, Arial, sans-serif; }</style> <style>html,body{margin:0;padding:0}body{-ms-touch-action:none;touch-action:none;overflow:hidden}a,button,h1,h2,h3,h4,h5,h6,input,ol,p,textarea,th,ul{background:transparent;border:0;border-radius:0;font:inherit;list-style:none;margin:0;outline:0;overflow:visible;padding:0;vertical-align:baseline}table{border-collapse:collapse;border-spacing:0}button::-moz-focus-inner,input::-moz-focus-inner,textarea::-moz-focus-inner{margin:0;padding:0;border:0}button,input,textarea{color:inherit}input::-ms-clear{display:none}a{cursor:pointer;text-decoration:none;outline:none}a:hover{text-decoration:underline}:focus{outline:none}#no-script{position:absolute;left:0;right:0;top:0;bottom:0;background:#f2efe9}.no-script-message{position:absolute;left:50%;top:50%;width:575px;transform:translateX(-50%) translateY(-50%);transform:translateX(-50%) translateY(-50%);background:url('//maps.gstatic.com/tactile/basepage/pegman_sherlock.png') no-repeat;background-size:160px 193px;height:143px;padding-top:50px;padding-left:200px;font-size:30px;font-weight:300}.no-script-help-link{color:#4285F4;font-size:14px;font-weight:normal}</style> <link href=\"/maps/_/sw/manifest.json\" crossorigin=\"use-credentials\" rel=\"manifest\"> <script type=\"text/javascript\" nonce=\"3dxGUx423CtcngrnqO4aAQ==\">tick('s');</script> </head> <body tabindex=\"-1\"> <script type=\"text/javascript\" nonce=\"3dxGUx423CtcngrnqO4aAQ==\">tick('b0');</script> <script nonce=\"3dxGUx423CtcngrnqO4aAQ==\">if (window.devicePixelRatio > 1){document.body.className += ' highres';}\n",
      "</script> <script type=\"text/javascript\" nonce=\"3dxGUx423CtcngrnqO4aAQ==\">(function(){if(window.tactilecsi){window.tactilecsi.a={};window.tactilecsi.b=1;window.tactilecsi.setTimerName=function(d,a){d.name=a};var n=function(d,a,g){var b=\"\";window.tactilecsi.srt&&(b+=\"&srt=\"+window.tactilecsi.srt,delete window.tactilecsi.srt);window.tactilecsi.pt&&(b+=\"&tbsrt=\"+window.tactilecsi.pt,delete window.tactilecsi.pt);try{window.external&&window.external.tran?b+=\"&tran=\"+window.external.tran:window.gtbExternal&&window.gtbExternal.tran?b+=\"&tran=\"+window.gtbExternal.tran():window.chrome&&window.chrome.csi&&\n",
      "(b+=\"&tran=\"+window.chrome.csi().tran)}catch(q){}var c=window.chrome;if(c&&(c=c.loadTimes)){c().wasFetchedViaSpdy&&(b+=\"&p=s\");if(c().wasNpnNegotiated){b+=\"&npn=1\";var e=c().npnNegotiatedProtocol;e&&(b+=\"&npnv=\"+(encodeURIComponent||escape)(e))}c().wasAlternateProtocolAvailable&&(b+=\"&apa=1\")}if(\"undefined\"!=typeof navigator&&navigator&&navigator.connection){c=navigator.connection;e=c.type;for(var f in c)if(\"type\"!=f&&c[f]==e){b+=\"&conn=\"+f;break}}c=d.t;e=c.start;f=[];for(var k in c)if(\"start\"!=k&&\n",
      "e){var h=d.t[k];var l=d.t.start;h&&l?(h-=l,h=Math.round(h)):h=void 0;f.push(k+\".\"+h)}delete c.start;if(a)for(var m in a)b+=\"&\"+m+\"=\"+a[m];(a=g)||(a=\"https:\"==document.location.protocol?\"https://csi.gstatic.com/csi\":\"http://csi.gstatic.com/csi\");return d=[a,\"?v=3\",\"&s=\"+(window.tactilecsi.sn||\"tactile\")+\"&action=\",d.name,\"\",b,\"&rt=\",f.join(\",\")].join(\"\")};window.tactilecsi.getReportUri=n;var p=function(d,a,g){d=n(d,a,g);if(!d)return\"\";a=new Image;var b=window.tactilecsi.b++;window.tactilecsi.a[b]=\n",
      "a;a.onload=a.onerror=function(){window.tactilecsi&&delete window.tactilecsi.a[b]};a.src=d;a=null;return d};window.tactilecsi.report=function(d,a,g){var b=document.visibilityState,c=\"visibilitychange\";b||(b=document.webkitVisibilityState,c=\"webkitvisibilitychange\");if(\"prerender\"==b){var e=!1,f=function(){if(!e){a?a.prerender=\"1\":a={prerender:\"1\"};if(\"prerender\"==(document.visibilityState||document.webkitVisibilityState))var b=!1;else p(d,a,g),b=!0;b&&(e=!0,document.removeEventListener(c,f,!1))}};document.addEventListener(c,f,!1);return\"\"}return p(d,a,g)}};}).call(this);</script> <script type=\"text/javascript\" nonce=\"3dxGUx423CtcngrnqO4aAQ==\">tick('ms0');</script>   <script src=\"/maps/_/js/k=maps.m.ru.n21srML_SvM.O/m=sc2,per,mo,lp,ti,ds,stx,pwd,ppl,log,std,b/rt=j/d=1/rs=ACT90oH_eA2ZRZdo0Byr8p6pzkGaRnw7gA\" type=\"text/javascript\" nonce=\"3dxGUx423CtcngrnqO4aAQ==\"></script>  <script type=\"text/javascript\" nonce=\"3dxGUx423CtcngrnqO4aAQ==\">tick('ms1');</script> <script type=\"text/javascript\" nonce=\"3dxGUx423CtcngrnqO4aAQ==\">tick('b1');</script> <script type=\"text/javascript\" nonce=\"3dxGUx423CtcngrnqO4aAQ==\">tick('p1');</script> <noscript> <div id=\"no-script\"> <div class=\"no-script-message\"> <div> When you have eliminated the <strong>JavaScript</strong>, whatever remains must be an empty page. </div> <a class=\"no-script-help-link\" href=\"//support.google.com/maps/?hl=ru&amp;authuser=0&amp;p=no_javascript\" target=\"_blank\">Включите JavaScript, чтобы просматривать Google Карты.</a> </div> </div> </noscript> </body> </html>\n"
     ]
    }
   ],
   "source": [
    "print(r.text)"
   ]
  },
  {
   "cell_type": "code",
   "execution_count": 10,
   "metadata": {},
   "outputs": [
    {
     "name": "stdout",
     "output_type": "stream",
     "text": [
      "False\n",
      "404\n",
      "<RequestsCookieJar[<Cookie lid=vAsAAO2O0FudRyE3Aaw1FgB= for .lenta.ru/>]>\n"
     ]
    }
   ],
   "source": [
    "#Попробуем запросить несуществующую страницу\n",
    "r = requests.get(\"https://lenta.ru/2018/10/32/\")\n",
    "print(r.ok)\n",
    "print(r.status_code)\n",
    "print(r.cookies)"
   ]
  },
  {
   "cell_type": "raw",
   "metadata": {
    "collapsed": true
   },
   "source": [
    "r = requests.get(\"https://atom.mail.ru/\")\n",
    "print(r.ok)\n",
    "print(r.status_code)\n",
    "print(r.cookies)"
   ]
  },
  {
   "cell_type": "code",
   "execution_count": 11,
   "metadata": {},
   "outputs": [],
   "source": [
    "#Создаем элемент типа soup\n",
    "r = requests.get(\"https://lenta.ru/2018/06/16/\")\n",
    "soup = BeautifulSoup(r.text, \"html.parser\")"
   ]
  },
  {
   "cell_type": "code",
   "execution_count": 12,
   "metadata": {},
   "outputs": [
    {
     "name": "stdout",
     "output_type": "stream",
     "text": [
      "{}\n"
     ]
    }
   ],
   "source": [
    "#Посмотрим на атрибуты\n",
    "print(soup.attrs)"
   ]
  },
  {
   "cell_type": "code",
   "execution_count": 13,
   "metadata": {
    "scrolled": true
   },
   "outputs": [
    {
     "name": "stdout",
     "output_type": "stream",
     "text": [
      "<div class=\"g-sprite\"><svg xmlns=\"http://www.w3.org/2000/svg\"><symbol id=\"ui-age-limit\" viewbox=\"0 0 30 20\"><g fill=\"none\" fill-rule=\"evenodd\"><rect fill=\"#353535\" height=\"20\" rx=\"2\" width=\"30\"></rect><path d=\"M6.313 13.57H8.12V8.435l.195-.884-.624.767-1.157.793-.715-.975 2.964-2.392h.949v7.826H11.5V15H6.313v-1.43zm6.851-.793c0-.303.039-.574.117-.813.078-.238.188-.454.332-.65.143-.195.311-.37.507-.526.195-.156.405-.299.63-.429a3.406 3.406 0 0 1-1.001-.93c-.243-.35-.364-.786-.364-1.306 0-.338.063-.654.188-.949.126-.295.308-.55.546-.767.239-.217.527-.386.865-.507a3.37 3.37 0 0 1 1.144-.182c.39 0 .745.052 1.066.156.32.104.596.251.826.442.23.19.407.422.532.696.126.273.189.574.189.903 0 .511-.115.945-.345 1.3-.23.355-.565.68-1.007.975.52.303.912.637 1.177 1.001.264.364.396.832.396 1.404 0 .39-.071.743-.215 1.06a2.335 2.335 0 0 1-.604.812c-.26.225-.572.4-.936.526a3.644 3.644 0 0 1-1.196.189c-.433 0-.825-.058-1.176-.175a2.701 2.701 0 0 1-.898-.488 2.127 2.127 0 0 1-.571-.754 2.355 2.355 0 0 1-.202-.988zm4.186-.169c0-.2-.048-.381-.143-.546a1.809 1.809 0 0 0-.37-.448 3.47 3.47 0 0 0-.508-.371 14.661 14.661 0 0 0-.565-.325c-.407.234-.687.487-.838.76a1.663 1.663 0 0 0-.228.813c0 .347.12.643.357.89.239.248.57.371.995.371.39 0 .704-.095.942-.286.239-.19.358-.477.358-.858zM25 9V7h-2v2h-2v2h2v2h2v-2h2V9h-2zm-10.003-.851a1.206 1.206 0 0 0 .435.956c.135.117.286.225.455.325.17.1.345.192.527.279.52-.442.78-.927.78-1.456 0-.364-.106-.64-.319-.825a1.132 1.132 0 0 0-.773-.28c-.381 0-.66.1-.838.299-.178.2-.267.433-.267.702z\" fill=\"#FFF\"></path><path d=\"M2 2h2v2H2V2zm24 0h2v2h-2V2zm0 14h2v2h-2v-2zM2 16h2v2H2v-2z\" fill=\"#5B5B5B\"></path></g></symbol><symbol id=\"ui-arrow_up\" viewbox=\"0 0 5 10\"><g fill-rule=\"evenodd\"><path d=\"M2 2h1v8H2z\"></path><path d=\"M2.5 0L5 4H0z\"></path></g></symbol><symbol id=\"ui-currency-eur_circled\" viewbox=\"0 0 26 26\"><g fill-rule=\"evenodd\"><path d=\"M13 25.75c7.042 0 12.75-5.708 12.75-12.75S20.042.25 13 .25.25 5.958.25 13 5.958 25.75 13 25.75zm0-1.5C6.787 24.25 1.75 19.213 1.75 13S6.787 1.75 13 1.75 24.25 6.787 24.25 13 19.213 24.25 13 24.25z\"></path><path d=\"M16.436 16.74v1.175l-.465.13c-.761.205-1.452.308-2.072.308-1.262 0-2.268-.327-3.018-.981-.75-.654-1.24-1.635-1.473-2.943H8.034l.349-.84h.909c-.01-.224-.014-.395-.014-.513 0-.178.014-.456.041-.834H8.034l.349-.848h1.073c.283-1.217.812-2.13 1.59-2.738.776-.608 1.803-.912 3.079-.912.665 0 1.431.1 2.297.3v1.244c-.834-.323-1.595-.485-2.283-.485-.816 0-1.499.217-2.048.65-.549.432-.962 1.08-1.24 1.94h4.696l-.349.849h-4.532c-.027.369-.041.644-.041.827 0 .118.005.291.014.52h3.999l-.349.84h-3.5c.255.934.653 1.635 1.193 2.102.54.467 1.225.7 2.054.7.68 0 1.479-.163 2.4-.491z\"></path></g></symbol><symbol id=\"ui-currency-usd_circled\" viewbox=\"0 0 26 26\"><g fill-rule=\"evenodd\"><path d=\"M13 25.75c7.042 0 12.75-5.708 12.75-12.75S20.042.25 13 .25.25 5.958.25 13 5.958 25.75 13 25.75zm0-1.5C6.787 24.25 1.75 19.213 1.75 13S6.787 1.75 13 1.75 24.25 6.787 24.25 13 19.213 24.25 13 24.25z\"></path><path d=\"M12.773 19.96V19c-.916 0-1.945-.216-3.085-.648v-1.329c1.177.547 2.205.82 3.085.82v-4.148c-1.057-.646-1.78-1.216-2.168-1.71-.388-.495-.582-1.087-.582-1.774 0-.77.252-1.41.754-1.918.503-.508 1.168-.793 1.996-.855v-.97h.766v.97c.76 0 1.596.174 2.508.523v1.258c-1-.433-1.836-.675-2.508-.727v4.117c.281.172.492.3.633.383.797.485 1.341.922 1.633 1.313.291.39.437.875.437 1.453 0 .823-.242 1.525-.726 2.105-.485.581-1.144.96-1.977 1.137v.96h-.766zm.766-2.21c.901-.323 1.352-.909 1.352-1.758 0-.37-.086-.673-.258-.91-.172-.237-.537-.548-1.094-.934v3.602zm-.766-5.648V8.539c-.932.292-1.398.839-1.398 1.64 0 .397.096.729.29.997.192.268.562.577 1.108.926z\"></path></g></symbol><symbol id=\"ui-logo\" viewbox=\"0 0 252 42\"><path d=\"M32.638 29.52c0-6.113 6.43-6.358 14.1-6.358h1.055v-6.55h-1.425c-7.608 0-12.434-.552-12.434-4.752 0-3.643 2.968-4.759 6.868-4.759 5.115 0 7.88 1.092 10.02 2.594V1.791C48.72.803 45.443 0 40.803 0c-8.663 0-15.525 3.336-15.525 11.486 0 3.274 1.666 7.414 6.368 8.278-4.887.804-7.793 5.188-7.793 9.757C23.852 38.664 31.46 42 40.802 42c6.676 0 11.193-.926 14.161-2.968v-8.29c-2.116 2.244-6.985 4.157-12.433 4.157-4.363 0-9.892-1.362-9.892-5.378zM129.63.927H86.15V24.4L59.48 0h-.369v41.074h8.626v-22.61L94.401 42h.375V8.027h12.994v33.047h8.62V8.027h13.24V.926zM8.748 1.05H0v39.9h22.815v-7.673H8.748V1.05zm202.515 15.59c0-10.068-6.409-15.59-17.08-15.59H181.48v39.9h8.636v-8.715h4.066c1.174 0 2.343-.06 3.395-.25l7.953 8.965h10.173l-10.42-12.091c3.82-2.889 5.979-7.307 5.979-12.22zm-17.942 8.532h-3.204V8.107h3.266c6.17 0 9.25 3.133 9.25 8.532 0 4.79-3.204 8.533-9.312 8.533zm-21.664 7.378a4.674 4.674 0 0 0-4.694 4.695c0 2.634 2.099 4.755 4.694 4.755 2.54 0 4.64-2.121 4.64-4.755 0-2.622-2.1-4.695-4.64-4.695zm71.647-31.5v21.092c0 8.804-3.384 12.778-8.918 12.778-5.715 0-8.944-3.974-8.944-12.778V1.05h-8.701v19.179c0 13.365 4.784 21.771 17.645 21.771C247.252 42 252 33.41 252 20.229V1.05h-8.696zM142.47 0h-.37l-20.766 40.95h9.267l3.028-6.652h17.738l3.219 6.652h9.267L142.469 0zm-5.746 27.524l5.561-12.068 5.808 12.068h-11.37z\" fill-rule=\"evenodd\"></path></symbol><symbol id=\"ui-search\" viewbox=\"0 0 14 14\"><path d=\"M9.627 8.5H9.03l-.207-.206A4.852 4.852 0 0 0 10 5.125 4.875 4.875 0 1 0 5.125 10a4.853 4.853 0 0 0 3.169-1.175l.207.206v.594l3.748 3.743 1.118-1.118-3.74-3.75zm-4.502 0a3.374 3.374 0 1 1-.001-6.749A3.374 3.374 0 0 1 5.125 8.5z\" fill-rule=\"evenodd\"></path></symbol></svg></div>\n"
     ]
    }
   ],
   "source": [
    "#Найдем элементы в теге div. При этом будут найдены все теги, любой вложенности\n",
    "print(soup.find_all('div')[0])"
   ]
  },
  {
   "cell_type": "code",
   "execution_count": 14,
   "metadata": {},
   "outputs": [
    {
     "name": "stdout",
     "output_type": "stream",
     "text": [
      "{'class': ['g-sprite']}\n"
     ]
    }
   ],
   "source": [
    "print(soup.find_all('div')[0].attrs)"
   ]
  },
  {
   "cell_type": "code",
   "execution_count": 15,
   "metadata": {},
   "outputs": [
    {
     "data": {
      "text/plain": [
       "[<div class=\"titles\"><h3><a href=\"/articles/2018/06/16/spain_portugal/\"><span>Чистый кайф</span></a></h3><div class=\"rightcol\">Шикарный Роналду остановил Испанию: такого футбола Россия еще не видела</div></div>,\n",
       " <div class=\"titles\"><h3><a href=\"/articles/2018/06/16/cold_war/\"><span>«Они будут в нас стрелять»</span></a></h3><div class=\"rightcol\">Почему СССР тайно дружил с Африкой и избежал войны с Китаем</div></div>,\n",
       " <div class=\"titles\"><h3><a href=\"/photo/2018/06/16/macedonia/\"><span>Славяне не нужны</span></a></h3><div class=\"rightcol\">Эту страну лишили названия. Скоро там останутся одни мусульмане</div></div>,\n",
       " <div class=\"titles\"><h3><a href=\"/articles/2018/06/16/barron/\"><span>Плодитесь и размножайтесь</span></a></h3><div class=\"rightcol\">Он 30 лет колесил по миру, соблазнял женщин и тайно породил десятки детей</div></div>,\n",
       " <div class=\"titles\"><h3><a href=\"/articles/2018/06/16/kino16062018/\"><span>Папа может</span></a></h3><div class=\"rightcol\">Кино недели: от «Суперсемейки 2» до «Дела Собчака»</div></div>,\n",
       " <div class=\"titles\"><h3><a href=\"/photo/2018/06/16/hotels/\"><span>От Геленджика до Грозного</span></a></h3><div class=\"rightcol\">Где живут иностранные футболисты во время чемпионата мира</div></div>,\n",
       " <div class=\"titles\"><h3><a href=\"/articles/2018/06/16/the_architext/\"><span>После нас</span></a></h3><div class=\"rightcol\">Он снимает мир без людей. Эти кадры заставляют вздрогнуть</div></div>,\n",
       " <div class=\"titles\"><h3><a href=\"/news/2018/06/16/ugrozi/\"><span>Судье пригрозили смертью за арест отрицателя холокоста</span></a></h3></div>,\n",
       " <div class=\"titles\"><h3><a href=\"/articles/2018/06/16/gayropa_fest/\"><span>Рижский прайд</span></a></h3><div class=\"rightcol\">В самой гомофобной стране Евросоюза прошел гигантский гей-парад. Латыши терпят</div></div>,\n",
       " <div class=\"titles\"><h3><a href=\"/news/2018/06/16/bonds/\"><span>Россия избавилась от госдолга США</span></a></h3></div>,\n",
       " <div class=\"titles\"><h3><a href=\"/news/2018/06/16/croc/\"><span>На берег реки выползли десятки крокодилов</span></a></h3></div>,\n",
       " <div class=\"titles\"><h3><a href=\"/news/2018/06/16/kiev_nafta/\"><span>Киев подал в суд на «Нафтогаз»</span></a></h3></div>,\n",
       " <div class=\"titles\"><h3><a href=\"/news/2018/06/16/hamlo/\"><span>Трамп нагрубил половине лидеров G7</span></a></h3></div>,\n",
       " <div class=\"titles\"><h3><a href=\"/news/2018/06/16/chekrym/\"><span>Госдеп США предостерег американцев от попыток забраться на Эльбрус</span></a></h3></div>,\n",
       " <div class=\"titles\"><h3><a href=\"/news/2018/06/16/ignored/\"><span>Команда Трампа саботировала его планы встретиться с Путиным</span></a></h3></div>,\n",
       " <div class=\"titles\"><h3><a href=\"/news/2018/06/16/chubbs/\"><span>В Калифорнии спасли растолстевшего втрое бездомного кота</span></a></h3></div>,\n",
       " <div class=\"titles\"><h3><a href=\"/news/2018/06/16/phototrump/\"><span>Трамп прокомментировал «плохое фото» с Меркель</span></a></h3></div>,\n",
       " <div class=\"titles\"><h3><a href=\"/news/2018/06/16/toilet/\"><span>Туалеты поднялись в воздух и улетели</span></a></h3></div>,\n",
       " <div class=\"titles\"><h3><a href=\"/news/2018/06/16/oplot/\"><span>Украинский военный прокомментировал провал «Оплотов» на танковом биатлоне НАТО</span></a></h3></div>,\n",
       " <div class=\"titles\"><h3><a href=\"/news/2018/06/16/russia_usa/\"><span>Американский баскетболист изменил мнение о России</span></a></h3></div>,\n",
       " <div class=\"titles\"><h3><a href=\"/news/2018/06/16/razmin/\"><span>Новую установку разминирования сделают для российских военных</span></a></h3></div>,\n",
       " <div class=\"titles\"><h3><a href=\"/news/2018/06/16/pitonchik/\"><span>Гигантский питон проглотил домохозяйку</span></a></h3></div>,\n",
       " <div class=\"titles\"><h3><a href=\"/news/2018/06/15/worldcup_donbass/\"><span>Украинский художник связал чемпионат мира с войной в Донбассе</span></a></h3></div>,\n",
       " <div class=\"titles\"><h3><a href=\"/news/2018/06/16/checnya/\"><span>Саудовская Аравия поддержит сельское хозяйство в Чечне</span></a></h3></div>,\n",
       " <div class=\"titles\"><h3><a href=\"/news/2018/06/16/rozhdestvensky/\"><span>Умер дирижер Геннадий Рождественский</span></a></h3></div>,\n",
       " <div class=\"titles\"><h3><a href=\"/news/2018/06/16/surprise/\"><span>Замаскировавшаяся Кристина Агилера спела в нью-йоркском метро</span></a></h3></div>,\n",
       " <div class=\"titles\"><h3><a href=\"/news/2018/06/16/golykova/\"><span>Рассчитана прибавка к пенсии после повышения пенсионного возраста</span></a></h3></div>,\n",
       " <div class=\"titles\"><h3><a href=\"/news/2018/06/16/ronaldo_rad/\"><span>Роналду похвалил себя после хет-трика в ворота сборной Испании</span></a></h3></div>,\n",
       " <div class=\"titles\"><h3><a href=\"/news/2018/06/16/superwoman/\"><span>Девушка выбралась из утонувшей машины, поймала другую и укатила</span></a></h3></div>,\n",
       " <div class=\"titles\"><h3><a href=\"/news/2018/06/16/interesting/\"><span>В Бурятии украли несколько зданий лечебницы</span></a></h3></div>,\n",
       " <div class=\"titles\"><h3><a href=\"/news/2018/06/16/gool/\"><span>На чемпионате мира назначен первый пенальти после видеоповтора</span></a></h3></div>,\n",
       " <div class=\"titles\"><h3><a href=\"/news/2018/06/16/fra_aus/\"><span>Видеоповторы помогли Франции обыграть австралийцев</span></a></h3></div>,\n",
       " <div class=\"titles\"><h3><a href=\"/news/2018/06/16/go_away/\"><span>Италия отправила восвояси суда правозащитников с беженцами</span></a></h3></div>,\n",
       " <div class=\"titles\"><h3><a href=\"/news/2018/06/16/upskirt/\"><span>Британский рыцарь заблокировал закон о наказании для вуайеристов</span></a></h3></div>,\n",
       " <div class=\"titles\"><h3><a href=\"/news/2018/06/16/kirill/\"><span>Патриарх нашел способ победить воровство в России</span></a></h3></div>,\n",
       " <div class=\"titles\"><h3><a href=\"/news/2018/06/16/brazil_football/\"><span>Комментатором ЧМ в Бразилии стал сидящий в тюрьме бывший президент</span></a></h3></div>,\n",
       " <div class=\"titles\"><h3><a href=\"/news/2018/06/16/denisova_fail/\"><span>Украинский омбудсмен в России проявила инициативу и пожалела</span></a></h3></div>,\n",
       " <div class=\"titles\"><h3><a href=\"/news/2018/06/16/not_good/\"><span>После убийства многодетной матери в Псебае полицейских уличили в халатности</span></a></h3></div>,\n",
       " <div class=\"titles\"><h3><a href=\"/news/2018/06/16/island/\"><span>Исландцы устроили шоу с кличем викингов перед матчем с Аргентиной</span></a></h3></div>,\n",
       " <div class=\"titles\"><h3><a href=\"/news/2018/06/16/elitka/\"><span>В Москве зафиксирован бум продаж элитного жилья</span></a></h3></div>,\n",
       " <div class=\"titles\"><h3><a href=\"/news/2018/06/16/india/\"><span>Индия вступит в развязанную США торговую войну</span></a></h3></div>,\n",
       " <div class=\"titles\"><h3><a href=\"/news/2018/06/16/krid/\"><span>Победительнице «Холостяка» посоветовали бороться за Бузову под видом мужчины</span></a></h3></div>,\n",
       " <div class=\"titles\"><h3><a href=\"/news/2018/06/16/argentina_iceland/\"><span>Месси не забил пенальти и оставил Аргентину без победы в первом матче на ЧМ</span></a></h3></div>,\n",
       " <div class=\"titles\"><h3><a href=\"/news/2018/06/16/fan/\"><span>Футбольному болельщику продали билет на несуществующее место</span></a></h3></div>,\n",
       " <div class=\"titles\"><h3><a href=\"/news/2018/06/16/licence/\"><span>Нашествие цыган вынудило шведский город ввести лицензию на попрошайничество</span></a></h3></div>,\n",
       " <div class=\"titles\"><h3><a href=\"/news/2018/06/16/oops/\"><span>Швейцарские болельщики заехали на линию боев в Донбассе и удивились</span></a></h3></div>,\n",
       " <div class=\"titles\"><h3><a href=\"/news/2018/06/16/taksist/\"><span>Таксист в Москве въехал в толпу людей</span></a></h3></div>,\n",
       " <div class=\"titles\"><h3><a href=\"/news/2018/06/16/yandex/\"><span>Появилось видео наезда такси на толпу людей в Москве</span></a></h3></div>,\n",
       " <div class=\"titles\"><h3><a href=\"/news/2018/06/16/peru_denmark/\"><span>Сборная Перу проиграла датчанам в Саранске</span></a></h3></div>,\n",
       " <div class=\"titles\"><h3><a href=\"/news/2018/06/16/otdohnul/\"><span>Сибиряк всю ночь выпивал в императорском дворце и ушел с добычей</span></a></h3></div>,\n",
       " <div class=\"titles\"><h3><a href=\"/news/2018/06/16/poland_delfinariy/\"><span>Футболист сборной Польши получил травму в сочинском дельфинарии</span></a></h3></div>,\n",
       " <div class=\"titles\"><h3><a href=\"/news/2018/06/16/germany/\"><span>Германию уличили в шпионаже за МАГАТЭ, ОБСЕ и правительством Австрии</span></a></h3></div>,\n",
       " <div class=\"titles\"><h3><a href=\"/news/2018/06/16/oil/\"><span>Путин и саудовский принц согласовали сделку по нефти</span></a></h3></div>,\n",
       " <div class=\"titles\"><h3><a href=\"/news/2018/06/16/cska_juve/\"><span>ЦСКА потребовал у «Ювентуса» больше денег за Головина</span></a></h3></div>,\n",
       " <div class=\"titles\"><h3><a href=\"/news/2018/06/16/cro_nig/\"><span>В матче Нигерии и Хорватии на ЧМ был назначен пятый пенальти за день</span></a></h3></div>]"
      ]
     },
     "execution_count": 15,
     "metadata": {},
     "output_type": "execute_result"
    }
   ],
   "source": [
    "#Найдем все элементы под тегом div, у которых атрибут класс:titles\n",
    "soup.findAll(\"div\", attrs={\"class\": [\"titles\"]})"
   ]
  },
  {
   "cell_type": "code",
   "execution_count": 16,
   "metadata": {},
   "outputs": [
    {
     "name": "stdout",
     "output_type": "stream",
     "text": [
      "<div class=\"titles\"><h3><a href=\"/articles/2018/06/16/spain_portugal/\"><span>Чистый кайф</span></a></h3><div class=\"rightcol\">Шикарный Роналду остановил Испанию: такого футбола Россия еще не видела</div></div>\n",
      "\n",
      "<a href=\"/articles/2018/06/16/spain_portugal/\"><span>Чистый кайф</span></a>\n",
      "\n",
      "{'href': '/articles/2018/06/16/spain_portugal/'}\n",
      "\n",
      "/articles/2018/06/16/spain_portugal/\n",
      "\n",
      "Чистый кайф\n"
     ]
    }
   ],
   "source": [
    "print(soup.findAll(\"div\", attrs={\"class\": [\"titles\"]})[0])\n",
    "print()\n",
    "print(soup.findAll(\"div\", attrs={\"class\": [\"titles\"]})[0].find('a'))\n",
    "print()\n",
    "print(soup.findAll(\"div\", attrs={\"class\": [\"titles\"]})[0].find('a').attrs)\n",
    "print()\n",
    "print(soup.findAll(\"div\", attrs={\"class\": [\"titles\"]})[0].find('a')['href'])\n",
    "print()\n",
    "print(soup.findAll(\"div\", attrs={\"class\": [\"titles\"]})[0].find('a').text)"
   ]
  },
  {
   "cell_type": "code",
   "execution_count": 18,
   "metadata": {},
   "outputs": [],
   "source": [
    "a = {}\n",
    "for elem in soup.findAll(\"div\", attrs={\"class\": [\"titles\"]}):\n",
    "    h = elem.find('a')['href']\n",
    "    t = elem.find('a').text\n",
    "    a[h] = t\n",
    "\n",
    "#TODO сохранить все ссылки в словарь вида: {href: title}\n"
   ]
  },
  {
   "cell_type": "code",
   "execution_count": 34,
   "metadata": {},
   "outputs": [],
   "source": [
    "def get_product_info_avito(url):\n",
    "    product_page = requests.get(url)\n",
    "    soup = BeautifulSoup(product_page.text, \"html.parser\")\n",
    "    title = re.findall(r\"(?=content=\\\"([^\\\"]*)\\\")\",\n",
    "                       str(soup.find(\"meta\", attrs={\"name\":\"mrc__share_title\"})), re.UNICODE)[0]\n",
    "    if title.startswith(u\"Объявление на Avito -\"):\n",
    "        title = title[21:]\n",
    "    descr = re.findall(r\"(?=content=\\\"([^\\\"]*)\\\")\",\n",
    "                       str(soup.find(\"meta\", attrs={\"name\":\"mrc__share_description\"})), re.UNICODE)[0]\n",
    "    return url, title, descr\n",
    "@delay_decorator\n",
    "def get_smilar_avito(url):\n",
    "    headers = {u\"accept\": u\"*/*\", u\"accept-encoding\": u\"gzip, deflate, br\",\n",
    "           u\"accept-language\": u\"ru-RU,ru;q=0.9,en-US;q=0.8,en;q=0.7\",\n",
    "           u\"cookie\": u\"u=26m3i302.1fc6nq6.flumvzf17n; buyer_location_id=637640; abp=1; _ga=GA1.2.1386374517.1519811174; _vwo_uuid_v2=D5AF40B1213C5F49AEE8A45D8584418ED|06e85eceee6cdc4810096a7268f54acb; cto_lwid=85c9fbb1-8918-4cc4-a91d-2a757134e844; _vis_opt_s=1%7C; _vis_opt_test_cookie=1; _ym_uid=1519811174428571120; _vwo_uuid=D5AF40B1213C5F49AEE8A45D8584418ED; __gads=ID=c16722fa56933ba1:T=1519811174:S=ALNI_MYLAba7KfXbX-Amt7ypPSVfyyTdzA; _vis_opt_exp_46_exclude=1; __utma=99926606.1386374517.1519811174.1521126280.1521126280.1; __utmc=99926606; __utmz=99926606.1521126280.1.1.utmcsr=(direct)|utmccn=(direct)|utmcmd=(none); dfp_group=52; _vwo_ds=3%3Aa_0%2Ct_0%3A0%241526386623%3A47.11855471%3A%3A%3A18_0%2C12_0; sessid=bbc4979ea3347bd02e9b3ed7349589c7.1527492578; _gid=GA1.2.91958680.1527492579; _ym_isad=1; f=5.673c10cb09ba31f34b5abdd419952845a68643d4d8df96e9a68643d4d8df96e9a68643d4d8df96e9ba029cd346349f36c1e8912fd5a48d02c1e8912fd5a48d02c1e8912fd5a48d02c1e8912fd5a48d02c1e8912fd5a48d02c1e8912fd5a48d0246b8ae4e81acb9fa143114829cf33ca746b8ae4e81acb9fa46b8ae4e81acb9fae992ad2cc54b8aa82351fe598a5894ec615ab5228c34303140e3fb81381f3591fed88e598638463b2da10fb74cac1eab2da10fb74cac1eab2da10fb74cac1eab2da10fb74cac1eab2da10fb74cac1eab2da10fb74cac1eab2da10fb74cac1eab2da10fb74cac1eab2da10fb74cac1eab2da10fb74cac1eab2da10fb74cac1eab2da10fb74cac1eabc6c679871524fbf7ddc1bb7967f85dcbbd0ca7a45a8813cec5b922a937441bee49f5ff0743e01b943fdc85926d4eb0def5a18441d6f5f811652c8d9bab9891ff60768b50dd5e12c36a95541ff881623729cd2db18e763082465d5650ed2fd5c1685428d00dc691fa9e82118971f2ed6494d66450ac1e729244734ef48a8669163de19da9ed218fe23de19da9ed218fe2da5ad592e16af4d7e45e6a89df371af55cc35db011f710a1998c47e34a42c61a; _vis_opt_exp_74_exclude=1; _vis_opt_exp_71_exclude=1; _vis_opt_exp_69_exclude=1; v=1527504434; nps_sleep=1; sx=H4sIAAAAAAACA53PUW7CMAyA4bv4mQcndcHtbTYnBMkBb%2FXaVKDenTJp0p65wPfrf8BAOFzmPNVZBBs5o6ApFYPxAQuM0E3f%2BJPz2iVUNhZWdSVmc1FuBQ6QYQx9PPUc%2Bxi2A8T1g76W83W9XZ0EtTibtqL6HkkvcpbAHd5iUkLWgu5SmjX%2FI2v4rCWJ1DvRPqFY0Hy39jY2b%2F%2FIAbn7JZeUZUp1rkcjdTHCpk5vkTEMtG1PS1Phf00BAAA%3D; isHeartsEnabled=0; _nfh=3cef57cbf431e38a89658bc44a326af9; _gat_UA-2546784-1=1\",\n",
    "           u\"referer\": url,\n",
    "           u\"user-agent\": \"Mozilla/5.0 (X11; Linux x86_64) AppleWebKit/537.36 (KHTML, like Gecko) Chrome/66.0.3359.181 Safari/537.36\",\n",
    "           u\"x-requested-with\": \"XMLHttpRequest\"}\n",
    "    pr_id = url.split(\"_\")[-1]\n",
    "    similars = requests.get(\"https://www.avito.ru/js/similar/\" + pr_id + \"?offset=0\", headers=headers)\n",
    "    sim_urls = []\n",
    "    for i, json_part in enumerate(similars.json()['similarsJson']):\n",
    "        sim_urls.append([url, i, \"https://www.avito.ru\" + json_part['url']])\n",
    "    return sim_urls"
   ]
  },
  {
   "cell_type": "code",
   "execution_count": 26,
   "metadata": {},
   "outputs": [
    {
     "ename": "IndexError",
     "evalue": "list index out of range",
     "output_type": "error",
     "traceback": [
      "\u001b[1;31m---------------------------------------------------------------------------\u001b[0m",
      "\u001b[1;31mIndexError\u001b[0m                                Traceback (most recent call last)",
      "\u001b[1;32m<ipython-input-26-a39c32a58aed>\u001b[0m in \u001b[0;36m<module>\u001b[1;34m()\u001b[0m\n\u001b[1;32m----> 1\u001b[1;33m \u001b[0mget_product_info_avito\u001b[0m\u001b[1;33m(\u001b[0m\u001b[1;34m\"https://www.avito.ru/moskva/avtomobili/nissan_x-trail_2018_1173507351\"\u001b[0m\u001b[1;33m)\u001b[0m\u001b[1;33m\u001b[0m\u001b[0m\n\u001b[0m\u001b[0;32m      2\u001b[0m \u001b[1;31m#TODO Попробовать загрузить похожие и информацию об 1 продукте с авито\u001b[0m\u001b[1;33m\u001b[0m\u001b[1;33m\u001b[0m\u001b[0m\n",
      "\u001b[1;32m<ipython-input-25-2db226e8bb40>\u001b[0m in \u001b[0;36mget_product_info_avito\u001b[1;34m(url)\u001b[0m\n\u001b[0;32m      7\u001b[0m         \u001b[0mtitle\u001b[0m \u001b[1;33m=\u001b[0m \u001b[0mtitle\u001b[0m\u001b[1;33m[\u001b[0m\u001b[1;36m21\u001b[0m\u001b[1;33m:\u001b[0m\u001b[1;33m]\u001b[0m\u001b[1;33m\u001b[0m\u001b[0m\n\u001b[0;32m      8\u001b[0m     descr = re.findall(r\"(?=content=\\\"([^\\\"]*)\\\")\",\n\u001b[1;32m----> 9\u001b[1;33m                        str(soup.find(\"meta\", attrs={\"name\":\"mrc__share_description\"})), re.UNICODE)[0]\n\u001b[0m\u001b[0;32m     10\u001b[0m     \u001b[1;32mreturn\u001b[0m \u001b[0murl\u001b[0m\u001b[1;33m,\u001b[0m \u001b[0mtitle\u001b[0m\u001b[1;33m,\u001b[0m \u001b[0mdescr\u001b[0m\u001b[1;33m\u001b[0m\u001b[0m\n\u001b[0;32m     11\u001b[0m \u001b[1;33m\u001b[0m\u001b[0m\n",
      "\u001b[1;31mIndexError\u001b[0m: list index out of range"
     ]
    }
   ],
   "source": [
    "get_product_info_avito(\"https://www.avito.ru/moskva/avtomobili/nissan_x-trail_2018_1173507351\")\n",
    "#TODO Попробовать загрузить похожие и информацию об 1 продукте с авито"
   ]
  },
  {
   "cell_type": "code",
   "execution_count": 28,
   "metadata": {},
   "outputs": [
    {
     "name": "stdout",
     "output_type": "stream",
     "text": [
      "all_proxies_are_worked!\n",
      "\n",
      "\n"
     ]
    }
   ],
   "source": [
    "#Создадим список проксей и проверим их доступность\n",
    "\n",
    "from user_agent import generate_user_agent\n",
    "from time import sleep\n",
    "import numpy as np\n",
    "import requests\n",
    "\n",
    "proxies_list = [{'http':'http://'+i} for i in ['67.149.217.254:10200',\n",
    "                '64.20.74.24:45554','62.37.237.101:8080',\n",
    "                '180.234.206.77:8080',\n",
    "                '78.11.85.13:8080','109.188.81.101:8080',\n",
    "                '139.59.17.113:8080','191.179.147.46:11421',\n",
    "                '111.68.99.42:8080','80.241.219.66:3128',\n",
    "                '201.20.94.106:8080','216.229.120.173:45554',\n",
    "                '116.58.247.31:3128','103.9.115.142:3128',\n",
    "                '82.164.99.193:10200','80.188.79.138:8080',\n",
    "                '36.75.113.224:8080',\n",
    "                '1.20.204.163:8080','97.77.49.151:45554',\n",
    "                '178.54.44.24:8080',\n",
    "                '65.182.136.153:45554', '111.76.129.223:808',\n",
    "                 '203.142.81.205'+':'+'8080', \n",
    "                '42.202.35.185'+':'+'8118', '189.16.249.114'+':'+'8080',\n",
    "                '66.162.122.24'+':'+'8080']]\n",
    "\n",
    "for i in range(len(proxies_list)):\n",
    "    sleep(np.random.random())\n",
    "    assert 200 == requests.get('https://yandex.ru', \n",
    "                               headers={'User-Agent': generate_user_agent()},\n",
    "                               proxies=proxies_list[i]).status_code\n",
    "print ('all_proxies_are_worked!\\n\\n')"
   ]
  },
  {
   "cell_type": "code",
   "execution_count": 33,
   "metadata": {},
   "outputs": [
    {
     "ename": "SyntaxError",
     "evalue": "invalid syntax (<ipython-input-33-c3e5e027a1d2>, line 12)",
     "output_type": "error",
     "traceback": [
      "\u001b[1;36m  File \u001b[1;32m\"<ipython-input-33-c3e5e027a1d2>\"\u001b[1;36m, line \u001b[1;32m12\u001b[0m\n\u001b[1;33m    get_smilar_avito(\"https://www.avito.ru/moskva/avtomobili/nissan_x-trail_2018_1173507351\")\u001b[0m\n\u001b[1;37m                   ^\u001b[0m\n\u001b[1;31mSyntaxError\u001b[0m\u001b[1;31m:\u001b[0m invalid syntax\n"
     ]
    }
   ],
   "source": [
    "def get_proxy():\n",
    "    return proxies_list[np.random.randint(0, len(proxies_list))]\n",
    "\n",
    "#TODO сделаем декоратор, который будет генерировать случайную задержку на исполнение функции\n",
    "def delay_decorator(func):\n",
    "    sleep(np.random.random())\n",
    "    return func\n",
    "\n",
    "#TODO Модернизируем функцию, которая парсит похожие. Будем генерировать user-agent, не будем передавать cookies\n",
    "#используем случайный прокси сервер. Обернем в декоратор задержки\n",
    "@delay_decorator\n",
    "def get_smilar_avito(url=\"https://www.avito.ru/moskva/avtomobili/nissan_x-trail_2018_1173507351\"):\n",
    "\n",
    "    \n",
    "    \n",
    "\n"
   ]
  },
  {
   "cell_type": "code",
   "execution_count": null,
   "metadata": {},
   "outputs": [],
   "source": []
  },
  {
   "cell_type": "code",
   "execution_count": 3,
   "metadata": {},
   "outputs": [],
   "source": [
    "#Скачаем и разархивируем драйвер для гугл хрома https://chromedriver.storage.googleapis.com/index.html?path=2.43/\n",
    "#Или firefox https://github.com/mozilla/geckodriver/releases\n",
    "\n",
    "import pandas as pd\n",
    "import selenium\n",
    "\n",
    "from selenium.webdriver import Chrome\n",
    "from selenium.webdriver.common.keys import Keys\n",
    "from selenium.common.exceptions import NoSuchElementException, WebDriverException\n",
    "\n",
    "from time import sleep"
   ]
  },
  {
   "cell_type": "code",
   "execution_count": 5,
   "metadata": {},
   "outputs": [],
   "source": [
    "browser = Chrome(executable_path=\"chromedriver\")\n",
    "browser.get('https://www.google.com/')\n",
    "\n",
    "search_form = browser.find_element_by_name('q')\n",
    "search_form.send_keys(\"женек пидор\")\n",
    "search_form.send_keys(Keys.ENTER)"
   ]
  },
  {
   "cell_type": "code",
   "execution_count": 42,
   "metadata": {},
   "outputs": [
    {
     "data": {
      "text/plain": [
       "['Categorical',\n",
       " 'CategoricalIndex',\n",
       " 'DataFrame',\n",
       " 'DateOffset',\n",
       " 'DatetimeIndex',\n",
       " 'ExcelFile',\n",
       " 'ExcelWriter',\n",
       " 'Expr',\n",
       " 'Float64Index',\n",
       " 'Grouper',\n",
       " 'HDFStore',\n",
       " 'Index',\n",
       " 'IndexSlice',\n",
       " 'Int64Index',\n",
       " 'Interval',\n",
       " 'IntervalIndex',\n",
       " 'MultiIndex',\n",
       " 'NaT',\n",
       " 'Panel',\n",
       " 'Period',\n",
       " 'PeriodIndex',\n",
       " 'RangeIndex',\n",
       " 'Series',\n",
       " 'SparseArray',\n",
       " 'SparseDataFrame',\n",
       " 'SparseSeries',\n",
       " 'Term',\n",
       " 'TimeGrouper',\n",
       " 'Timedelta',\n",
       " 'TimedeltaIndex',\n",
       " 'Timestamp',\n",
       " 'UInt64Index',\n",
       " 'WidePanel',\n",
       " '_DeprecatedModule',\n",
       " '__builtins__',\n",
       " '__cached__',\n",
       " '__doc__',\n",
       " '__docformat__',\n",
       " '__file__',\n",
       " '__loader__',\n",
       " '__name__',\n",
       " '__package__',\n",
       " '__path__',\n",
       " '__spec__',\n",
       " '__version__',\n",
       " '_hashtable',\n",
       " '_lib',\n",
       " '_libs',\n",
       " '_np_version_under1p10',\n",
       " '_np_version_under1p11',\n",
       " '_np_version_under1p12',\n",
       " '_np_version_under1p13',\n",
       " '_np_version_under1p14',\n",
       " '_np_version_under1p15',\n",
       " '_tslib',\n",
       " '_version',\n",
       " 'api',\n",
       " 'bdate_range',\n",
       " 'compat',\n",
       " 'concat',\n",
       " 'core',\n",
       " 'crosstab',\n",
       " 'cut',\n",
       " 'date_range',\n",
       " 'datetime',\n",
       " 'datetools',\n",
       " 'describe_option',\n",
       " 'errors',\n",
       " 'eval',\n",
       " 'factorize',\n",
       " 'get_dummies',\n",
       " 'get_option',\n",
       " 'get_store',\n",
       " 'groupby',\n",
       " 'infer_freq',\n",
       " 'interval_range',\n",
       " 'io',\n",
       " 'isna',\n",
       " 'isnull',\n",
       " 'json',\n",
       " 'lib',\n",
       " 'lreshape',\n",
       " 'match',\n",
       " 'melt',\n",
       " 'merge',\n",
       " 'merge_asof',\n",
       " 'merge_ordered',\n",
       " 'notna',\n",
       " 'notnull',\n",
       " 'np',\n",
       " 'offsets',\n",
       " 'option_context',\n",
       " 'options',\n",
       " 'pandas',\n",
       " 'parser',\n",
       " 'period_range',\n",
       " 'pivot',\n",
       " 'pivot_table',\n",
       " 'plot_params',\n",
       " 'plotting',\n",
       " 'pnow',\n",
       " 'qcut',\n",
       " 'read_clipboard',\n",
       " 'read_csv',\n",
       " 'read_excel',\n",
       " 'read_feather',\n",
       " 'read_fwf',\n",
       " 'read_gbq',\n",
       " 'read_hdf',\n",
       " 'read_html',\n",
       " 'read_json',\n",
       " 'read_msgpack',\n",
       " 'read_parquet',\n",
       " 'read_pickle',\n",
       " 'read_sas',\n",
       " 'read_sql',\n",
       " 'read_sql_query',\n",
       " 'read_sql_table',\n",
       " 'read_stata',\n",
       " 'read_table',\n",
       " 'reset_option',\n",
       " 'scatter_matrix',\n",
       " 'set_eng_float_format',\n",
       " 'set_option',\n",
       " 'show_versions',\n",
       " 'test',\n",
       " 'testing',\n",
       " 'timedelta_range',\n",
       " 'to_datetime',\n",
       " 'to_msgpack',\n",
       " 'to_numeric',\n",
       " 'to_pickle',\n",
       " 'to_timedelta',\n",
       " 'tools',\n",
       " 'tseries',\n",
       " 'tslib',\n",
       " 'unique',\n",
       " 'util',\n",
       " 'value_counts',\n",
       " 'wide_to_long']"
      ]
     },
     "execution_count": 42,
     "metadata": {},
     "output_type": "execute_result"
    }
   ],
   "source": [
    "dir(pd)"
   ]
  },
  {
   "cell_type": "code",
   "execution_count": 43,
   "metadata": {
    "scrolled": true
   },
   "outputs": [
    {
     "data": {
      "text/html": [
       "<div>\n",
       "<style scoped>\n",
       "    .dataframe tbody tr th:only-of-type {\n",
       "        vertical-align: middle;\n",
       "    }\n",
       "\n",
       "    .dataframe tbody tr th {\n",
       "        vertical-align: top;\n",
       "    }\n",
       "\n",
       "    .dataframe thead th {\n",
       "        text-align: right;\n",
       "    }\n",
       "</style>\n",
       "<table border=\"1\" class=\"dataframe\">\n",
       "  <thead>\n",
       "    <tr style=\"text-align: right;\">\n",
       "      <th></th>\n",
       "      <th>Ticker</th>\n",
       "      <th>Short Name</th>\n",
       "      <th>Prim Exch Nm</th>\n",
       "      <th>Cntry of Risk</th>\n",
       "      <th>GICS SubInd Name</th>\n",
       "      <th>Eqty Fund Curncy</th>\n",
       "      <th>Revenue (USD):2017</th>\n",
       "    </tr>\n",
       "  </thead>\n",
       "  <tbody>\n",
       "    <tr>\n",
       "      <th>0</th>\n",
       "      <td>BAT SJ Equity</td>\n",
       "      <td>BRAIT SE</td>\n",
       "      <td>Johannesburg</td>\n",
       "      <td>ZA</td>\n",
       "      <td>Asset Management &amp; Custody Banks</td>\n",
       "      <td>ZAR</td>\n",
       "      <td>-1.048181e+09</td>\n",
       "    </tr>\n",
       "    <tr>\n",
       "      <th>1</th>\n",
       "      <td>MEDGULF AB Equity</td>\n",
       "      <td>MEDITERRANEAN &amp;</td>\n",
       "      <td>Saudi Arabia</td>\n",
       "      <td>SA</td>\n",
       "      <td>Multi-line Insurance</td>\n",
       "      <td>SAR</td>\n",
       "      <td>-1.019668e+08</td>\n",
       "    </tr>\n",
       "    <tr>\n",
       "      <th>2</th>\n",
       "      <td>913 HK Equity</td>\n",
       "      <td>UNITY INVESTMENT</td>\n",
       "      <td>Hong Kong</td>\n",
       "      <td>HK</td>\n",
       "      <td>Asset Management &amp; Custody Banks</td>\n",
       "      <td>HKD</td>\n",
       "      <td>-7.755547e+07</td>\n",
       "    </tr>\n",
       "    <tr>\n",
       "      <th>3</th>\n",
       "      <td>OPP LN Equity</td>\n",
       "      <td>ORIGO PARTNERS P</td>\n",
       "      <td>London</td>\n",
       "      <td>IM</td>\n",
       "      <td>Asset Management &amp; Custody Banks</td>\n",
       "      <td>USD</td>\n",
       "      <td>-7.749200e+07</td>\n",
       "    </tr>\n",
       "    <tr>\n",
       "      <th>4</th>\n",
       "      <td>1101 HK Equity</td>\n",
       "      <td>CHINA HUARONG EN</td>\n",
       "      <td>Hong Kong</td>\n",
       "      <td>CN</td>\n",
       "      <td>Construction Machinery &amp; Heavy Trucks</td>\n",
       "      <td>CNY</td>\n",
       "      <td>-7.590439e+07</td>\n",
       "    </tr>\n",
       "  </tbody>\n",
       "</table>\n",
       "</div>"
      ],
      "text/plain": [
       "              Ticker        Short Name  Prim Exch Nm Cntry of Risk  \\\n",
       "0      BAT SJ Equity          BRAIT SE  Johannesburg            ZA   \n",
       "1  MEDGULF AB Equity   MEDITERRANEAN &  Saudi Arabia            SA   \n",
       "2      913 HK Equity  UNITY INVESTMENT     Hong Kong            HK   \n",
       "3      OPP LN Equity  ORIGO PARTNERS P        London            IM   \n",
       "4     1101 HK Equity  CHINA HUARONG EN     Hong Kong            CN   \n",
       "\n",
       "                        GICS SubInd Name Eqty Fund Curncy  Revenue (USD):2017  \n",
       "0       Asset Management & Custody Banks              ZAR       -1.048181e+09  \n",
       "1                   Multi-line Insurance              SAR       -1.019668e+08  \n",
       "2       Asset Management & Custody Banks              HKD       -7.755547e+07  \n",
       "3       Asset Management & Custody Banks              USD       -7.749200e+07  \n",
       "4  Construction Machinery & Heavy Trucks              CNY       -7.590439e+07  "
      ]
     },
     "execution_count": 43,
     "metadata": {},
     "output_type": "execute_result"
    }
   ],
   "source": [
    "#TODO Загрузить эксельку в pd.DataFrame\n",
    "data = pd.read_excel('YH.xlsx', sep = \",\") \n",
    "href = {}\n",
    "data.head()"
   ]
  },
  {
   "cell_type": "code",
   "execution_count": null,
   "metadata": {},
   "outputs": [],
   "source": [
    "name = data.loc[0, 'Short Name']\n",
    "\n",
    "browser = Chrome(executable_path=\"chromedriver\")\n",
    "\n",
    "browser.get('https://finance.yahoo.com/quote/BAB?p=BAB&.tsrc=fin-srch-v1')\n",
    "search_form = browser.find_element_by_xpath('''//*[@id=\"fin-srch-assist\"]/input''')\n",
    "search_form.send_keys(name)\n",
    "search_form.send_keys(Keys.ENTER)\n",
    "time.sleep(2)\n",
    "\n",
    "\n",
    "sleep(2)\n",
    "target_place = browser.find_element_by_xpath('''//*[@id=\"lookup-page\"]/section/div/div/div/div/table/tbody/tr[1]/td[1]/a''')\n",
    "target_place.click()\n",
    "\n",
    "sleep(2)\n",
    "history_place = browser.find_element_by_xpath('''//*[@id=\"quote-nav\"]/ul/li[9]/a/span''')\n",
    "history_place.click()\n",
    "        \n",
    "sleep(2)\n",
    "dates = browser.find_element_by_xpath('''//*[@id=\"Col1-1-HistoricalDataTable-Proxy\"]/section/div[1]/div[1]/div[1]/span[2]/span/input''')\n",
    "dates.click()\n",
    "\n",
    "sleep(1)\n",
    "max_ts = browser.find_element_by_xpath('''//*[@id=\"Col1-1-HistoricalDataTable-Proxy\"]/section/div[1]/div[1]/div[1]/span[2]/div/div[1]/span[8]/span''')\n",
    "max_ts.click()\n",
    "\n",
    "sleep(1)\n",
    "done = browser.find_element_by_xpath('''//*[@id=\"Col1-1-HistoricalDataTable-Proxy\"]/section/div[1]/div[1]/div[1]/span[2]/div/div[3]/button[1]/span''')\n",
    "done.click()\n",
    "\n",
    "sleep(1)\n",
    "apply = browser.find_element_by_xpath('''//*[@id=\"Col1-1-HistoricalDataTable-Proxy\"]/section/div[1]/div[1]/button/span''')\n",
    "apply.click()\n",
    "result = browser.find_element_by_xpath('''//*[@id=\"Col1-1-HistoricalDataTable-Proxy\"]/section/div[1]/div[2]/span[2]/a''')\n",
    "href[name] = result.get_attribute(\"href\")"
   ]
  },
  {
   "cell_type": "code",
   "execution_count": null,
   "metadata": {
    "collapsed": true
   },
   "outputs": [],
   "source": [
    "#TODO Завернуть в функцию, которая парсит ShortName из data. Формируем dict href"
   ]
  },
  {
   "cell_type": "code",
   "execution_count": null,
   "metadata": {
    "collapsed": true
   },
   "outputs": [],
   "source": [
    "#TODO Давайте спарсим выдачу Яндекса (1 страницу) на запрос по вашему Имени Фамилии"
   ]
  }
 ],
 "metadata": {
  "anaconda-cloud": {},
  "kernelspec": {
   "display_name": "Python 3",
   "language": "python",
   "name": "python3"
  },
  "language_info": {
   "codemirror_mode": {
    "name": "ipython",
    "version": 3
   },
   "file_extension": ".py",
   "mimetype": "text/x-python",
   "name": "python",
   "nbconvert_exporter": "python",
   "pygments_lexer": "ipython3",
   "version": "3.6.5"
  }
 },
 "nbformat": 4,
 "nbformat_minor": 2
}
