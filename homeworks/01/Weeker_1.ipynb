{
 "cells": [
  {
   "cell_type": "markdown",
   "metadata": {},
   "source": [
    "# Недельник 1\n",
    "\n",
    "Как было сказано на лекции, на текущей неделе вы получаете ежедневные задания. Система оценки следующая: в первый день(четверг) вы делаете первый pull-request в ветку homework_01. Потом каждый день делаете коммит, он будет автоматически привязывать к pull-request. Если задачка не сделана в течении 2-х дней она сгорает. (Можно четверг сделать в четверг и пятницу)"
   ]
  },
  {
   "cell_type": "markdown",
   "metadata": {},
   "source": [
    "# Четверг"
   ]
  },
  {
   "cell_type": "code",
   "execution_count": 2,
   "metadata": {},
   "outputs": [],
   "source": [
    "#TODO Сделайте калькулятор произвольных выражений, операции следующие: +, -, /, ^, *. скобок нет\n",
    "def calculate(input_str):\n",
    "    s = ' '\n",
    "    input_str = s + input_str + s \n",
    "    number1=''\n",
    "    number2=''\n",
    "    new_count = 0\n",
    "    pos = 0\n",
    "    down = 0\n",
    "    up = 0\n",
    "    k = 0\n",
    "    l = len(input_str)\n",
    "    for i in range(l):\n",
    "        if input_str[i] == '+' or input_str[i] == '-' or input_str[i] == '/' or input_str[i] == '^' or input_str[i] == '*':\n",
    "            k += 1\n",
    "    for i in range(k):\n",
    "        print(input_str)\n",
    "        pos = input_str.find('^')\n",
    "        if  pos != -1:\n",
    "            down = input_str.rfind(' ',0,pos - 2)\n",
    "            up = input_str.find(' ',pos + 2,)\n",
    "            number1 = input_str[down : pos - 1]\n",
    "            number2 = input_str[pos + 1 : up]\n",
    "            new_count = int(number1) ** int(number2)\n",
    "            input_str = input_str[:down + 1] + str(new_count) + input_str[up:]\n",
    "            continue\n",
    "        pos = input_str.find('/')\n",
    "        if  pos != -1:\n",
    "            down = input_str.rfind(' ',0,pos - 2)\n",
    "            up = input_str.find(' ',pos + 2,)\n",
    "            number1 = input_str[down : pos - 1]\n",
    "            number2 = input_str[pos + 1 : up]\n",
    "            new_count = int(number1) // int(number2)\n",
    "            input_str = input_str[:down + 1] + str(new_count) + input_str[up:]\n",
    "            continue\n",
    "        pos = input_str.find('*')    \n",
    "        if  pos != -1:\n",
    "            down = input_str.rfind(' ',0,pos - 2)\n",
    "            up = input_str.find(' ',pos + 2)\n",
    "            number1 = input_str[down : pos - 1]\n",
    "            number2 = input_str[pos + 1 : up]\n",
    "            new_count = int(number1) * int(number2)\n",
    "            input_str = input_str[:down + 1] + str(new_count) + input_str[up:]\n",
    "            continue\n",
    "        pos = input_str.find('-')\n",
    "        if  pos != -1:\n",
    "            down = input_str.rfind(' ',0,pos - 2)\n",
    "            up = input_str.find(' ',pos + 2,)\n",
    "            number1 = input_str[down : pos - 1]\n",
    "            number2 = input_str[pos + 1 : up]\n",
    "            new_count = int(number1) - int(number2)\n",
    "            input_str = input_str[:down + 1] + str(new_count) + input_str[up:]\n",
    "            continue\n",
    "        pos = input_str.find('+')\n",
    "        if  pos != -1:\n",
    "            down = input_str.rfind(' ',0,pos - 2)\n",
    "            up = input_str.find(' ',pos + 2,)\n",
    "            number1 = input_str[down : pos - 1]\n",
    "            number2 = input_str[pos + 1 : up]\n",
    "            new_count = int(number1) + int(number2)\n",
    "            input_str = input_str[:down + 1] + str(new_count) + input_str[up:]\n",
    "            continue    \n",
    "    print(input_str)\n",
    "    return int(input_str)"
   ]
  },
  {
   "cell_type": "code",
   "execution_count": 3,
   "metadata": {},
   "outputs": [
    {
     "name": "stdout",
     "output_type": "stream",
     "text": [
      " 2 + 2 * 2 \n",
      " 2 + 4 \n",
      " 6 \n",
      " 345 / 5 * 21 \n",
      " 69 * 21 \n",
      " 1449 \n",
      " 42 / 7 * 32 \n",
      " 6 * 32 \n",
      " 192 \n",
      " 3 ^ 3 - 10 + 41 * 3 \n",
      " 27 - 10 + 41 * 3 \n",
      " 27 - 10 + 123 \n",
      " 17 + 123 \n",
      " 140 \n",
      " 3 ^ 6 + 40 - 30 + 30 * 3 \n",
      " 729 + 40 - 30 + 30 * 3 \n",
      " 729 + 40 - 30 + 90 \n",
      " 729 + 10 + 90 \n",
      " 739 + 90 \n",
      " 829 \n",
      " 1000 - 3 * 3 * 3 * 6 / 2 + 6 \n",
      " 1000 - 3 * 3 * 3 * 3 + 6 \n",
      " 1000 - 9 * 3 * 3 + 6 \n",
      " 1000 - 27 * 3 + 6 \n",
      " 1000 - 81 + 6 \n",
      " 919 + 6 \n",
      " 925 \n"
     ]
    }
   ],
   "source": [
    "assert calculate(\"2 + 2 * 2\") == 6\n",
    "assert calculate(\"345 / 5 * 21\") == 1449.\n",
    "assert calculate(\"42 / 7 * 32\") == 192.0\n",
    "assert calculate(\"3 ^ 3 - 10 + 41 * 3\") == 140\n",
    "assert calculate(\"3 ^ 6 + 40 - 30 + 30 * 3\") == 829\n",
    "assert calculate(\"1000 - 3 * 3 * 3 * 6 / 2 + 6\") == 925\n",
    "#TODO Дополнить еще 2-мя своими тестами"
   ]
  },
  {
   "cell_type": "markdown",
   "metadata": {},
   "source": [
    "# Пятница"
   ]
  },
  {
   "cell_type": "code",
   "execution_count": 120,
   "metadata": {},
   "outputs": [],
   "source": [
    "#TODO метод разворачивающий строку HE2LO -> HELLO (число означает сколько раз встречается буква)\n",
    "def transform_string(inp_string):\n",
    "    number = len(inp_string)\n",
    "    count = 0\n",
    "    ss = ''\n",
    "    t = []\n",
    "    inp_string += ' '\n",
    "    for i in range(number):\n",
    "        if inp_string[i].isdigit():\n",
    "            ss = ss + inp_string[i]\n",
    "            if inp_string[i+1].isdigit():\n",
    "                continue\n",
    "            else:\n",
    "                t.append(ss)\n",
    "                ss = ''\n",
    "    k = 0\n",
    "    n = -1\n",
    "    new_s = []\n",
    "    for i in range(number):\n",
    "        if inp_string[i].isdigit():\n",
    "            if inp_string[i-1].isdigit():\n",
    "                pass\n",
    "            else:\n",
    "                n += 1\n",
    "                new_s.append(inp_string[k:i])\n",
    "                k = i + len(t[n]) + 1\n",
    "                i += len(t[n])\n",
    "                new_s.append(inp_string[i] * int(t[n]))\n",
    "                \n",
    "    new_s.append(inp_string[k:number])\n",
    "    s = ''\n",
    "    for elem in new_s:\n",
    "        s += elem\n",
    "    print(s)\n",
    "            \n",
    "    \n",
    "    return s"
   ]
  },
  {
   "cell_type": "code",
   "execution_count": 121,
   "metadata": {},
   "outputs": [
    {
     "name": "stdout",
     "output_type": "stream",
     "text": [
      "HELLO\n",
      "HI\n",
      "приииииииииииивет\n",
      "ллуууннннннннннннннннннннннннннннннннннннннннннннннннннннннннннннннннннннннннннннннтттттттттттттттттттттттттттттттттттттттттттттттттттттттттттттттттик\n",
      "тевиРРРРРРп\n",
      "мэээээээээйййййййййлру\n"
     ]
    }
   ],
   "source": [
    "assert transform_string(\"HE2LO\") == \"HELLO\"\n",
    "assert transform_string(\"HI\") == \"HI\"\n",
    "assert transform_string(\"пр12ивет\") == \"приииииииииииивет\"\n",
    "assert transform_string(\"2л3у78н65тик\") == 'ллуууннннннннннннннннннннннннннннннннннннннннннннннннннннннннннннннннннннннннннннннтттттттттттттттттттттттттттттттттттттттттттттттттттттттттттттттттик'\n",
    "assert transform_string(\"теви6Рп\") == 'тевиРРРРРРп'\n",
    "assert transform_string(\"м9э9йлру\") == 'мэээээээээйййййййййлру'\n",
    "#TODO Дописать 2 своих теста"
   ]
  },
  {
   "cell_type": "markdown",
   "metadata": {},
   "source": [
    "# Суббота"
   ]
  },
  {
   "cell_type": "code",
   "execution_count": 118,
   "metadata": {},
   "outputs": [],
   "source": [
    "#TODO метод выводящий статистику по строке, кол-во гласных, согласных, цифр, строчных букв, прописных букв\n",
    "def string_stat(inp_string):\n",
    "  \n",
    "    return 0"
   ]
  },
  {
   "cell_type": "code",
   "execution_count": 119,
   "metadata": {},
   "outputs": [
    {
     "ename": "AssertionError",
     "evalue": "",
     "output_type": "error",
     "traceback": [
      "\u001b[1;31m---------------------------------------------------------------------------\u001b[0m",
      "\u001b[1;31mAssertionError\u001b[0m                            Traceback (most recent call last)",
      "\u001b[1;32m<ipython-input-119-972157069ef1>\u001b[0m in \u001b[0;36m<module>\u001b[1;34m()\u001b[0m\n\u001b[1;32m----> 1\u001b[1;33m \u001b[1;32massert\u001b[0m \u001b[0mstring_stat\u001b[0m\u001b[1;33m(\u001b[0m\u001b[1;34m\"Тевирп\"\u001b[0m\u001b[1;33m)\u001b[0m \u001b[1;33m==\u001b[0m \u001b[1;33m(\u001b[0m\u001b[1;36m2\u001b[0m\u001b[1;33m,\u001b[0m \u001b[1;36m4\u001b[0m\u001b[1;33m,\u001b[0m \u001b[1;36m0\u001b[0m\u001b[1;33m,\u001b[0m \u001b[1;36m5\u001b[0m\u001b[1;33m,\u001b[0m \u001b[1;36m1\u001b[0m\u001b[1;33m)\u001b[0m\u001b[1;33m\u001b[0m\u001b[0m\n\u001b[0m\u001b[0;32m      2\u001b[0m \u001b[1;32massert\u001b[0m \u001b[0mstring_stat\u001b[0m\u001b[1;33m(\u001b[0m\u001b[1;34m\"КоРоВа4\"\u001b[0m\u001b[1;33m)\u001b[0m \u001b[1;33m==\u001b[0m \u001b[1;33m(\u001b[0m\u001b[1;36m3\u001b[0m\u001b[1;33m,\u001b[0m \u001b[1;36m3\u001b[0m\u001b[1;33m,\u001b[0m \u001b[1;36m1\u001b[0m\u001b[1;33m,\u001b[0m \u001b[1;36m3\u001b[0m\u001b[1;33m,\u001b[0m \u001b[1;36m3\u001b[0m\u001b[1;33m)\u001b[0m\u001b[1;33m\u001b[0m\u001b[0m\n\u001b[0;32m      3\u001b[0m \u001b[1;33m\u001b[0m\u001b[0m\n\u001b[0;32m      4\u001b[0m \u001b[1;31m#TODO 2 своих теста\u001b[0m\u001b[1;33m\u001b[0m\u001b[1;33m\u001b[0m\u001b[0m\n",
      "\u001b[1;31mAssertionError\u001b[0m: "
     ]
    }
   ],
   "source": [
    "assert string_stat(\"Тевирп\") == (2, 4, 0, 5, 1)\n",
    "assert string_stat(\"КоРоВа4\") == (3, 3, 1, 3, 3)\n",
    "\n",
    "#TODO 2 своих теста"
   ]
  },
  {
   "cell_type": "markdown",
   "metadata": {},
   "source": [
    "# Воскресенье - ВЫХОДНОЙ"
   ]
  },
  {
   "cell_type": "markdown",
   "metadata": {},
   "source": [
    "# Понедельник"
   ]
  },
  {
   "cell_type": "code",
   "execution_count": null,
   "metadata": {},
   "outputs": [],
   "source": [
    "#TODO инвертируйте словарь из k - [v_1, v_2] в v_1 [k_1]\n",
    "def dict_inverter(input_dict):\n",
    "    return {}"
   ]
  },
  {
   "cell_type": "code",
   "execution_count": null,
   "metadata": {},
   "outputs": [],
   "source": [
    "assert dict_inverter({\"mango\" : [\"eatable\"], \"pillow\": [\"sleepable\"]}) == {\"eatable\": \"mango\", \"sleepable\": \"pillow\"}\n",
    "assert dict_inverter({\"mango\" : [\"eatable\", \"readable\"]}) == {\"readable\":\"mango\", \"eatable\":\"mango\"}\n",
    "assert dict_inverter({\"mango\" : [\"eatable\"], \"banana\": [\"eatable\"]}) == {\"eatable\": [\"mango\", \"banana\"]}\n",
    "\n",
    "#TODO Один свой тест"
   ]
  },
  {
   "cell_type": "markdown",
   "metadata": {},
   "source": [
    "# Вторник"
   ]
  },
  {
   "cell_type": "code",
   "execution_count": null,
   "metadata": {},
   "outputs": [],
   "source": [
    "#TODO вывести уникальные элементы массива\n",
    "def uniq_array(input_arr):\n",
    "    return []"
   ]
  },
  {
   "cell_type": "code",
   "execution_count": null,
   "metadata": {},
   "outputs": [],
   "source": [
    "assert uniq_array([0]) == [0]\n",
    "assert uniq_array([0, 1, 2, 3]) == [0, 1, 2, 3]\n",
    "assert uniq_array([\"f\", \"t\", \"f\"]) == ['t', 'f']\n",
    "assert uniq_array(['rt', 'rt']) == ['rt']"
   ]
  }
 ],
 "metadata": {
  "kernelspec": {
   "display_name": "Python 3",
   "language": "python",
   "name": "python3"
  },
  "language_info": {
   "codemirror_mode": {
    "name": "ipython",
    "version": 3
   },
   "file_extension": ".py",
   "mimetype": "text/x-python",
   "name": "python",
   "nbconvert_exporter": "python",
   "pygments_lexer": "ipython3",
   "version": "3.6.5"
  }
 },
 "nbformat": 4,
 "nbformat_minor": 2
}
