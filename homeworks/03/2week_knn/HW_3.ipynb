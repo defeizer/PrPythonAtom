{
 "cells": [
  {
   "cell_type": "markdown",
   "metadata": {},
   "source": [
    "# HW"
   ]
  },
  {
   "cell_type": "raw",
   "metadata": {},
   "source": [
    "Мои Фамилия Имя: ___Сальников Николай__"
   ]
  },
  {
   "cell_type": "code",
   "execution_count": 120,
   "metadata": {},
   "outputs": [],
   "source": [
    "import numpy as np\n",
    "import pandas as pd"
   ]
  },
  {
   "cell_type": "markdown",
   "metadata": {},
   "source": [
    "##### Загрузите датасет titanic.csv"
   ]
  },
  {
   "cell_type": "code",
   "execution_count": 121,
   "metadata": {},
   "outputs": [],
   "source": [
    "df_titanic = pd.read_csv('titanic.csv')"
   ]
  },
  {
   "cell_type": "code",
   "execution_count": 122,
   "metadata": {},
   "outputs": [
    {
     "data": {
      "text/html": [
       "<div>\n",
       "<style scoped>\n",
       "    .dataframe tbody tr th:only-of-type {\n",
       "        vertical-align: middle;\n",
       "    }\n",
       "\n",
       "    .dataframe tbody tr th {\n",
       "        vertical-align: top;\n",
       "    }\n",
       "\n",
       "    .dataframe thead th {\n",
       "        text-align: right;\n",
       "    }\n",
       "</style>\n",
       "<table border=\"1\" class=\"dataframe\">\n",
       "  <thead>\n",
       "    <tr style=\"text-align: right;\">\n",
       "      <th></th>\n",
       "      <th>PassengerId</th>\n",
       "      <th>Survived</th>\n",
       "      <th>Pclass</th>\n",
       "      <th>Name</th>\n",
       "      <th>Sex</th>\n",
       "      <th>Age</th>\n",
       "      <th>SibSp</th>\n",
       "      <th>Parch</th>\n",
       "      <th>Ticket</th>\n",
       "      <th>Fare</th>\n",
       "      <th>Cabin</th>\n",
       "      <th>Embarked</th>\n",
       "    </tr>\n",
       "  </thead>\n",
       "  <tbody>\n",
       "    <tr>\n",
       "      <th>0</th>\n",
       "      <td>1</td>\n",
       "      <td>0</td>\n",
       "      <td>3</td>\n",
       "      <td>Braund, Mr. Owen Harris</td>\n",
       "      <td>male</td>\n",
       "      <td>22.0</td>\n",
       "      <td>1</td>\n",
       "      <td>0</td>\n",
       "      <td>A/5 21171</td>\n",
       "      <td>7.2500</td>\n",
       "      <td>NaN</td>\n",
       "      <td>S</td>\n",
       "    </tr>\n",
       "    <tr>\n",
       "      <th>1</th>\n",
       "      <td>2</td>\n",
       "      <td>1</td>\n",
       "      <td>1</td>\n",
       "      <td>Cumings, Mrs. John Bradley (Florence Briggs Th...</td>\n",
       "      <td>female</td>\n",
       "      <td>38.0</td>\n",
       "      <td>1</td>\n",
       "      <td>0</td>\n",
       "      <td>PC 17599</td>\n",
       "      <td>71.2833</td>\n",
       "      <td>C85</td>\n",
       "      <td>C</td>\n",
       "    </tr>\n",
       "    <tr>\n",
       "      <th>2</th>\n",
       "      <td>3</td>\n",
       "      <td>1</td>\n",
       "      <td>3</td>\n",
       "      <td>Heikkinen, Miss. Laina</td>\n",
       "      <td>female</td>\n",
       "      <td>26.0</td>\n",
       "      <td>0</td>\n",
       "      <td>0</td>\n",
       "      <td>STON/O2. 3101282</td>\n",
       "      <td>7.9250</td>\n",
       "      <td>NaN</td>\n",
       "      <td>S</td>\n",
       "    </tr>\n",
       "    <tr>\n",
       "      <th>3</th>\n",
       "      <td>4</td>\n",
       "      <td>1</td>\n",
       "      <td>1</td>\n",
       "      <td>Futrelle, Mrs. Jacques Heath (Lily May Peel)</td>\n",
       "      <td>female</td>\n",
       "      <td>35.0</td>\n",
       "      <td>1</td>\n",
       "      <td>0</td>\n",
       "      <td>113803</td>\n",
       "      <td>53.1000</td>\n",
       "      <td>C123</td>\n",
       "      <td>S</td>\n",
       "    </tr>\n",
       "    <tr>\n",
       "      <th>4</th>\n",
       "      <td>5</td>\n",
       "      <td>0</td>\n",
       "      <td>3</td>\n",
       "      <td>Allen, Mr. William Henry</td>\n",
       "      <td>male</td>\n",
       "      <td>35.0</td>\n",
       "      <td>0</td>\n",
       "      <td>0</td>\n",
       "      <td>373450</td>\n",
       "      <td>8.0500</td>\n",
       "      <td>NaN</td>\n",
       "      <td>S</td>\n",
       "    </tr>\n",
       "  </tbody>\n",
       "</table>\n",
       "</div>"
      ],
      "text/plain": [
       "   PassengerId  Survived  Pclass  \\\n",
       "0            1         0       3   \n",
       "1            2         1       1   \n",
       "2            3         1       3   \n",
       "3            4         1       1   \n",
       "4            5         0       3   \n",
       "\n",
       "                                                Name     Sex   Age  SibSp  \\\n",
       "0                            Braund, Mr. Owen Harris    male  22.0      1   \n",
       "1  Cumings, Mrs. John Bradley (Florence Briggs Th...  female  38.0      1   \n",
       "2                             Heikkinen, Miss. Laina  female  26.0      0   \n",
       "3       Futrelle, Mrs. Jacques Heath (Lily May Peel)  female  35.0      1   \n",
       "4                           Allen, Mr. William Henry    male  35.0      0   \n",
       "\n",
       "   Parch            Ticket     Fare Cabin Embarked  \n",
       "0      0         A/5 21171   7.2500   NaN        S  \n",
       "1      0          PC 17599  71.2833   C85        C  \n",
       "2      0  STON/O2. 3101282   7.9250   NaN        S  \n",
       "3      0            113803  53.1000  C123        S  \n",
       "4      0            373450   8.0500   NaN        S  "
      ]
     },
     "execution_count": 122,
     "metadata": {},
     "output_type": "execute_result"
    }
   ],
   "source": [
    "df_titanic.head()"
   ]
  },
  {
   "cell_type": "code",
   "execution_count": 123,
   "metadata": {
    "scrolled": true
   },
   "outputs": [
    {
     "data": {
      "text/plain": [
       "(891, 12)"
      ]
     },
     "execution_count": 123,
     "metadata": {},
     "output_type": "execute_result"
    }
   ],
   "source": [
    "df_titanic.shape"
   ]
  },
  {
   "cell_type": "code",
   "execution_count": 124,
   "metadata": {},
   "outputs": [
    {
     "name": "stdout",
     "output_type": "stream",
     "text": [
      "<class 'pandas.core.frame.DataFrame'>\n",
      "RangeIndex: 891 entries, 0 to 890\n",
      "Data columns (total 12 columns):\n",
      "PassengerId    891 non-null int64\n",
      "Survived       891 non-null int64\n",
      "Pclass         891 non-null int64\n",
      "Name           891 non-null object\n",
      "Sex            891 non-null object\n",
      "Age            714 non-null float64\n",
      "SibSp          891 non-null int64\n",
      "Parch          891 non-null int64\n",
      "Ticket         891 non-null object\n",
      "Fare           891 non-null float64\n",
      "Cabin          204 non-null object\n",
      "Embarked       889 non-null object\n",
      "dtypes: float64(2), int64(5), object(5)\n",
      "memory usage: 83.6+ KB\n"
     ]
    }
   ],
   "source": [
    "df_titanic.info()"
   ]
  },
  {
   "cell_type": "markdown",
   "metadata": {},
   "source": [
    "> Обратите внимание на разное количество значений переменных\n",
    "Если это так - то у вас пропуски в данных. Такое бывает. \n",
    "Например в этом датасете не получилось выяснить всех подробностей у некоторых людей в виду утери данных, невозможности узнать или восстановить их"
   ]
  },
  {
   "cell_type": "code",
   "execution_count": 125,
   "metadata": {
    "scrolled": true
   },
   "outputs": [
    {
     "data": {
      "text/html": [
       "<div>\n",
       "<style scoped>\n",
       "    .dataframe tbody tr th:only-of-type {\n",
       "        vertical-align: middle;\n",
       "    }\n",
       "\n",
       "    .dataframe tbody tr th {\n",
       "        vertical-align: top;\n",
       "    }\n",
       "\n",
       "    .dataframe thead th {\n",
       "        text-align: right;\n",
       "    }\n",
       "</style>\n",
       "<table border=\"1\" class=\"dataframe\">\n",
       "  <thead>\n",
       "    <tr style=\"text-align: right;\">\n",
       "      <th></th>\n",
       "      <th>PassengerId</th>\n",
       "      <th>Survived</th>\n",
       "      <th>Pclass</th>\n",
       "      <th>Age</th>\n",
       "      <th>SibSp</th>\n",
       "      <th>Parch</th>\n",
       "      <th>Fare</th>\n",
       "    </tr>\n",
       "  </thead>\n",
       "  <tbody>\n",
       "    <tr>\n",
       "      <th>count</th>\n",
       "      <td>891.000000</td>\n",
       "      <td>891.000000</td>\n",
       "      <td>891.000000</td>\n",
       "      <td>714.000000</td>\n",
       "      <td>891.000000</td>\n",
       "      <td>891.000000</td>\n",
       "      <td>891.000000</td>\n",
       "    </tr>\n",
       "    <tr>\n",
       "      <th>mean</th>\n",
       "      <td>446.000000</td>\n",
       "      <td>0.383838</td>\n",
       "      <td>2.308642</td>\n",
       "      <td>29.699118</td>\n",
       "      <td>0.523008</td>\n",
       "      <td>0.381594</td>\n",
       "      <td>32.204208</td>\n",
       "    </tr>\n",
       "    <tr>\n",
       "      <th>std</th>\n",
       "      <td>257.353842</td>\n",
       "      <td>0.486592</td>\n",
       "      <td>0.836071</td>\n",
       "      <td>14.526497</td>\n",
       "      <td>1.102743</td>\n",
       "      <td>0.806057</td>\n",
       "      <td>49.693429</td>\n",
       "    </tr>\n",
       "    <tr>\n",
       "      <th>min</th>\n",
       "      <td>1.000000</td>\n",
       "      <td>0.000000</td>\n",
       "      <td>1.000000</td>\n",
       "      <td>0.420000</td>\n",
       "      <td>0.000000</td>\n",
       "      <td>0.000000</td>\n",
       "      <td>0.000000</td>\n",
       "    </tr>\n",
       "    <tr>\n",
       "      <th>25%</th>\n",
       "      <td>223.500000</td>\n",
       "      <td>0.000000</td>\n",
       "      <td>2.000000</td>\n",
       "      <td>20.125000</td>\n",
       "      <td>0.000000</td>\n",
       "      <td>0.000000</td>\n",
       "      <td>7.910400</td>\n",
       "    </tr>\n",
       "    <tr>\n",
       "      <th>50%</th>\n",
       "      <td>446.000000</td>\n",
       "      <td>0.000000</td>\n",
       "      <td>3.000000</td>\n",
       "      <td>28.000000</td>\n",
       "      <td>0.000000</td>\n",
       "      <td>0.000000</td>\n",
       "      <td>14.454200</td>\n",
       "    </tr>\n",
       "    <tr>\n",
       "      <th>75%</th>\n",
       "      <td>668.500000</td>\n",
       "      <td>1.000000</td>\n",
       "      <td>3.000000</td>\n",
       "      <td>38.000000</td>\n",
       "      <td>1.000000</td>\n",
       "      <td>0.000000</td>\n",
       "      <td>31.000000</td>\n",
       "    </tr>\n",
       "    <tr>\n",
       "      <th>max</th>\n",
       "      <td>891.000000</td>\n",
       "      <td>1.000000</td>\n",
       "      <td>3.000000</td>\n",
       "      <td>80.000000</td>\n",
       "      <td>8.000000</td>\n",
       "      <td>6.000000</td>\n",
       "      <td>512.329200</td>\n",
       "    </tr>\n",
       "  </tbody>\n",
       "</table>\n",
       "</div>"
      ],
      "text/plain": [
       "       PassengerId    Survived      Pclass         Age       SibSp  \\\n",
       "count   891.000000  891.000000  891.000000  714.000000  891.000000   \n",
       "mean    446.000000    0.383838    2.308642   29.699118    0.523008   \n",
       "std     257.353842    0.486592    0.836071   14.526497    1.102743   \n",
       "min       1.000000    0.000000    1.000000    0.420000    0.000000   \n",
       "25%     223.500000    0.000000    2.000000   20.125000    0.000000   \n",
       "50%     446.000000    0.000000    3.000000   28.000000    0.000000   \n",
       "75%     668.500000    1.000000    3.000000   38.000000    1.000000   \n",
       "max     891.000000    1.000000    3.000000   80.000000    8.000000   \n",
       "\n",
       "            Parch        Fare  \n",
       "count  891.000000  891.000000  \n",
       "mean     0.381594   32.204208  \n",
       "std      0.806057   49.693429  \n",
       "min      0.000000    0.000000  \n",
       "25%      0.000000    7.910400  \n",
       "50%      0.000000   14.454200  \n",
       "75%      0.000000   31.000000  \n",
       "max      6.000000  512.329200  "
      ]
     },
     "execution_count": 125,
     "metadata": {},
     "output_type": "execute_result"
    }
   ],
   "source": [
    "df_titanic.describe()"
   ]
  },
  {
   "cell_type": "markdown",
   "metadata": {},
   "source": [
    "> Давайте возьмем для начала только несколько признаков, позже - вы увеличите их количество и сделаете соответствующую обработку."
   ]
  },
  {
   "cell_type": "code",
   "execution_count": 126,
   "metadata": {},
   "outputs": [],
   "source": [
    "columns = ['Sex', 'Age', 'Pclass', 'Survived']"
   ]
  },
  {
   "cell_type": "code",
   "execution_count": 127,
   "metadata": {},
   "outputs": [
    {
     "name": "stdout",
     "output_type": "stream",
     "text": [
      "        Sex   Age  Pclass  Survived\n",
      "0      male  22.0       3         0\n",
      "1    female  38.0       1         1\n",
      "2    female  26.0       3         1\n",
      "3    female  35.0       1         1\n",
      "4      male  35.0       3         0\n",
      "5      male   NaN       3         0\n",
      "6      male  54.0       1         0\n",
      "7      male   2.0       3         0\n",
      "8    female  27.0       3         1\n",
      "9    female  14.0       2         1\n",
      "10   female   4.0       3         1\n",
      "11   female  58.0       1         1\n",
      "12     male  20.0       3         0\n",
      "13     male  39.0       3         0\n",
      "14   female  14.0       3         0\n",
      "15   female  55.0       2         1\n",
      "16     male   2.0       3         0\n",
      "17     male   NaN       2         1\n",
      "18   female  31.0       3         0\n",
      "19   female   NaN       3         1\n",
      "20     male  35.0       2         0\n",
      "21     male  34.0       2         1\n",
      "22   female  15.0       3         1\n",
      "23     male  28.0       1         1\n",
      "24   female   8.0       3         0\n",
      "25   female  38.0       3         1\n",
      "26     male   NaN       3         0\n",
      "27     male  19.0       1         0\n",
      "28   female   NaN       3         1\n",
      "29     male   NaN       3         0\n",
      "..      ...   ...     ...       ...\n",
      "471    male  38.0       3         0\n",
      "472  female  33.0       2         1\n",
      "473  female  23.0       2         1\n",
      "474  female  22.0       3         0\n",
      "475    male   NaN       1         0\n",
      "476    male  34.0       2         0\n",
      "477    male  29.0       3         0\n",
      "478    male  22.0       3         0\n",
      "479  female   2.0       3         1\n",
      "480    male   9.0       3         0\n",
      "481    male   NaN       2         0\n",
      "482    male  50.0       3         0\n",
      "483  female  63.0       3         1\n",
      "484    male  25.0       1         1\n",
      "485  female   NaN       3         0\n",
      "486  female  35.0       1         1\n",
      "487    male  58.0       1         0\n",
      "488    male  30.0       3         0\n",
      "489    male   9.0       3         1\n",
      "490    male   NaN       3         0\n",
      "491    male  21.0       3         0\n",
      "492    male  55.0       1         0\n",
      "493    male  71.0       1         0\n",
      "494    male  21.0       3         0\n",
      "495    male   NaN       3         0\n",
      "496  female  54.0       1         1\n",
      "497    male   NaN       3         0\n",
      "498  female  25.0       1         0\n",
      "499    male  24.0       3         0\n",
      "500    male  17.0       3         0\n",
      "\n",
      "[501 rows x 4 columns]\n"
     ]
    }
   ],
   "source": [
    "simple_train = df_titanic[columns].loc[:500]\n",
    "simple_test = df_titanic[columns].loc[500:]\n",
    "\n",
    "print(simple_train)\n"
   ]
  },
  {
   "cell_type": "markdown",
   "metadata": {},
   "source": [
    "> мы пока не умеем на уровне алгоритма работать с пропущенными значениями. \n",
    "Представьте вам дают 5-мерный вектор у которого заполнены только три компоненты и другой такой же вектор но у него заполнены лишь две  компоненты.  Как померить их сходство????\n",
    "\n",
    "distance_between( [1,0,1, NaN, NaN], [NaN, 1, 1, NaN, NaN] )\n"
   ]
  },
  {
   "cell_type": "markdown",
   "metadata": {},
   "source": [
    "> один из вариантов - заполнить какими то значениями - например если это возраст - то заполнить средним по датасету или нулем.\n",
    "\n",
    ">> на будущее - в sklearn есть такой модуль - http://scikit-learn.org/stable/modules/impute.html но сейчас можете заполнить пропуски средствами pandas - метод fillna()"
   ]
  },
  {
   "cell_type": "markdown",
   "metadata": {},
   "source": [
    "##### Заполните пропущенные значения чем нибудь"
   ]
  },
  {
   "cell_type": "code",
   "execution_count": 128,
   "metadata": {},
   "outputs": [
    {
     "data": {
      "text/plain": [
       "0      22.000000\n",
       "1      38.000000\n",
       "2      26.000000\n",
       "3      35.000000\n",
       "4      35.000000\n",
       "5      29.174185\n",
       "6      54.000000\n",
       "7       2.000000\n",
       "8      27.000000\n",
       "9      14.000000\n",
       "10      4.000000\n",
       "11     58.000000\n",
       "12     20.000000\n",
       "13     39.000000\n",
       "14     14.000000\n",
       "15     55.000000\n",
       "16      2.000000\n",
       "17     29.174185\n",
       "18     31.000000\n",
       "19     29.174185\n",
       "20     35.000000\n",
       "21     34.000000\n",
       "22     15.000000\n",
       "23     28.000000\n",
       "24      8.000000\n",
       "25     38.000000\n",
       "26     29.174185\n",
       "27     19.000000\n",
       "28     29.174185\n",
       "29     29.174185\n",
       "         ...    \n",
       "471    38.000000\n",
       "472    33.000000\n",
       "473    23.000000\n",
       "474    22.000000\n",
       "475    29.174185\n",
       "476    34.000000\n",
       "477    29.000000\n",
       "478    22.000000\n",
       "479     2.000000\n",
       "480     9.000000\n",
       "481    29.174185\n",
       "482    50.000000\n",
       "483    63.000000\n",
       "484    25.000000\n",
       "485    29.174185\n",
       "486    35.000000\n",
       "487    58.000000\n",
       "488    30.000000\n",
       "489     9.000000\n",
       "490    29.174185\n",
       "491    21.000000\n",
       "492    55.000000\n",
       "493    71.000000\n",
       "494    21.000000\n",
       "495    29.174185\n",
       "496    54.000000\n",
       "497    29.174185\n",
       "498    25.000000\n",
       "499    24.000000\n",
       "500    17.000000\n",
       "Name: Age, Length: 501, dtype: float64"
      ]
     },
     "execution_count": 128,
     "metadata": {},
     "output_type": "execute_result"
    }
   ],
   "source": [
    "simple_train['Age'].sum()\n",
    "simple_train['Age'].idxmin()\n",
    "simple_train['Age'].idxmax()\n",
    "simple_train['Age'].min()\n",
    "simple_train['Age'].max()\n",
    "simple_train.agg(['sum', 'mean'])\n",
    "simple_train['Age'].fillna(simple_train['Age'].mean())\n",
    "#print(frame.sum())\n",
    "#print(frame.mean())"
   ]
  },
  {
   "cell_type": "code",
   "execution_count": 129,
   "metadata": {},
   "outputs": [],
   "source": [
    "simple_train['Age'] = simple_train['Age'].fillna(simple_train['Age'].mean())\n",
    "simple_test['Age'] = simple_test['Age'].fillna(simple_test['Age'].mean())\n",
    "# можно inplace делать такое, а можно переприсваивать."
   ]
  },
  {
   "cell_type": "markdown",
   "metadata": {},
   "source": [
    "> мы чемпионы. Но мы понимаем, что алгоритм у нас метрический - он не понимает как померить близость векторов в которых содержатся строки\n",
    "\n",
    "distance( [1,1,0,'мужик'], [1, 0, 1, 'принцесска'] )\n",
    "\n",
    "> поэтому давайте заведем признак is_man который будет принимать значение 0 или 1."
   ]
  },
  {
   "cell_type": "markdown",
   "metadata": {},
   "source": [
    "##### Заведите бинарный признак отвечающий за пол. Строковый удалите\n",
    "\n",
    "хинт - есть метод apply()"
   ]
  },
  {
   "cell_type": "code",
   "execution_count": 130,
   "metadata": {},
   "outputs": [
    {
     "name": "stdout",
     "output_type": "stream",
     "text": [
      "     Sex        Age  Pclass  Survived\n",
      "0      1  22.000000       3         0\n",
      "1      0  38.000000       1         1\n",
      "2      0  26.000000       3         1\n",
      "3      0  35.000000       1         1\n",
      "4      1  35.000000       3         0\n",
      "5      1  29.174185       3         0\n",
      "6      1  54.000000       1         0\n",
      "7      1   2.000000       3         0\n",
      "8      0  27.000000       3         1\n",
      "9      0  14.000000       2         1\n",
      "10     0   4.000000       3         1\n",
      "11     0  58.000000       1         1\n",
      "12     1  20.000000       3         0\n",
      "13     1  39.000000       3         0\n",
      "14     0  14.000000       3         0\n",
      "15     0  55.000000       2         1\n",
      "16     1   2.000000       3         0\n",
      "17     1  29.174185       2         1\n",
      "18     0  31.000000       3         0\n",
      "19     0  29.174185       3         1\n",
      "20     1  35.000000       2         0\n",
      "21     1  34.000000       2         1\n",
      "22     0  15.000000       3         1\n",
      "23     1  28.000000       1         1\n",
      "24     0   8.000000       3         0\n",
      "25     0  38.000000       3         1\n",
      "26     1  29.174185       3         0\n",
      "27     1  19.000000       1         0\n",
      "28     0  29.174185       3         1\n",
      "29     1  29.174185       3         0\n",
      "..   ...        ...     ...       ...\n",
      "471    1  38.000000       3         0\n",
      "472    0  33.000000       2         1\n",
      "473    0  23.000000       2         1\n",
      "474    0  22.000000       3         0\n",
      "475    1  29.174185       1         0\n",
      "476    1  34.000000       2         0\n",
      "477    1  29.000000       3         0\n",
      "478    1  22.000000       3         0\n",
      "479    0   2.000000       3         1\n",
      "480    1   9.000000       3         0\n",
      "481    1  29.174185       2         0\n",
      "482    1  50.000000       3         0\n",
      "483    0  63.000000       3         1\n",
      "484    1  25.000000       1         1\n",
      "485    0  29.174185       3         0\n",
      "486    0  35.000000       1         1\n",
      "487    1  58.000000       1         0\n",
      "488    1  30.000000       3         0\n",
      "489    1   9.000000       3         1\n",
      "490    1  29.174185       3         0\n",
      "491    1  21.000000       3         0\n",
      "492    1  55.000000       1         0\n",
      "493    1  71.000000       1         0\n",
      "494    1  21.000000       3         0\n",
      "495    1  29.174185       3         0\n",
      "496    0  54.000000       1         1\n",
      "497    1  29.174185       3         0\n",
      "498    0  25.000000       1         0\n",
      "499    1  24.000000       3         0\n",
      "500    1  17.000000       3         0\n",
      "\n",
      "[501 rows x 4 columns]\n",
      "     Sex        Age  Pclass  Survived\n",
      "500    1  17.000000       3         0\n",
      "501    0  21.000000       3         0\n",
      "502    0  30.321741       3         0\n",
      "503    0  37.000000       3         0\n",
      "504    0  16.000000       1         1\n",
      "505    1  18.000000       1         0\n",
      "506    0  33.000000       2         1\n",
      "507    1  30.321741       1         1\n",
      "508    1  28.000000       3         0\n",
      "509    1  26.000000       3         1\n",
      "510    1  29.000000       3         1\n",
      "511    1  30.321741       3         0\n",
      "512    1  36.000000       1         1\n",
      "513    0  54.000000       1         1\n",
      "514    1  24.000000       3         0\n",
      "515    1  47.000000       1         0\n",
      "516    0  34.000000       2         1\n",
      "517    1  30.321741       3         0\n",
      "518    0  36.000000       2         1\n",
      "519    1  32.000000       3         0\n",
      "520    0  30.000000       1         1\n",
      "521    1  22.000000       3         0\n",
      "522    1  30.321741       3         0\n",
      "523    0  44.000000       1         1\n",
      "524    1  30.321741       3         0\n",
      "525    1  40.500000       3         0\n",
      "526    0  50.000000       2         1\n",
      "527    1  30.321741       1         0\n",
      "528    1  39.000000       3         0\n",
      "529    1  23.000000       2         0\n",
      "..   ...        ...     ...       ...\n",
      "861    1  21.000000       2         0\n",
      "862    0  48.000000       1         1\n",
      "863    0  30.321741       3         0\n",
      "864    1  24.000000       2         0\n",
      "865    0  42.000000       2         1\n",
      "866    0  27.000000       2         1\n",
      "867    1  31.000000       1         0\n",
      "868    1  30.321741       3         0\n",
      "869    1   4.000000       3         1\n",
      "870    1  26.000000       3         0\n",
      "871    0  47.000000       1         1\n",
      "872    1  33.000000       1         0\n",
      "873    1  47.000000       3         0\n",
      "874    0  28.000000       2         1\n",
      "875    0  15.000000       3         1\n",
      "876    1  20.000000       3         0\n",
      "877    1  19.000000       3         0\n",
      "878    1  30.321741       3         0\n",
      "879    0  56.000000       1         1\n",
      "880    0  25.000000       2         1\n",
      "881    1  33.000000       3         0\n",
      "882    0  22.000000       3         0\n",
      "883    1  28.000000       2         0\n",
      "884    1  25.000000       3         0\n",
      "885    0  39.000000       3         0\n",
      "886    1  27.000000       2         0\n",
      "887    0  19.000000       1         1\n",
      "888    0  30.321741       3         0\n",
      "889    1  26.000000       1         1\n",
      "890    1  32.000000       3         0\n",
      "\n",
      "[391 rows x 4 columns]\n"
     ]
    }
   ],
   "source": [
    "simple_train.Sex = simple_train.Sex.replace(to_replace = dict(female = 0, male = 1))\n",
    "simple_test.Sex = simple_test.Sex.replace(to_replace = dict(female = 0, male = 1))\n",
    "print(simple_train)\n",
    "print(simple_test)"
   ]
  },
  {
   "cell_type": "markdown",
   "metadata": {},
   "source": [
    "##### Сформируйте трейн и тест выборку, где в X лежат признаки 'Sex', 'Age', 'Pclass', а в у - Survived\n",
    "\n",
    "Результат - numpy array\n",
    "\n",
    "hint - у pandas есть метод drop() и атрибут values; Пощупайте их"
   ]
  },
  {
   "cell_type": "code",
   "execution_count": 131,
   "metadata": {},
   "outputs": [
    {
     "name": "stdout",
     "output_type": "stream",
     "text": [
      "[[ 7.01688259e-01 -1.02813535e+00  8.43335318e-01]\n",
      " [-1.42513429e+00 -7.19426333e-01  8.43335318e-01]\n",
      " [-1.42513429e+00  2.74188685e-16  8.43335318e-01]\n",
      " ...\n",
      " [-1.42513429e+00  2.74188685e-16  8.43335318e-01]\n",
      " [ 7.01688259e-01 -3.33540064e-01 -1.52042174e+00]\n",
      " [ 7.01688259e-01  1.29523459e-01  8.43335318e-01]]\n"
     ]
    }
   ],
   "source": [
    "X_train = simple_train.drop(columns = ['Survived']).values\n",
    "X_test = simple_test.drop(columns = ['Survived']).values\n",
    "y_train = simple_train['Survived'].values\n",
    "y_test = simple_test['Survived'].values\n",
    "X_train = (X_train - X_train.mean(axis = 0)) / X_train.std(axis = 0)\n",
    "X_test = (X_test - X_test.mean(axis = 0)) / X_test.std(axis = 0)\n",
    "print(X_test)"
   ]
  },
  {
   "cell_type": "code",
   "execution_count": 132,
   "metadata": {},
   "outputs": [],
   "source": [
    "assert isinstance(X_train, np.ndarray)\n",
    "assert isinstance(X_test, np.ndarray)\n",
    "assert isinstance(y_train, np.ndarray)\n",
    "assert isinstance(y_test, np.ndarray)"
   ]
  },
  {
   "cell_type": "code",
   "execution_count": 133,
   "metadata": {},
   "outputs": [],
   "source": [
    "assert X_train.shape[0] == y_train.shape[0]\n",
    "assert X_test.shape[0] == y_test.shape[0]"
   ]
  },
  {
   "cell_type": "code",
   "execution_count": 134,
   "metadata": {},
   "outputs": [],
   "source": [
    "assert not np.any(np.isnan(X_train)), 'у вас в данных есть пропущенные значения. Заполните их или удалите'\n",
    "assert not np.any(np.isnan(X_test)), 'у вас в данных есть пропущенные значения. Заполните их или удалите'"
   ]
  },
  {
   "cell_type": "markdown",
   "metadata": {},
   "source": [
    "##### Реализуйте KNN. Сами, как делали это на лекции. \n",
    "\n",
    "Можете улучшить его.\n",
    "(например использовать kd-tree для быстрого поиска ближайших соседей, \n",
    " или обходить соседей и класть расстояния в мин-кучу - тогда вы быстрее будете набирать их, без сортировки.)"
   ]
  },
  {
   "cell_type": "code",
   "execution_count": 140,
   "metadata": {},
   "outputs": [],
   "source": [
    "from scipy.spatial import distance\n",
    "class KNN:\n",
    "    \"\"\"\n",
    "    simple KNN classifier with O(n) complexity for memory,\n",
    "    and O(n log n) complexity - for nn search.\n",
    "    \"\"\"\n",
    "    \n",
    "    def __init__(self, n):\n",
    "        self.n = n\n",
    "        \n",
    "    def fit(self, X, y):\n",
    "        self.X = X\n",
    "        self.y = y\n",
    "    \n",
    "    def predict(self, X):\n",
    "        y_hat = []\n",
    "        assert len(X.shape) == 2\n",
    "        for elem in X:\n",
    "            counts=[0,0]\n",
    "            o = []\n",
    "            for i in range(len(self.X)):\n",
    "                o.append(distance.euclidean(elem, self.X[i]))\n",
    "            k = np.array(o).argsort()[:self.n]\n",
    "            counts[1] = sum(self.y[k])\n",
    "            counts[0] = self.n-counts[1]\n",
    "            \n",
    "            prediction = counts.index(max(counts))\n",
    "            y_hat.append(prediction)\n",
    "        return np.array(y_hat)    \n",
    "                \n",
    "            \n",
    "            \n",
    "        "
   ]
  },
  {
   "cell_type": "code",
   "execution_count": 142,
   "metadata": {},
   "outputs": [
    {
     "name": "stdout",
     "output_type": "stream",
     "text": [
      "[0 0 1 1 1 0 1 0 0 0 0 0 1 1 0 0 1 0 1 0 1 0 0 1 0 0 1 0 0 0 1 0 0 1 1 1 0\n",
      " 1 0 1 1 0 0 0 0 0 1 0 0 1 0 0 0 0 0 0 1 0 1 1 0 0 0 0 1 0 0 0 0 0 0 1 1 1\n",
      " 0 0 1 1 1 0 1 1 0 1 0 1 0 0 0 0 0 1 0 1 0 0 1 0 0 0 1 0 0 0 1 0 0 0 1 1 1\n",
      " 0 1 0 0 1 0 1 1 0 0 0 0 0 0 0 0 1 0 0 0 0 0 0 0 1 0 0 0 0 0 1 1 0 1 0 0 0\n",
      " 0 1 0 1 0 1 1 0 0 1 0 0 0 0 0 0 0 0 0 0 0 1 1 0 0 0 0 0 0 1 0 1 1 0 0 0 0\n",
      " 0 0 0 0 1 0 0 0 0 0 0 0 1 0 0 1 1 1 0 0 0 1 0 1 0 1 0 0 0 0 0 1 0 0 0 1 0\n",
      " 0 0 0 0 1 1 0 1 1 0 0 0 0 0 0 1 0 0 0 1 1 0 0 0 0 1 0 0 1 0 0 0 1 1 0 0 0\n",
      " 1 0 0 0 1 0 1 0 1 0 0 0 0 1 0 1 0 0 1 0 1 0 1 0 0 0 0 1 0 0 0 0 0 1 0 0 0\n",
      " 1 1 0 1 0 1 0 0 0 0 0 1 0 1 0 0 0 1 0 0 1 0 0 0 1 0 1 1 0 0 0 1 0 1 0 1 0\n",
      " 0 0 1 0 0 0 0 0 0 1 0 0 0 0 0 0 1 0 0 0 1 1 1 1 1 1 0 0 0 1 1 0 1 0 0 0 0\n",
      " 0 1 0 0 1 0 0 0 0 1 1 0 0 0 0 1 0 1 1 1 0]\n"
     ]
    }
   ],
   "source": [
    "knn = KNN(5)\n",
    "knn.fit(X_train, y_train)\n",
    "y_pred = knn.predict(X_test)\n",
    "print(y_pred)"
   ]
  },
  {
   "cell_type": "markdown",
   "metadata": {},
   "source": [
    "##### посчитайте руками (не используя sklearn) качество вашего предсказания"
   ]
  },
  {
   "cell_type": "code",
   "execution_count": 143,
   "metadata": {},
   "outputs": [
    {
     "name": "stdout",
     "output_type": "stream",
     "text": [
      "доля правильных ответов: 0.8005115089514067\n"
     ]
    }
   ],
   "source": [
    "acc = np.mean(y_pred == y_test)\n",
    "print('доля правильных ответов:', acc)"
   ]
  },
  {
   "cell_type": "code",
   "execution_count": 144,
   "metadata": {
    "scrolled": true
   },
   "outputs": [
    {
     "data": {
      "text/plain": [
       "array([0, 1])"
      ]
     },
     "execution_count": 144,
     "metadata": {},
     "output_type": "execute_result"
    }
   ],
   "source": [
    "np.unique(y_pred)"
   ]
  },
  {
   "cell_type": "markdown",
   "metadata": {},
   "source": [
    "> Мы получили бейслайн решение. Оно должно давать скорр в районе 0.76"
   ]
  },
  {
   "cell_type": "markdown",
   "metadata": {},
   "source": [
    "____"
   ]
  },
  {
   "cell_type": "code",
   "execution_count": 145,
   "metadata": {},
   "outputs": [
    {
     "name": "stdout",
     "output_type": "stream",
     "text": [
      "0.8005115089514067\n"
     ]
    }
   ],
   "source": [
    "### можете проверить себя\n",
    "\n",
    "from sklearn.metrics import accuracy_score\n",
    "print(accuracy_score(y_test, y_pred))"
   ]
  },
  {
   "cell_type": "code",
   "execution_count": 146,
   "metadata": {},
   "outputs": [
    {
     "name": "stdout",
     "output_type": "stream",
     "text": [
      "0.8107416879795396\n"
     ]
    }
   ],
   "source": [
    "from sklearn.neighbors import KNeighborsClassifier\n",
    "from sklearn.metrics import accuracy_score\n",
    "\n",
    "clf=KNeighborsClassifier(n_neighbors=5)\n",
    "clf.fit(X_train, y_train)\n",
    "y_pred = clf.predict(X_test)\n",
    "\n",
    "np.unique(y_pred)\n",
    "\n",
    "print(accuracy_score(y_test, y_pred))"
   ]
  },
  {
   "cell_type": "raw",
   "metadata": {},
   "source": []
  },
  {
   "cell_type": "markdown",
   "metadata": {},
   "source": [
    "##### TODO продолжение домашки"
   ]
  },
  {
   "cell_type": "raw",
   "metadata": {
    "collapsed": true
   },
   "source": [
    "1) Добавьте еще признаков. Как минимум хочется чтобы вы добавили в X такие признаки как Cabin, Fare и Embarked.\n",
    "\n",
    "2) Предобработайте признаки для нашего алгоритма. Поминим - что он (метрический) основан на том, что мы будем считать расстояния. \n",
    "Для этого нужно подготовить данные соответственно - привести к одному масштабу и проч. \n",
    "(https://sebastianraschka.com/Articles/2014_about_feature_scaling.html#about-standardization)\n",
    "\n",
    "Когда мы делаем такие преобразования - хочется чтобы знания и любая статистика о тесте не проникали в обучение - \n",
    "иначе будет проблема data leakage, а она в свою очередь приведет к переобучению.\n",
    "\n",
    "Поэтому аккуратно делим на трейн-тест (можно на трейн-валидацию-тест) считаем статистики на обучающей части и применяем их к тестовой.\n",
    "\n",
    "\n",
    "3) Дальше. Признаки с пропусками - вы знаете что делать. Нужно проявить фантазию и погуглить как их правильно заполнять.\n",
    "\n",
    "4) Признаки бывают непрерывными и категориальными. К категориальным признакам можно отнести например строки, тип палубы и прочее.\n",
    "Как их предобрабатывать - зависит от алгоритма. \n",
    "Самый простой способ, что сделать с категориальными признаками - представить в виде dummy признаков - так называемый one hot encoding.\n",
    "\n",
    "4) признак Cabin мб может помочь, но нужно проявить фантазию и вытащить что нибудь полезное.\n",
    "Например - вытащить оттуда тип палубы.\n",
    "\n",
    "5) Попробуйте разбить данные на три части (трейн-валидацию-тест) и подобрать гиперпараметр - число ближайших соседей. \n",
    "Как вариант можно выбирать на валидации алгоритм который дал наилучший скорр, а затем посмотреть его качество на тесте.\n",
    "\n",
    "6) советоваться друг с другом можно. Списывать нельзя. Читайте треды kaggle. Спрашивайте преподавателей! Запилите крутые фичи!"
   ]
  },
  {
   "cell_type": "code",
   "execution_count": null,
   "metadata": {
    "collapsed": true
   },
   "outputs": [],
   "source": []
  },
  {
   "cell_type": "code",
   "execution_count": null,
   "metadata": {
    "collapsed": true
   },
   "outputs": [],
   "source": []
  }
 ],
 "metadata": {
  "kernelspec": {
   "display_name": "Python 3",
   "language": "python",
   "name": "python3"
  },
  "language_info": {
   "codemirror_mode": {
    "name": "ipython",
    "version": 3
   },
   "file_extension": ".py",
   "mimetype": "text/x-python",
   "name": "python",
   "nbconvert_exporter": "python",
   "pygments_lexer": "ipython3",
   "version": "3.6.5"
  }
 },
 "nbformat": 4,
 "nbformat_minor": 2
}
