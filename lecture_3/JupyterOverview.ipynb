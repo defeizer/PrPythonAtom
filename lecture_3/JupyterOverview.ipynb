{
 "cells": [
  {
   "cell_type": "markdown",
   "metadata": {},
   "source": [
    "# Simple shortcuts and magics"
   ]
  },
  {
   "cell_type": "code",
   "execution_count": 1,
   "metadata": {},
   "outputs": [
    {
     "name": "stdout",
     "output_type": "stream",
     "text": [
      "Requirement already satisfied: matplotlib in c:\\users\\artyom\\anaconda3\\lib\\site-packages (2.2.2)\n",
      "Requirement already satisfied: numpy>=1.7.1 in c:\\users\\artyom\\anaconda3\\lib\\site-packages (from matplotlib) (1.14.3)\n",
      "Requirement already satisfied: cycler>=0.10 in c:\\users\\artyom\\anaconda3\\lib\\site-packages (from matplotlib) (0.10.0)\n",
      "Requirement already satisfied: pyparsing!=2.0.4,!=2.1.2,!=2.1.6,>=2.0.1 in c:\\users\\artyom\\anaconda3\\lib\\site-packages (from matplotlib) (2.2.0)\n",
      "Requirement already satisfied: python-dateutil>=2.1 in c:\\users\\artyom\\anaconda3\\lib\\site-packages (from matplotlib) (2.7.3)\n",
      "Requirement already satisfied: pytz in c:\\users\\artyom\\anaconda3\\lib\\site-packages (from matplotlib) (2018.4)\n",
      "Requirement already satisfied: six>=1.10 in c:\\users\\artyom\\anaconda3\\lib\\site-packages (from matplotlib) (1.11.0)\n",
      "Requirement already satisfied: kiwisolver>=1.0.1 in c:\\users\\artyom\\anaconda3\\lib\\site-packages (from matplotlib) (1.0.1)\n",
      "Requirement already satisfied: setuptools in c:\\users\\artyom\\anaconda3\\lib\\site-packages (from kiwisolver>=1.0.1->matplotlib) (39.1.0)\n"
     ]
    },
    {
     "name": "stderr",
     "output_type": "stream",
     "text": [
      "distributed 1.21.8 requires msgpack, which is not installed.\n",
      "You are using pip version 10.0.1, however version 18.1 is available.\n",
      "You should consider upgrading via the 'python -m pip install --upgrade pip' command.\n"
     ]
    },
    {
     "name": "stdout",
     "output_type": "stream",
     "text": [
      "Requirement already satisfied: Flask in c:\\users\\artyom\\anaconda3\\lib\\site-packages (1.0.2)\n",
      "Requirement already satisfied: Werkzeug>=0.14 in c:\\users\\artyom\\anaconda3\\lib\\site-packages (from Flask) (0.14.1)\n",
      "Requirement already satisfied: itsdangerous>=0.24 in c:\\users\\artyom\\anaconda3\\lib\\site-packages (from Flask) (0.24)\n",
      "Requirement already satisfied: click>=5.1 in c:\\users\\artyom\\anaconda3\\lib\\site-packages (from Flask) (6.7)\n",
      "Requirement already satisfied: Jinja2>=2.10 in c:\\users\\artyom\\anaconda3\\lib\\site-packages (from Flask) (2.10)\n",
      "Requirement already satisfied: MarkupSafe>=0.23 in c:\\users\\artyom\\anaconda3\\lib\\site-packages (from Jinja2>=2.10->Flask) (1.0)\n"
     ]
    },
    {
     "name": "stderr",
     "output_type": "stream",
     "text": [
      "distributed 1.21.8 requires msgpack, which is not installed.\n",
      "You are using pip version 10.0.1, however version 18.1 is available.\n",
      "You should consider upgrading via the 'python -m pip install --upgrade pip' command.\n"
     ]
    }
   ],
   "source": [
    "#Установим библиотеку для отрисовки графиков, если её у вас нет\n",
    "!pip install matplotlib\n",
    "!pip install Flask"
   ]
  },
  {
   "cell_type": "code",
   "execution_count": null,
   "metadata": {},
   "outputs": [],
   "source": [
    "#Magic, который пишем чаще всего. Что он делает?\n",
    "#import numpy\n",
    "#import matplotlib\n",
    "#from matplotlib import pylab, mlab, pyplot\n",
    "#np = numpy\n",
    "#plt = pyplot\n",
    "#from IPython.display import display\n",
    "#from IPython.core.pylabtools import figsize, getfigs\n",
    "#from pylab import *\n",
    "#from numpy import *\n",
    "\n",
    "#и все это 1 строчкой! inline указывает, что вывод графиков будет в ноутбук (подробнее в документации: выбор движка)\n",
    "%pylab inline"
   ]
  },
  {
   "cell_type": "code",
   "execution_count": 9,
   "metadata": {},
   "outputs": [
    {
     "name": "stdout",
     "output_type": "stream",
     "text": [
      "Overwriting hello.py\n"
     ]
    }
   ],
   "source": [
    "%%writefile hello.py\n",
    "#Найдите magic, который записывает значение ячейки в файл. Создайте модуль hello.py, импортируйте из него hello_world\n",
    "def hello_world():\n",
    "    print(\"hello\")"
   ]
  },
  {
   "cell_type": "code",
   "execution_count": 20,
   "metadata": {},
   "outputs": [
    {
     "name": "stdout",
     "output_type": "stream",
     "text": [
      "hello\n"
     ]
    }
   ],
   "source": [
    "from hello import hello_world\n",
    "hello_world()"
   ]
  },
  {
   "cell_type": "code",
   "execution_count": 4,
   "metadata": {},
   "outputs": [
    {
     "name": "stdout",
     "output_type": "stream",
     "text": [
      "Wall time: 999 µs\n"
     ]
    }
   ],
   "source": [
    "%%time\n",
    "#Засеките время выполнения процедуры с помощью magic\n",
    "def count(start=0, end=10000):\n",
    "    for _ in range(start, end):\n",
    "        continue\n",
    "count()"
   ]
  },
  {
   "cell_type": "code",
   "execution_count": null,
   "metadata": {},
   "outputs": [],
   "source": [
    "#Объедините эту ячейку и ячейку ниже с помощью shortcut\n",
    "def very_important_function():\n",
    "    start=\"end\"\n",
    "\n",
    "    fucing_cat=\"change the cell\""
   ]
  },
  {
   "cell_type": "code",
   "execution_count": null,
   "metadata": {},
   "outputs": [],
   "source": [
    "#Исправьте все хождения value в ячейке на name\n",
    "value=\"name_1\"\n",
    "value_value=\"name_name_2\""
   ]
  },
  {
   "cell_type": "code",
   "execution_count": null,
   "metadata": {},
   "outputs": [],
   "source": [
    "#Содержание ячейки, запущенной второй\n",
    "print()"
   ]
  },
  {
   "cell_type": "markdown",
   "metadata": {},
   "source": [
    "# Numpy"
   ]
  },
  {
   "cell_type": "code",
   "execution_count": 15,
   "metadata": {},
   "outputs": [],
   "source": [
    "#Импортируем модуль\n",
    "import numpy as np"
   ]
  },
  {
   "cell_type": "code",
   "execution_count": 16,
   "metadata": {},
   "outputs": [],
   "source": [
    "#Создадим всякие массивчики\n",
    "string_array = np.array([\"строка\", 5])\n",
    "float_array = np.array([5., 5])\n",
    "float_array_2 = np.array([6.])\n",
    "int_array = np.array([5, 4])\n",
    "two_dimarray = np.array([[5, 4], [4, 6]])\n",
    "one_dimarray = np.array([[5, 4], [4]])"
   ]
  },
  {
   "cell_type": "code",
   "execution_count": 22,
   "metadata": {},
   "outputs": [
    {
     "data": {
      "text/plain": [
       "[7, 8]"
      ]
     },
     "execution_count": 22,
     "metadata": {},
     "output_type": "execute_result"
    }
   ],
   "source": [
    "#К массивам можно обращаться по 2 индексам. Возможны срезу по нескольким осям\n",
    "example_list = [[5, 4], [7, 8]]\n",
    "example_list[ 1]"
   ]
  },
  {
   "cell_type": "code",
   "execution_count": 23,
   "metadata": {},
   "outputs": [
    {
     "data": {
      "text/plain": [
       "array([4, 8])"
      ]
     },
     "execution_count": 23,
     "metadata": {},
     "output_type": "execute_result"
    }
   ],
   "source": [
    "example_arr = np.array([[5, 4], [7, 8]])\n",
    "example_arr[:, 1]"
   ]
  },
  {
   "cell_type": "code",
   "execution_count": 24,
   "metadata": {},
   "outputs": [
    {
     "name": "stdout",
     "output_type": "stream",
     "text": [
      "Размерность вдоль первой оси: 2\n",
      "Размерность массива: (2, 2)\n",
      "Тип данных в массиве: int32\n",
      "Размер исходного массива 128\n",
      "Размер массива после преобразования 116\n"
     ]
    }
   ],
   "source": [
    "#Можно получить параметры массива: тип данных, форму, размерность вдоль оси\n",
    "two_dimarray = np.array([[5, 4], [4, 6]])\n",
    "print(\"Размерность вдоль первой оси: {}\".format(len(two_dimarray)))\n",
    "print(\"Размерность массива: {}\".format(two_dimarray.shape))\n",
    "print(\"Тип данных в массиве: {}\".format(two_dimarray.dtype))\n",
    "\n",
    "#Давайте пожмем наш int64 до int8 (преподложим, что знаем ограничение на размер чисел)\n",
    "import sys\n",
    "print(\"Размер исходного массива %d\" % sys.getsizeof(two_dimarray))\n",
    "two_dimarray = two_dimarray.astype(np.int8)\n",
    "print(\"Размер массива после преобразования %d\" % sys.getsizeof(two_dimarray))"
   ]
  },
  {
   "cell_type": "code",
   "execution_count": 25,
   "metadata": {},
   "outputs": [
    {
     "name": "stdout",
     "output_type": "stream",
     "text": [
      "[1. 1. 1.]\n",
      "[0. 0. 0. 0.]\n"
     ]
    }
   ],
   "source": [
    "oneses = np.ones(3)\n",
    "zeros = np.zeros(4)\n",
    "print(oneses)\n",
    "print(zeros)"
   ]
  },
  {
   "cell_type": "code",
   "execution_count": 32,
   "metadata": {},
   "outputs": [],
   "source": [
    "def simple_matrix_generator(n):\n",
    "    a = np.zeros([n,n])\n",
    "    for i in range(n):\n",
    "        a[i,i] = 1\n",
    "    #TODO создать единичную матрицу размера n x n в виде numpy array\n",
    "    return a"
   ]
  },
  {
   "cell_type": "code",
   "execution_count": 33,
   "metadata": {},
   "outputs": [],
   "source": [
    "assert np.array_equal(simple_matrix_generator(4), np.array([[1., 0., 0., 0.], [0., 1., 0., 0.], [0., 0., 1., 0.], [0., 0., 0., 1.]]))\n",
    "assert np.array_equal(simple_matrix_generator(3), np.array([[1., 0., 0.], [0., 1., 0.], [0., 0., 1.]]))\n",
    "assert np.array_equal(simple_matrix_generator(2), np.array([[1., 0.], [0., 1.]]))"
   ]
  },
  {
   "cell_type": "code",
   "execution_count": 36,
   "metadata": {},
   "outputs": [
    {
     "name": "stdout",
     "output_type": "stream",
     "text": [
      "[5 4 7 8]\n",
      "[[5]\n",
      " [4]\n",
      " [7]\n",
      " [8]]\n",
      "[5 4 7 8]\n"
     ]
    }
   ],
   "source": [
    "#Преобразование формы массива \n",
    "example = np.array([5, 4, 7, 8])\n",
    "print(example)\n",
    "print(example.reshape(4, 1))\n",
    "print(example.reshape(2, 2).flatten())"
   ]
  },
  {
   "cell_type": "code",
   "execution_count": 37,
   "metadata": {},
   "outputs": [
    {
     "name": "stdout",
     "output_type": "stream",
     "text": [
      "[5. 6. 5. 6.]\n",
      "[[5.]\n",
      " [6.]\n",
      " [5.]\n",
      " [6.]]\n",
      "[[5. 5.]\n",
      " [6. 6.]]\n",
      "[[5.]\n",
      " [6.]\n",
      " [5.]\n",
      " [6.]]\n",
      "[[5. 5.]\n",
      " [6. 6.]]\n"
     ]
    }
   ],
   "source": [
    "# Массивы можно по-разному объединять и добавлять элементы\n",
    "example = np.array([5., 6.])\n",
    "example = np.append(example, example)\n",
    "print(example)\n",
    "example = np.array([[5.], [6.]])\n",
    "print(np.concatenate((example, example), axis=0))\n",
    "print(np.concatenate((example, example), axis=1))\n",
    "print(np.vstack((example, example)))\n",
    "print(np.hstack((example, example)))"
   ]
  },
  {
   "cell_type": "code",
   "execution_count": 38,
   "metadata": {},
   "outputs": [
    {
     "name": "stdout",
     "output_type": "stream",
     "text": [
      "[2.5 2.  3.5 4. ]\n",
      "[15 12 21 24]\n",
      "[37 36 39 40]\n",
      "[4 3 6 7]\n",
      "[25 16 49 64]\n",
      "Multidemensional\n",
      "[[2.5 2. ]\n",
      " [3.5 4. ]]\n",
      "[[15 12]\n",
      " [21 24]]\n",
      "[[37 36]\n",
      " [39 40]]\n",
      "[[4 3]\n",
      " [6 7]]\n",
      "[[25 16]\n",
      " [49 64]]\n",
      "Lessdimensional\n",
      "[[2.5        1.33333333]\n",
      " [3.5        2.66666667]]\n",
      "[[10 12]\n",
      " [14 24]]\n",
      "[[ 7  7]\n",
      " [ 9 11]]\n",
      "[[3 1]\n",
      " [5 5]]\n",
      "[[ 25  64]\n",
      " [ 49 512]]\n"
     ]
    }
   ],
   "source": [
    "#Над массивами numpy можно производить простейшие математические операции\n",
    "example = np.array([5, 4, 7, 8])\n",
    "print(example / 2)\n",
    "print(example * 3)\n",
    "print(example + 32)\n",
    "print(example - 1)\n",
    "print(example ** 2)\n",
    "print(\"Multidemensional\")\n",
    "example = np.array([[5, 4], [7, 8]])\n",
    "print(example / 2)\n",
    "print(example * 3)\n",
    "print(example + 32)\n",
    "print(example - 1)\n",
    "print(example ** 2)\n",
    "print(\"Lessdimensional\")\n",
    "example = np.array([[5, 4], [7, 8]])\n",
    "sep_arr = np.array([2, 3])\n",
    "print(example / sep_arr)\n",
    "print(example * sep_arr)\n",
    "print(example + sep_arr)\n",
    "print(example - sep_arr)\n",
    "print(example ** sep_arr)"
   ]
  },
  {
   "cell_type": "code",
   "execution_count": 39,
   "metadata": {},
   "outputs": [
    {
     "name": "stdout",
     "output_type": "stream",
     "text": [
      "[[5 7]\n",
      " [4 8]]\n"
     ]
    }
   ],
   "source": [
    "#Можно производить стандартные операции над векторами n-мерного пространства\n",
    "example = np.array([[5, 4], [7, 8]])\n",
    "print(example.transpose())"
   ]
  },
  {
   "cell_type": "code",
   "execution_count": 47,
   "metadata": {},
   "outputs": [],
   "source": [
    "#И снова калькулятор\n",
    "def calculate(a, b=None, func=\"+\"):\n",
    "    #TODO Ну мы такое уже писали, кажется, совсем просто\n",
    "    if func == \"+\":\n",
    "        return a + b\n",
    "    if func == \"-\":\n",
    "        return a - b\n",
    "    if func == \"**\":\n",
    "        return a ** b \n",
    "    if func == \"*\":\n",
    "        return a * b\n",
    "    if func == \"/\":\n",
    "        return a / b\n",
    "    if func == \"T\":\n",
    "        return a.T\n",
    "    if func == \"increment\":\n",
    "        if len(a.shape) == 2 and a.shape[0] == a.shape[1]:\n",
    "            for i in a.shape[1]:\n",
    "                a[i,i] += 1\n",
    "        #TODO увеличвает на 1 ДИАГОНАЛЬНЫЕ элементы, если матрица квадратная, иначе возвращает исходную матрицу\n",
    "        return a\n",
    "    #Примените func ко всем эементам a\n",
    "    return "
   ]
  },
  {
   "cell_type": "code",
   "execution_count": 48,
   "metadata": {},
   "outputs": [
    {
     "ename": "AssertionError",
     "evalue": "",
     "output_type": "error",
     "traceback": [
      "\u001b[1;31m---------------------------------------------------------------------------\u001b[0m",
      "\u001b[1;31mAssertionError\u001b[0m                            Traceback (most recent call last)",
      "\u001b[1;32m<ipython-input-48-5faa62815c40>\u001b[0m in \u001b[0;36m<module>\u001b[1;34m()\u001b[0m\n\u001b[0;32m     29\u001b[0m assert np.array_equal(calculate(example, sample_vec, \"**\"), np.array([[         1,         16,      59049],\n\u001b[0;32m     30\u001b[0m                                                                 \u001b[1;33m[\u001b[0m        \u001b[1;36m16\u001b[0m\u001b[1;33m,\u001b[0m        \u001b[1;36m625\u001b[0m\u001b[1;33m,\u001b[0m   \u001b[1;36m60466176\u001b[0m\u001b[1;33m]\u001b[0m\u001b[1;33m,\u001b[0m\u001b[1;33m\u001b[0m\u001b[0m\n\u001b[1;32m---> 31\u001b[1;33m                                                                 [        49,       4096, 3486784401]]))\n\u001b[0m\u001b[0;32m     32\u001b[0m \u001b[1;33m\u001b[0m\u001b[0m\n\u001b[0;32m     33\u001b[0m \u001b[1;31m#!!!ALARM почему отрицательное число?\u001b[0m\u001b[1;33m\u001b[0m\u001b[1;33m\u001b[0m\u001b[0m\n",
      "\u001b[1;31mAssertionError\u001b[0m: "
     ]
    }
   ],
   "source": [
    "example = np.array([[1, 2, 3], [4, 5, 6], [7, 8, 9]])\n",
    "sample_vec = np.array([2, 4, 10])\n",
    "\n",
    "assert np.array_equal(calculate(example, sample_vec, \"/\"), np.array([[ 0.5 ,  0.5 ,  0.3 ], [ 2.  ,  1.25,  0.6 ], [ 3.5 ,  2.  ,  0.9 ]]))\n",
    "assert np.array_equal(calculate(example, 20, \"/\"), np.array([[ 0.05,  0.1 ,  0.15],\n",
    "                                                             [ 0.2 ,  0.25,  0.3 ],\n",
    "                                                             [ 0.35,  0.4 ,  0.45]]))\n",
    "assert np.array_equal(calculate(example, 20, \"+\"), np.array([[21, 22, 23],\n",
    "                                                             [24, 25, 26],\n",
    "                                                             [27, 28, 29]]))\n",
    "assert np.array_equal(calculate(example, sample_vec, \"+\"), np.array([[ 3,  6, 13],\n",
    "                                                                     [ 6,  9, 16],\n",
    "                                                                     [ 9, 12, 19]]))\n",
    "assert np.array_equal(calculate(example, 20, \"*\"), np.array([[ 20,  40,  60],\n",
    "                                                             [ 80, 100, 120],\n",
    "                                                             [140, 160, 180]]))\n",
    "assert np.array_equal(calculate(example, sample_vec, \"*\"), np.array([[ 2,  8, 30],\n",
    "                                                                     [ 8, 20, 60],\n",
    "                                                                     [14, 32, 90]]))\n",
    "assert np.array_equal(calculate(example, 20, \"-\"), np.array([[-19, -18, -17],\n",
    "                                                             [-16, -15, -14],\n",
    "                                                             [-13, -12, -11]]))\n",
    "assert np.array_equal(calculate(example, sample_vec, \"-\"), np.array([[-1, -2, -7],\n",
    "                                                                     [ 2,  1, -4],\n",
    "                                                                     [ 5,  4, -1]]))\n",
    "assert np.array_equal(calculate(example, func=\"T\"), np.array([[1, 4, 7],\n",
    "                                                              [2, 5, 8],\n",
    "                                                              [3, 6, 9]]))\n",
    "assert np.array_equal(calculate(example, sample_vec, \"**\"), np.array([[         1,         16,      59049],\n",
    "                                                                [        16,        625,   60466176],\n",
    "                                                                [        49,       4096, 3486784401]]))\n",
    "\n",
    "#!!!ALARM почему отрицательное число?\n",
    "assert np.array_equal(calculate(example, 20, \"**\"), np.array([[                   1,              1048576,           3486784401],\n",
    "                                                              [       1099511627776,       95367431640625,     3656158440062976],\n",
    "                                                              [   79792266297612000,  1152921504606846976, -9223372036854775808]]))\n",
    "\n",
    "assert np.array_equal(calculate(example, func=\"increment\"), np.array([[  2.,   2.,   3.],\n",
    "                                                                     [  4.,   6.,   6.],\n",
    "                                                                     [  7.,   8.,  10.]]))\n",
    "assert np.array_equal(calculate(sample_vec, func=\"increment\"), sample_vec)"
   ]
  },
  {
   "cell_type": "code",
   "execution_count": 49,
   "metadata": {},
   "outputs": [
    {
     "name": "stdout",
     "output_type": "stream",
     "text": [
      "24\n",
      "[12 12]\n",
      "[ 9 15]\n"
     ]
    }
   ],
   "source": [
    "#Можно считать различные статистикиЮ суммы и другие значения по выбранной оси\n",
    "example = np.array([[5, 4], [7, 8]])\n",
    "print(example.sum())\n",
    "print(example.sum(axis=0))\n",
    "print(example.sum(axis=1))\n",
    "\n",
    "#TODO Найти минимум по столбцам, максимум по строкам, среднее значение всей матриц, дисперсию по строкам и аргминимум по строке"
   ]
  },
  {
   "cell_type": "code",
   "execution_count": 50,
   "metadata": {},
   "outputs": [
    {
     "data": {
      "text/plain": [
       "array([5, 7, 8])"
      ]
     },
     "execution_count": 50,
     "metadata": {},
     "output_type": "execute_result"
    }
   ],
   "source": [
    "#Методы выбора\n",
    "example = np.array([[5, 4], [7, 8]])\n",
    "example[example >= 5]"
   ]
  },
  {
   "cell_type": "code",
   "execution_count": 51,
   "metadata": {},
   "outputs": [
    {
     "data": {
      "text/plain": [
       "5.0"
      ]
     },
     "execution_count": 51,
     "metadata": {},
     "output_type": "execute_result"
    }
   ],
   "source": [
    "#Просто скалярное произведение\n",
    "a = np.array([1, 2, 3], float)\n",
    "b = np.array([0, 1, 1], float)\n",
    "np.dot(a, b)"
   ]
  },
  {
   "cell_type": "code",
   "execution_count": 56,
   "metadata": {},
   "outputs": [],
   "source": [
    "#TODO Линейные уравнения можно решать следующим образом: Ax = y, где A-матрица. \n",
    "#A^(T)Ax=A^(T)y\n",
    "#x=(A^(T)A)^(-1)A^(T)y\n",
    "#давайте сделаю свою решалку таких уравнений\n",
    "#HINT: np.linalg...\n",
    "def solution_finder(A, y):\n",
    "    \n",
    "    return np.dot(np.dot(np.linalg.inv(np.dot(A.T , A)), A.T),y)\n"
   ]
  },
  {
   "cell_type": "code",
   "execution_count": 57,
   "metadata": {},
   "outputs": [],
   "source": [
    "#TODO решить систему методом Крамера\n",
    "#HINT: np.linalg.det\n",
    "def cramer_solver(A, b):\n",
    "    return"
   ]
  },
  {
   "cell_type": "code",
   "execution_count": 58,
   "metadata": {},
   "outputs": [
    {
     "ename": "TypeError",
     "evalue": "ufunc 'isfinite' not supported for the input types, and the inputs could not be safely coerced to any supported types according to the casting rule ''safe''",
     "output_type": "error",
     "traceback": [
      "\u001b[1;31m---------------------------------------------------------------------------\u001b[0m",
      "\u001b[1;31mTypeError\u001b[0m                                 Traceback (most recent call last)",
      "\u001b[1;32m<ipython-input-58-bae32c639a41>\u001b[0m in \u001b[0;36m<module>\u001b[1;34m()\u001b[0m\n\u001b[0;32m      2\u001b[0m \u001b[0msample_vec\u001b[0m \u001b[1;33m=\u001b[0m \u001b[0mnp\u001b[0m\u001b[1;33m.\u001b[0m\u001b[0marray\u001b[0m\u001b[1;33m(\u001b[0m\u001b[1;33m[\u001b[0m\u001b[1;36m1\u001b[0m\u001b[1;33m,\u001b[0m \u001b[1;36m2\u001b[0m\u001b[1;33m]\u001b[0m\u001b[1;33m)\u001b[0m\u001b[1;33m\u001b[0m\u001b[0m\n\u001b[0;32m      3\u001b[0m \u001b[1;33m\u001b[0m\u001b[0m\n\u001b[1;32m----> 4\u001b[1;33m \u001b[1;32massert\u001b[0m \u001b[0mnp\u001b[0m\u001b[1;33m.\u001b[0m\u001b[0mallclose\u001b[0m\u001b[1;33m(\u001b[0m\u001b[0mcramer_solver\u001b[0m\u001b[1;33m(\u001b[0m\u001b[0mexample\u001b[0m\u001b[1;33m,\u001b[0m \u001b[0msample_vec\u001b[0m\u001b[1;33m)\u001b[0m\u001b[1;33m,\u001b[0m \u001b[0mnp\u001b[0m\u001b[1;33m.\u001b[0m\u001b[0marray\u001b[0m\u001b[1;33m(\u001b[0m\u001b[1;33m[\u001b[0m\u001b[1;36m0.0\u001b[0m\u001b[1;33m,\u001b[0m \u001b[1;36m0.25\u001b[0m\u001b[1;33m]\u001b[0m\u001b[1;33m)\u001b[0m\u001b[1;33m)\u001b[0m\u001b[1;33m\u001b[0m\u001b[0m\n\u001b[0m\u001b[0;32m      5\u001b[0m \u001b[1;33m\u001b[0m\u001b[0m\n\u001b[0;32m      6\u001b[0m \u001b[0mexample\u001b[0m \u001b[1;33m=\u001b[0m \u001b[0mnp\u001b[0m\u001b[1;33m.\u001b[0m\u001b[0marray\u001b[0m\u001b[1;33m(\u001b[0m\u001b[1;33m[\u001b[0m\u001b[1;33m[\u001b[0m\u001b[1;36m5\u001b[0m\u001b[1;33m,\u001b[0m \u001b[1;36m4\u001b[0m\u001b[1;33m,\u001b[0m \u001b[1;36m1\u001b[0m\u001b[1;33m]\u001b[0m\u001b[1;33m,\u001b[0m \u001b[1;33m[\u001b[0m\u001b[1;36m7\u001b[0m\u001b[1;33m,\u001b[0m \u001b[1;36m8\u001b[0m\u001b[1;33m,\u001b[0m \u001b[1;36m12\u001b[0m\u001b[1;33m]\u001b[0m\u001b[1;33m,\u001b[0m \u001b[1;33m[\u001b[0m\u001b[1;36m10\u001b[0m\u001b[1;33m,\u001b[0m \u001b[1;36m45\u001b[0m\u001b[1;33m,\u001b[0m \u001b[1;36m24\u001b[0m\u001b[1;33m]\u001b[0m\u001b[1;33m]\u001b[0m\u001b[1;33m)\u001b[0m\u001b[1;33m\u001b[0m\u001b[0m\n",
      "\u001b[1;32m~\\Anaconda3\\lib\\site-packages\\numpy\\core\\numeric.py\u001b[0m in \u001b[0;36mallclose\u001b[1;34m(a, b, rtol, atol, equal_nan)\u001b[0m\n\u001b[0;32m   2254\u001b[0m \u001b[1;33m\u001b[0m\u001b[0m\n\u001b[0;32m   2255\u001b[0m     \"\"\"\n\u001b[1;32m-> 2256\u001b[1;33m     \u001b[0mres\u001b[0m \u001b[1;33m=\u001b[0m \u001b[0mall\u001b[0m\u001b[1;33m(\u001b[0m\u001b[0misclose\u001b[0m\u001b[1;33m(\u001b[0m\u001b[0ma\u001b[0m\u001b[1;33m,\u001b[0m \u001b[0mb\u001b[0m\u001b[1;33m,\u001b[0m \u001b[0mrtol\u001b[0m\u001b[1;33m=\u001b[0m\u001b[0mrtol\u001b[0m\u001b[1;33m,\u001b[0m \u001b[0matol\u001b[0m\u001b[1;33m=\u001b[0m\u001b[0matol\u001b[0m\u001b[1;33m,\u001b[0m \u001b[0mequal_nan\u001b[0m\u001b[1;33m=\u001b[0m\u001b[0mequal_nan\u001b[0m\u001b[1;33m)\u001b[0m\u001b[1;33m)\u001b[0m\u001b[1;33m\u001b[0m\u001b[0m\n\u001b[0m\u001b[0;32m   2257\u001b[0m     \u001b[1;32mreturn\u001b[0m \u001b[0mbool\u001b[0m\u001b[1;33m(\u001b[0m\u001b[0mres\u001b[0m\u001b[1;33m)\u001b[0m\u001b[1;33m\u001b[0m\u001b[0m\n\u001b[0;32m   2258\u001b[0m \u001b[1;33m\u001b[0m\u001b[0m\n",
      "\u001b[1;32m~\\Anaconda3\\lib\\site-packages\\numpy\\core\\numeric.py\u001b[0m in \u001b[0;36misclose\u001b[1;34m(a, b, rtol, atol, equal_nan)\u001b[0m\n\u001b[0;32m   2330\u001b[0m     \u001b[0my\u001b[0m \u001b[1;33m=\u001b[0m \u001b[0marray\u001b[0m\u001b[1;33m(\u001b[0m\u001b[0my\u001b[0m\u001b[1;33m,\u001b[0m \u001b[0mdtype\u001b[0m\u001b[1;33m=\u001b[0m\u001b[0mdt\u001b[0m\u001b[1;33m,\u001b[0m \u001b[0mcopy\u001b[0m\u001b[1;33m=\u001b[0m\u001b[1;32mFalse\u001b[0m\u001b[1;33m,\u001b[0m \u001b[0msubok\u001b[0m\u001b[1;33m=\u001b[0m\u001b[1;32mTrue\u001b[0m\u001b[1;33m)\u001b[0m\u001b[1;33m\u001b[0m\u001b[0m\n\u001b[0;32m   2331\u001b[0m \u001b[1;33m\u001b[0m\u001b[0m\n\u001b[1;32m-> 2332\u001b[1;33m     \u001b[0mxfin\u001b[0m \u001b[1;33m=\u001b[0m \u001b[0misfinite\u001b[0m\u001b[1;33m(\u001b[0m\u001b[0mx\u001b[0m\u001b[1;33m)\u001b[0m\u001b[1;33m\u001b[0m\u001b[0m\n\u001b[0m\u001b[0;32m   2333\u001b[0m     \u001b[0myfin\u001b[0m \u001b[1;33m=\u001b[0m \u001b[0misfinite\u001b[0m\u001b[1;33m(\u001b[0m\u001b[0my\u001b[0m\u001b[1;33m)\u001b[0m\u001b[1;33m\u001b[0m\u001b[0m\n\u001b[0;32m   2334\u001b[0m     \u001b[1;32mif\u001b[0m \u001b[0mall\u001b[0m\u001b[1;33m(\u001b[0m\u001b[0mxfin\u001b[0m\u001b[1;33m)\u001b[0m \u001b[1;32mand\u001b[0m \u001b[0mall\u001b[0m\u001b[1;33m(\u001b[0m\u001b[0myfin\u001b[0m\u001b[1;33m)\u001b[0m\u001b[1;33m:\u001b[0m\u001b[1;33m\u001b[0m\u001b[0m\n",
      "\u001b[1;31mTypeError\u001b[0m: ufunc 'isfinite' not supported for the input types, and the inputs could not be safely coerced to any supported types according to the casting rule ''safe''"
     ]
    }
   ],
   "source": [
    "example = np.array([[5, 4], [7, 8]])\n",
    "sample_vec = np.array([1, 2])\n",
    "\n",
    "assert np.allclose(cramer_solver(example, sample_vec), np.array([0.0, 0.25]))\n",
    "\n",
    "example = np.array([[5, 4, 1], [7, 8, 12], [10, 45, 24]])\n",
    "sample_vec = np.array([1, 2, 123])\n",
    "\n",
    "assert np.allclose(cramer_solver(example, sample_vec), np.array([-2.63406011, -3.74012964, -0.79021803]))"
   ]
  },
  {
   "cell_type": "code",
   "execution_count": null,
   "metadata": {},
   "outputs": [],
   "source": [
    "#Быстро сделали. Давайте сделаем решение методом Гаусса. Задание со звездочкой, я за 5 минут не смог написать"
   ]
  },
  {
   "cell_type": "markdown",
   "metadata": {},
   "source": [
    "# Pandas"
   ]
  },
  {
   "cell_type": "code",
   "execution_count": 59,
   "metadata": {},
   "outputs": [],
   "source": [
    "import pandas as pd\n"
   ]
  },
  {
   "cell_type": "code",
   "execution_count": 63,
   "metadata": {},
   "outputs": [
    {
     "data": {
      "text/html": [
       "<div>\n",
       "<style scoped>\n",
       "    .dataframe tbody tr th:only-of-type {\n",
       "        vertical-align: middle;\n",
       "    }\n",
       "\n",
       "    .dataframe tbody tr th {\n",
       "        vertical-align: top;\n",
       "    }\n",
       "\n",
       "    .dataframe thead th {\n",
       "        text-align: right;\n",
       "    }\n",
       "</style>\n",
       "<table border=\"1\" class=\"dataframe\">\n",
       "  <thead>\n",
       "    <tr style=\"text-align: right;\">\n",
       "      <th></th>\n",
       "      <th>pclass</th>\n",
       "      <th>survived</th>\n",
       "      <th>name</th>\n",
       "      <th>sex</th>\n",
       "      <th>age</th>\n",
       "      <th>sibsp</th>\n",
       "      <th>parch</th>\n",
       "      <th>ticket</th>\n",
       "      <th>fare</th>\n",
       "      <th>cabin</th>\n",
       "      <th>embarked</th>\n",
       "      <th>boat</th>\n",
       "      <th>body</th>\n",
       "      <th>home.dest</th>\n",
       "    </tr>\n",
       "  </thead>\n",
       "  <tbody>\n",
       "    <tr>\n",
       "      <th>0</th>\n",
       "      <td>1</td>\n",
       "      <td>1</td>\n",
       "      <td>Allen, Miss. Elisabeth Walton</td>\n",
       "      <td>female</td>\n",
       "      <td>29.0000</td>\n",
       "      <td>0</td>\n",
       "      <td>0</td>\n",
       "      <td>24160</td>\n",
       "      <td>211.3375</td>\n",
       "      <td>B5</td>\n",
       "      <td>S</td>\n",
       "      <td>2</td>\n",
       "      <td>NaN</td>\n",
       "      <td>St Louis, MO</td>\n",
       "    </tr>\n",
       "    <tr>\n",
       "      <th>1</th>\n",
       "      <td>1</td>\n",
       "      <td>1</td>\n",
       "      <td>Allison, Master. Hudson Trevor</td>\n",
       "      <td>male</td>\n",
       "      <td>0.9167</td>\n",
       "      <td>1</td>\n",
       "      <td>2</td>\n",
       "      <td>113781</td>\n",
       "      <td>151.5500</td>\n",
       "      <td>C22 C26</td>\n",
       "      <td>S</td>\n",
       "      <td>11</td>\n",
       "      <td>NaN</td>\n",
       "      <td>Montreal, PQ / Chesterville, ON</td>\n",
       "    </tr>\n",
       "    <tr>\n",
       "      <th>2</th>\n",
       "      <td>1</td>\n",
       "      <td>0</td>\n",
       "      <td>Allison, Miss. Helen Loraine</td>\n",
       "      <td>female</td>\n",
       "      <td>2.0000</td>\n",
       "      <td>1</td>\n",
       "      <td>2</td>\n",
       "      <td>113781</td>\n",
       "      <td>151.5500</td>\n",
       "      <td>C22 C26</td>\n",
       "      <td>S</td>\n",
       "      <td>NaN</td>\n",
       "      <td>NaN</td>\n",
       "      <td>Montreal, PQ / Chesterville, ON</td>\n",
       "    </tr>\n",
       "    <tr>\n",
       "      <th>3</th>\n",
       "      <td>1</td>\n",
       "      <td>0</td>\n",
       "      <td>Allison, Mr. Hudson Joshua Creighton</td>\n",
       "      <td>male</td>\n",
       "      <td>30.0000</td>\n",
       "      <td>1</td>\n",
       "      <td>2</td>\n",
       "      <td>113781</td>\n",
       "      <td>151.5500</td>\n",
       "      <td>C22 C26</td>\n",
       "      <td>S</td>\n",
       "      <td>NaN</td>\n",
       "      <td>135.0</td>\n",
       "      <td>Montreal, PQ / Chesterville, ON</td>\n",
       "    </tr>\n",
       "    <tr>\n",
       "      <th>4</th>\n",
       "      <td>1</td>\n",
       "      <td>0</td>\n",
       "      <td>Allison, Mrs. Hudson J C (Bessie Waldo Daniels)</td>\n",
       "      <td>female</td>\n",
       "      <td>25.0000</td>\n",
       "      <td>1</td>\n",
       "      <td>2</td>\n",
       "      <td>113781</td>\n",
       "      <td>151.5500</td>\n",
       "      <td>C22 C26</td>\n",
       "      <td>S</td>\n",
       "      <td>NaN</td>\n",
       "      <td>NaN</td>\n",
       "      <td>Montreal, PQ / Chesterville, ON</td>\n",
       "    </tr>\n",
       "    <tr>\n",
       "      <th>5</th>\n",
       "      <td>1</td>\n",
       "      <td>1</td>\n",
       "      <td>Anderson, Mr. Harry</td>\n",
       "      <td>male</td>\n",
       "      <td>48.0000</td>\n",
       "      <td>0</td>\n",
       "      <td>0</td>\n",
       "      <td>19952</td>\n",
       "      <td>26.5500</td>\n",
       "      <td>E12</td>\n",
       "      <td>S</td>\n",
       "      <td>3</td>\n",
       "      <td>NaN</td>\n",
       "      <td>New York, NY</td>\n",
       "    </tr>\n",
       "    <tr>\n",
       "      <th>6</th>\n",
       "      <td>1</td>\n",
       "      <td>1</td>\n",
       "      <td>Andrews, Miss. Kornelia Theodosia</td>\n",
       "      <td>female</td>\n",
       "      <td>63.0000</td>\n",
       "      <td>1</td>\n",
       "      <td>0</td>\n",
       "      <td>13502</td>\n",
       "      <td>77.9583</td>\n",
       "      <td>D7</td>\n",
       "      <td>S</td>\n",
       "      <td>10</td>\n",
       "      <td>NaN</td>\n",
       "      <td>Hudson, NY</td>\n",
       "    </tr>\n",
       "    <tr>\n",
       "      <th>7</th>\n",
       "      <td>1</td>\n",
       "      <td>0</td>\n",
       "      <td>Andrews, Mr. Thomas Jr</td>\n",
       "      <td>male</td>\n",
       "      <td>39.0000</td>\n",
       "      <td>0</td>\n",
       "      <td>0</td>\n",
       "      <td>112050</td>\n",
       "      <td>0.0000</td>\n",
       "      <td>A36</td>\n",
       "      <td>S</td>\n",
       "      <td>NaN</td>\n",
       "      <td>NaN</td>\n",
       "      <td>Belfast, NI</td>\n",
       "    </tr>\n",
       "    <tr>\n",
       "      <th>8</th>\n",
       "      <td>1</td>\n",
       "      <td>1</td>\n",
       "      <td>Appleton, Mrs. Edward Dale (Charlotte Lamson)</td>\n",
       "      <td>female</td>\n",
       "      <td>53.0000</td>\n",
       "      <td>2</td>\n",
       "      <td>0</td>\n",
       "      <td>11769</td>\n",
       "      <td>51.4792</td>\n",
       "      <td>C101</td>\n",
       "      <td>S</td>\n",
       "      <td>D</td>\n",
       "      <td>NaN</td>\n",
       "      <td>Bayside, Queens, NY</td>\n",
       "    </tr>\n",
       "    <tr>\n",
       "      <th>9</th>\n",
       "      <td>1</td>\n",
       "      <td>0</td>\n",
       "      <td>Artagaveytia, Mr. Ramon</td>\n",
       "      <td>male</td>\n",
       "      <td>71.0000</td>\n",
       "      <td>0</td>\n",
       "      <td>0</td>\n",
       "      <td>PC 17609</td>\n",
       "      <td>49.5042</td>\n",
       "      <td>NaN</td>\n",
       "      <td>C</td>\n",
       "      <td>NaN</td>\n",
       "      <td>22.0</td>\n",
       "      <td>Montevideo, Uruguay</td>\n",
       "    </tr>\n",
       "    <tr>\n",
       "      <th>10</th>\n",
       "      <td>1</td>\n",
       "      <td>0</td>\n",
       "      <td>Astor, Col. John Jacob</td>\n",
       "      <td>male</td>\n",
       "      <td>47.0000</td>\n",
       "      <td>1</td>\n",
       "      <td>0</td>\n",
       "      <td>PC 17757</td>\n",
       "      <td>227.5250</td>\n",
       "      <td>C62 C64</td>\n",
       "      <td>C</td>\n",
       "      <td>NaN</td>\n",
       "      <td>124.0</td>\n",
       "      <td>New York, NY</td>\n",
       "    </tr>\n",
       "    <tr>\n",
       "      <th>11</th>\n",
       "      <td>1</td>\n",
       "      <td>1</td>\n",
       "      <td>Astor, Mrs. John Jacob (Madeleine Talmadge Force)</td>\n",
       "      <td>female</td>\n",
       "      <td>18.0000</td>\n",
       "      <td>1</td>\n",
       "      <td>0</td>\n",
       "      <td>PC 17757</td>\n",
       "      <td>227.5250</td>\n",
       "      <td>C62 C64</td>\n",
       "      <td>C</td>\n",
       "      <td>4</td>\n",
       "      <td>NaN</td>\n",
       "      <td>New York, NY</td>\n",
       "    </tr>\n",
       "    <tr>\n",
       "      <th>12</th>\n",
       "      <td>1</td>\n",
       "      <td>1</td>\n",
       "      <td>Aubart, Mme. Leontine Pauline</td>\n",
       "      <td>female</td>\n",
       "      <td>24.0000</td>\n",
       "      <td>0</td>\n",
       "      <td>0</td>\n",
       "      <td>PC 17477</td>\n",
       "      <td>69.3000</td>\n",
       "      <td>B35</td>\n",
       "      <td>C</td>\n",
       "      <td>9</td>\n",
       "      <td>NaN</td>\n",
       "      <td>Paris, France</td>\n",
       "    </tr>\n",
       "    <tr>\n",
       "      <th>13</th>\n",
       "      <td>1</td>\n",
       "      <td>1</td>\n",
       "      <td>Barber, Miss. Ellen \"Nellie\"</td>\n",
       "      <td>female</td>\n",
       "      <td>26.0000</td>\n",
       "      <td>0</td>\n",
       "      <td>0</td>\n",
       "      <td>19877</td>\n",
       "      <td>78.8500</td>\n",
       "      <td>NaN</td>\n",
       "      <td>S</td>\n",
       "      <td>6</td>\n",
       "      <td>NaN</td>\n",
       "      <td>NaN</td>\n",
       "    </tr>\n",
       "    <tr>\n",
       "      <th>14</th>\n",
       "      <td>1</td>\n",
       "      <td>1</td>\n",
       "      <td>Barkworth, Mr. Algernon Henry Wilson</td>\n",
       "      <td>male</td>\n",
       "      <td>80.0000</td>\n",
       "      <td>0</td>\n",
       "      <td>0</td>\n",
       "      <td>27042</td>\n",
       "      <td>30.0000</td>\n",
       "      <td>A23</td>\n",
       "      <td>S</td>\n",
       "      <td>B</td>\n",
       "      <td>NaN</td>\n",
       "      <td>Hessle, Yorks</td>\n",
       "    </tr>\n",
       "    <tr>\n",
       "      <th>15</th>\n",
       "      <td>1</td>\n",
       "      <td>0</td>\n",
       "      <td>Baumann, Mr. John D</td>\n",
       "      <td>male</td>\n",
       "      <td>NaN</td>\n",
       "      <td>0</td>\n",
       "      <td>0</td>\n",
       "      <td>PC 17318</td>\n",
       "      <td>25.9250</td>\n",
       "      <td>NaN</td>\n",
       "      <td>S</td>\n",
       "      <td>NaN</td>\n",
       "      <td>NaN</td>\n",
       "      <td>New York, NY</td>\n",
       "    </tr>\n",
       "    <tr>\n",
       "      <th>16</th>\n",
       "      <td>1</td>\n",
       "      <td>0</td>\n",
       "      <td>Baxter, Mr. Quigg Edmond</td>\n",
       "      <td>male</td>\n",
       "      <td>24.0000</td>\n",
       "      <td>0</td>\n",
       "      <td>1</td>\n",
       "      <td>PC 17558</td>\n",
       "      <td>247.5208</td>\n",
       "      <td>B58 B60</td>\n",
       "      <td>C</td>\n",
       "      <td>NaN</td>\n",
       "      <td>NaN</td>\n",
       "      <td>Montreal, PQ</td>\n",
       "    </tr>\n",
       "    <tr>\n",
       "      <th>17</th>\n",
       "      <td>1</td>\n",
       "      <td>1</td>\n",
       "      <td>Baxter, Mrs. James (Helene DeLaudeniere Chaput)</td>\n",
       "      <td>female</td>\n",
       "      <td>50.0000</td>\n",
       "      <td>0</td>\n",
       "      <td>1</td>\n",
       "      <td>PC 17558</td>\n",
       "      <td>247.5208</td>\n",
       "      <td>B58 B60</td>\n",
       "      <td>C</td>\n",
       "      <td>6</td>\n",
       "      <td>NaN</td>\n",
       "      <td>Montreal, PQ</td>\n",
       "    </tr>\n",
       "    <tr>\n",
       "      <th>18</th>\n",
       "      <td>1</td>\n",
       "      <td>1</td>\n",
       "      <td>Bazzani, Miss. Albina</td>\n",
       "      <td>female</td>\n",
       "      <td>32.0000</td>\n",
       "      <td>0</td>\n",
       "      <td>0</td>\n",
       "      <td>11813</td>\n",
       "      <td>76.2917</td>\n",
       "      <td>D15</td>\n",
       "      <td>C</td>\n",
       "      <td>8</td>\n",
       "      <td>NaN</td>\n",
       "      <td>NaN</td>\n",
       "    </tr>\n",
       "    <tr>\n",
       "      <th>19</th>\n",
       "      <td>1</td>\n",
       "      <td>0</td>\n",
       "      <td>Beattie, Mr. Thomson</td>\n",
       "      <td>male</td>\n",
       "      <td>36.0000</td>\n",
       "      <td>0</td>\n",
       "      <td>0</td>\n",
       "      <td>13050</td>\n",
       "      <td>75.2417</td>\n",
       "      <td>C6</td>\n",
       "      <td>C</td>\n",
       "      <td>A</td>\n",
       "      <td>NaN</td>\n",
       "      <td>Winnipeg, MN</td>\n",
       "    </tr>\n",
       "  </tbody>\n",
       "</table>\n",
       "</div>"
      ],
      "text/plain": [
       "    pclass  survived                                               name  \\\n",
       "0        1         1                      Allen, Miss. Elisabeth Walton   \n",
       "1        1         1                     Allison, Master. Hudson Trevor   \n",
       "2        1         0                       Allison, Miss. Helen Loraine   \n",
       "3        1         0               Allison, Mr. Hudson Joshua Creighton   \n",
       "4        1         0    Allison, Mrs. Hudson J C (Bessie Waldo Daniels)   \n",
       "5        1         1                                Anderson, Mr. Harry   \n",
       "6        1         1                  Andrews, Miss. Kornelia Theodosia   \n",
       "7        1         0                             Andrews, Mr. Thomas Jr   \n",
       "8        1         1      Appleton, Mrs. Edward Dale (Charlotte Lamson)   \n",
       "9        1         0                            Artagaveytia, Mr. Ramon   \n",
       "10       1         0                             Astor, Col. John Jacob   \n",
       "11       1         1  Astor, Mrs. John Jacob (Madeleine Talmadge Force)   \n",
       "12       1         1                      Aubart, Mme. Leontine Pauline   \n",
       "13       1         1                       Barber, Miss. Ellen \"Nellie\"   \n",
       "14       1         1               Barkworth, Mr. Algernon Henry Wilson   \n",
       "15       1         0                                Baumann, Mr. John D   \n",
       "16       1         0                           Baxter, Mr. Quigg Edmond   \n",
       "17       1         1    Baxter, Mrs. James (Helene DeLaudeniere Chaput)   \n",
       "18       1         1                              Bazzani, Miss. Albina   \n",
       "19       1         0                               Beattie, Mr. Thomson   \n",
       "\n",
       "       sex      age  sibsp  parch    ticket      fare    cabin embarked boat  \\\n",
       "0   female  29.0000      0      0     24160  211.3375       B5        S    2   \n",
       "1     male   0.9167      1      2    113781  151.5500  C22 C26        S   11   \n",
       "2   female   2.0000      1      2    113781  151.5500  C22 C26        S  NaN   \n",
       "3     male  30.0000      1      2    113781  151.5500  C22 C26        S  NaN   \n",
       "4   female  25.0000      1      2    113781  151.5500  C22 C26        S  NaN   \n",
       "5     male  48.0000      0      0     19952   26.5500      E12        S    3   \n",
       "6   female  63.0000      1      0     13502   77.9583       D7        S   10   \n",
       "7     male  39.0000      0      0    112050    0.0000      A36        S  NaN   \n",
       "8   female  53.0000      2      0     11769   51.4792     C101        S    D   \n",
       "9     male  71.0000      0      0  PC 17609   49.5042      NaN        C  NaN   \n",
       "10    male  47.0000      1      0  PC 17757  227.5250  C62 C64        C  NaN   \n",
       "11  female  18.0000      1      0  PC 17757  227.5250  C62 C64        C    4   \n",
       "12  female  24.0000      0      0  PC 17477   69.3000      B35        C    9   \n",
       "13  female  26.0000      0      0     19877   78.8500      NaN        S    6   \n",
       "14    male  80.0000      0      0     27042   30.0000      A23        S    B   \n",
       "15    male      NaN      0      0  PC 17318   25.9250      NaN        S  NaN   \n",
       "16    male  24.0000      0      1  PC 17558  247.5208  B58 B60        C  NaN   \n",
       "17  female  50.0000      0      1  PC 17558  247.5208  B58 B60        C    6   \n",
       "18  female  32.0000      0      0     11813   76.2917      D15        C    8   \n",
       "19    male  36.0000      0      0     13050   75.2417       C6        C    A   \n",
       "\n",
       "     body                        home.dest  \n",
       "0     NaN                     St Louis, MO  \n",
       "1     NaN  Montreal, PQ / Chesterville, ON  \n",
       "2     NaN  Montreal, PQ / Chesterville, ON  \n",
       "3   135.0  Montreal, PQ / Chesterville, ON  \n",
       "4     NaN  Montreal, PQ / Chesterville, ON  \n",
       "5     NaN                     New York, NY  \n",
       "6     NaN                       Hudson, NY  \n",
       "7     NaN                      Belfast, NI  \n",
       "8     NaN              Bayside, Queens, NY  \n",
       "9    22.0              Montevideo, Uruguay  \n",
       "10  124.0                     New York, NY  \n",
       "11    NaN                     New York, NY  \n",
       "12    NaN                    Paris, France  \n",
       "13    NaN                              NaN  \n",
       "14    NaN                    Hessle, Yorks  \n",
       "15    NaN                     New York, NY  \n",
       "16    NaN                     Montreal, PQ  \n",
       "17    NaN                     Montreal, PQ  \n",
       "18    NaN                              NaN  \n",
       "19    NaN                     Winnipeg, MN  "
      ]
     },
     "execution_count": 63,
     "metadata": {},
     "output_type": "execute_result"
    }
   ],
   "source": [
    "#Загрузим данные\n",
    "titanik_excel = pd.read_excel(\"titanic3.xls\")\n",
    "\n",
    "#dataframe.head(#observ) позволяет взглянуть на первые #observ данных, по умолчанию 5\n",
    "titanik_excel.head(20)"
   ]
  },
  {
   "cell_type": "code",
   "execution_count": 67,
   "metadata": {},
   "outputs": [
    {
     "data": {
      "text/html": [
       "<div>\n",
       "<style scoped>\n",
       "    .dataframe tbody tr th:only-of-type {\n",
       "        vertical-align: middle;\n",
       "    }\n",
       "\n",
       "    .dataframe tbody tr th {\n",
       "        vertical-align: top;\n",
       "    }\n",
       "\n",
       "    .dataframe thead th {\n",
       "        text-align: right;\n",
       "    }\n",
       "</style>\n",
       "<table border=\"1\" class=\"dataframe\">\n",
       "  <thead>\n",
       "    <tr style=\"text-align: right;\">\n",
       "      <th></th>\n",
       "      <th>Unnamed: 0</th>\n",
       "      <th>pclass</th>\n",
       "      <th>survived</th>\n",
       "      <th>name</th>\n",
       "      <th>sex</th>\n",
       "      <th>age</th>\n",
       "      <th>sibsp</th>\n",
       "      <th>parch</th>\n",
       "      <th>ticket</th>\n",
       "      <th>fare</th>\n",
       "      <th>cabin</th>\n",
       "      <th>embarked</th>\n",
       "      <th>boat</th>\n",
       "      <th>body</th>\n",
       "      <th>home.dest</th>\n",
       "    </tr>\n",
       "  </thead>\n",
       "  <tbody>\n",
       "    <tr>\n",
       "      <th>0</th>\n",
       "      <td>0</td>\n",
       "      <td>1</td>\n",
       "      <td>1</td>\n",
       "      <td>Allen, Miss. Elisabeth Walton</td>\n",
       "      <td>female</td>\n",
       "      <td>29.0000</td>\n",
       "      <td>0</td>\n",
       "      <td>0</td>\n",
       "      <td>24160</td>\n",
       "      <td>211.3375</td>\n",
       "      <td>B5</td>\n",
       "      <td>S</td>\n",
       "      <td>2</td>\n",
       "      <td>NaN</td>\n",
       "      <td>St Louis, MO</td>\n",
       "    </tr>\n",
       "    <tr>\n",
       "      <th>1</th>\n",
       "      <td>1</td>\n",
       "      <td>1</td>\n",
       "      <td>1</td>\n",
       "      <td>Allison, Master. Hudson Trevor</td>\n",
       "      <td>male</td>\n",
       "      <td>0.9167</td>\n",
       "      <td>1</td>\n",
       "      <td>2</td>\n",
       "      <td>113781</td>\n",
       "      <td>151.5500</td>\n",
       "      <td>C22 C26</td>\n",
       "      <td>S</td>\n",
       "      <td>11</td>\n",
       "      <td>NaN</td>\n",
       "      <td>Montreal, PQ / Chesterville, ON</td>\n",
       "    </tr>\n",
       "    <tr>\n",
       "      <th>2</th>\n",
       "      <td>2</td>\n",
       "      <td>1</td>\n",
       "      <td>0</td>\n",
       "      <td>Allison, Miss. Helen Loraine</td>\n",
       "      <td>female</td>\n",
       "      <td>2.0000</td>\n",
       "      <td>1</td>\n",
       "      <td>2</td>\n",
       "      <td>113781</td>\n",
       "      <td>151.5500</td>\n",
       "      <td>C22 C26</td>\n",
       "      <td>S</td>\n",
       "      <td>NaN</td>\n",
       "      <td>NaN</td>\n",
       "      <td>Montreal, PQ / Chesterville, ON</td>\n",
       "    </tr>\n",
       "    <tr>\n",
       "      <th>3</th>\n",
       "      <td>3</td>\n",
       "      <td>1</td>\n",
       "      <td>0</td>\n",
       "      <td>Allison, Mr. Hudson Joshua Creighton</td>\n",
       "      <td>male</td>\n",
       "      <td>30.0000</td>\n",
       "      <td>1</td>\n",
       "      <td>2</td>\n",
       "      <td>113781</td>\n",
       "      <td>151.5500</td>\n",
       "      <td>C22 C26</td>\n",
       "      <td>S</td>\n",
       "      <td>NaN</td>\n",
       "      <td>135.0</td>\n",
       "      <td>Montreal, PQ / Chesterville, ON</td>\n",
       "    </tr>\n",
       "    <tr>\n",
       "      <th>4</th>\n",
       "      <td>4</td>\n",
       "      <td>1</td>\n",
       "      <td>0</td>\n",
       "      <td>Allison, Mrs. Hudson J C (Bessie Waldo Daniels)</td>\n",
       "      <td>female</td>\n",
       "      <td>25.0000</td>\n",
       "      <td>1</td>\n",
       "      <td>2</td>\n",
       "      <td>113781</td>\n",
       "      <td>151.5500</td>\n",
       "      <td>C22 C26</td>\n",
       "      <td>S</td>\n",
       "      <td>NaN</td>\n",
       "      <td>NaN</td>\n",
       "      <td>Montreal, PQ / Chesterville, ON</td>\n",
       "    </tr>\n",
       "    <tr>\n",
       "      <th>5</th>\n",
       "      <td>5</td>\n",
       "      <td>1</td>\n",
       "      <td>1</td>\n",
       "      <td>Anderson, Mr. Harry</td>\n",
       "      <td>male</td>\n",
       "      <td>48.0000</td>\n",
       "      <td>0</td>\n",
       "      <td>0</td>\n",
       "      <td>19952</td>\n",
       "      <td>26.5500</td>\n",
       "      <td>E12</td>\n",
       "      <td>S</td>\n",
       "      <td>3</td>\n",
       "      <td>NaN</td>\n",
       "      <td>New York, NY</td>\n",
       "    </tr>\n",
       "    <tr>\n",
       "      <th>6</th>\n",
       "      <td>6</td>\n",
       "      <td>1</td>\n",
       "      <td>1</td>\n",
       "      <td>Andrews, Miss. Kornelia Theodosia</td>\n",
       "      <td>female</td>\n",
       "      <td>63.0000</td>\n",
       "      <td>1</td>\n",
       "      <td>0</td>\n",
       "      <td>13502</td>\n",
       "      <td>77.9583</td>\n",
       "      <td>D7</td>\n",
       "      <td>S</td>\n",
       "      <td>10</td>\n",
       "      <td>NaN</td>\n",
       "      <td>Hudson, NY</td>\n",
       "    </tr>\n",
       "  </tbody>\n",
       "</table>\n",
       "</div>"
      ],
      "text/plain": [
       "   Unnamed: 0  pclass  survived  \\\n",
       "0           0       1         1   \n",
       "1           1       1         1   \n",
       "2           2       1         0   \n",
       "3           3       1         0   \n",
       "4           4       1         0   \n",
       "5           5       1         1   \n",
       "6           6       1         1   \n",
       "\n",
       "                                              name     sex      age  sibsp  \\\n",
       "0                    Allen, Miss. Elisabeth Walton  female  29.0000      0   \n",
       "1                   Allison, Master. Hudson Trevor    male   0.9167      1   \n",
       "2                     Allison, Miss. Helen Loraine  female   2.0000      1   \n",
       "3             Allison, Mr. Hudson Joshua Creighton    male  30.0000      1   \n",
       "4  Allison, Mrs. Hudson J C (Bessie Waldo Daniels)  female  25.0000      1   \n",
       "5                              Anderson, Mr. Harry    male  48.0000      0   \n",
       "6                Andrews, Miss. Kornelia Theodosia  female  63.0000      1   \n",
       "\n",
       "   parch  ticket      fare    cabin embarked boat   body  \\\n",
       "0      0   24160  211.3375       B5        S    2    NaN   \n",
       "1      2  113781  151.5500  C22 C26        S   11    NaN   \n",
       "2      2  113781  151.5500  C22 C26        S  NaN    NaN   \n",
       "3      2  113781  151.5500  C22 C26        S  NaN  135.0   \n",
       "4      2  113781  151.5500  C22 C26        S  NaN    NaN   \n",
       "5      0   19952   26.5500      E12        S    3    NaN   \n",
       "6      0   13502   77.9583       D7        S   10    NaN   \n",
       "\n",
       "                         home.dest  \n",
       "0                     St Louis, MO  \n",
       "1  Montreal, PQ / Chesterville, ON  \n",
       "2  Montreal, PQ / Chesterville, ON  \n",
       "3  Montreal, PQ / Chesterville, ON  \n",
       "4  Montreal, PQ / Chesterville, ON  \n",
       "5                     New York, NY  \n",
       "6                       Hudson, NY  "
      ]
     },
     "execution_count": 67,
     "metadata": {},
     "output_type": "execute_result"
    }
   ],
   "source": [
    "#TODO Загрузите данные из .tsv файла (пример в слайдах!). Посмотрите на перввые 7 строк\n",
    "titanik_csv = pd.read_csv(\"titanik.tsv\", sep = \"|\")\n",
    "titanik_csv.head(7)"
   ]
  },
  {
   "cell_type": "code",
   "execution_count": 70,
   "metadata": {},
   "outputs": [
    {
     "data": {
      "text/plain": [
       "0        True\n",
       "1       False\n",
       "2        True\n",
       "3       False\n",
       "4       False\n",
       "5       False\n",
       "6        True\n",
       "7       False\n",
       "8       False\n",
       "9       False\n",
       "10      False\n",
       "11      False\n",
       "12      False\n",
       "13       True\n",
       "14      False\n",
       "15      False\n",
       "16      False\n",
       "17      False\n",
       "18       True\n",
       "19      False\n",
       "20      False\n",
       "21      False\n",
       "22      False\n",
       "23       True\n",
       "24       True\n",
       "25      False\n",
       "26      False\n",
       "27      False\n",
       "28       True\n",
       "29      False\n",
       "        ...  \n",
       "1279     True\n",
       "1280    False\n",
       "1281    False\n",
       "1282    False\n",
       "1283    False\n",
       "1284    False\n",
       "1285    False\n",
       "1286    False\n",
       "1287    False\n",
       "1288    False\n",
       "1289    False\n",
       "1290    False\n",
       "1291    False\n",
       "1292    False\n",
       "1293    False\n",
       "1294    False\n",
       "1295    False\n",
       "1296    False\n",
       "1297    False\n",
       "1298    False\n",
       "1299    False\n",
       "1300    False\n",
       "1301    False\n",
       "1302    False\n",
       "1303    False\n",
       "1304     True\n",
       "1305     True\n",
       "1306    False\n",
       "1307    False\n",
       "1308    False\n",
       "Name: name, Length: 1309, dtype: bool"
      ]
     },
     "execution_count": 70,
     "metadata": {},
     "output_type": "execute_result"
    }
   ],
   "source": [
    "titanik_csv['body'].isnull().sum()\n",
    "titanik_csv['name'].apply(lambda x: 'Miss' in x)\n",
    "#совместная работа\n",
    "#1. Кого больше мужчин или женщин?\n",
    "#2. Отделить первую часть имени (до запятой)\n",
    "#3. Узнать, сколько пропусков в колонке body\n",
    "#4. Удалить колонку body\n",
    "#5. Обращение к строке\n",
    "#6. Разбить возраст на бины\n",
    "#7. Входит ли Miss в name\n",
    "#8. Срез по числу parch (сравнение)\n",
    "#9. Hist по parch"
   ]
  },
  {
   "cell_type": "markdown",
   "metadata": {},
   "source": [
    "# Flask"
   ]
  },
  {
   "cell_type": "code",
   "execution_count": 71,
   "metadata": {},
   "outputs": [
    {
     "name": "stdout",
     "output_type": "stream",
     "text": [
      "Writing simple_flask.py\n"
     ]
    }
   ],
   "source": [
    "%%writefile simple_flask.py\n",
    "\n",
    "from flask import Flask\n",
    "app = Flask(__name__)\n",
    " \n",
    "@app.route(\"/\")\n",
    "def hello():\n",
    "    return \"Hello World!\"\n",
    " \n",
    "if __name__ == \"__main__\":\n",
    "    app.run()\n",
    "    \n",
    "#Теперь нужно запустить, через python simple_flask.py"
   ]
  },
  {
   "cell_type": "code",
   "execution_count": 72,
   "metadata": {},
   "outputs": [
    {
     "name": "stdout",
     "output_type": "stream",
     "text": [
      "Overwriting simple_flask.py\n"
     ]
    }
   ],
   "source": [
    "%%writefile  simple_flask.py\n",
    "\n",
    "from flask import Flask\n",
    "app = Flask(__name__)\n",
    " \n",
    "@app.route(\"/\")\n",
    "def hello():\n",
    "    return \"Hello World!\"\n",
    "\n",
    "@app.route(\"/members/<string:name>/\")\n",
    "def getMember(name):\n",
    "    return name\n",
    "\n",
    "if __name__ == \"__main__\":\n",
    "    app.run()\n",
    "#Теперь нужно запустить, через python simple_flask.py"
   ]
  },
  {
   "cell_type": "code",
   "execution_count": null,
   "metadata": {},
   "outputs": [],
   "source": [
    "#TODO написать сервер, который получает запрос /set_member/name, а по запросу /get_members возвращает всех\n",
    "#memberов через запятую"
   ]
  }
 ],
 "metadata": {
  "anaconda-cloud": {},
  "kernelspec": {
   "display_name": "Python 3",
   "language": "python",
   "name": "python3"
  },
  "language_info": {
   "codemirror_mode": {
    "name": "ipython",
    "version": 3
   },
   "file_extension": ".py",
   "mimetype": "text/x-python",
   "name": "python",
   "nbconvert_exporter": "python",
   "pygments_lexer": "ipython3",
   "version": "3.6.5"
  }
 },
 "nbformat": 4,
 "nbformat_minor": 2
}
